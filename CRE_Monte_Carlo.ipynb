{
  "nbformat": 4,
  "nbformat_minor": 0,
  "metadata": {
    "colab": {
      "name": "CRE_Monte_Carlo.ipynb",
      "provenance": [],
      "collapsed_sections": [],
      "include_colab_link": true
    },
    "kernelspec": {
      "name": "python3",
      "display_name": "Python 3"
    }
  },
  "cells": [
    {
      "cell_type": "markdown",
      "metadata": {
        "id": "view-in-github",
        "colab_type": "text"
      },
      "source": [
        "<a href=\"https://colab.research.google.com/github/tedteske/CRE_Monte_Carlo/blob/master/CRE_Monte_Carlo.ipynb\" target=\"_parent\"><img src=\"https://colab.research.google.com/assets/colab-badge.svg\" alt=\"Open In Colab\"/></a>"
      ]
    },
    {
      "cell_type": "markdown",
      "metadata": {
        "id": "wT8Wvlb6gUlE",
        "colab_type": "text"
      },
      "source": [
        "### Import libraries and class definition\n"
      ]
    },
    {
      "cell_type": "code",
      "metadata": {
        "id": "j2C6hKNIcoBb",
        "colab_type": "code",
        "cellView": "both",
        "colab": {}
      },
      "source": [
        "import warnings\n",
        "warnings.simplefilter(action='ignore', category=FutureWarning)\n",
        "warnings.simplefilter(action='ignore', category=DeprecationWarning)\n",
        "\n",
        "import pandas as pd\n",
        "import numpy as np\n",
        "import seaborn as sns\n",
        "import matplotlib.pyplot as plt\n",
        "from scipy.stats import norm, truncnorm, skew\n",
        "import statsmodels.api as sm  # for calculating elasticities\n",
        "\n",
        "pd.options.mode.chained_assignment = None  # solve why this is necessary\n",
        "# pd.set_option('max_columns', None)  # to prevent pandas truncating print(df)\n",
        "pd.reset_option('max_columns')  # to reset to default setting\n",
        "\n",
        "\n",
        "class apartment_complex:\n",
        "\n",
        "    def __init__(self, project_params, common_params, description=None):\n",
        "\n",
        "        self.description = description\n",
        "        self.project_params = project_params \n",
        "        # because used in print_simulation()\n",
        "        \n",
        "        self.v = common_params.copy()\n",
        "        self.v.update(project_params) \n",
        "        # project_params override common_params where equal\n",
        "        \n",
        "        for k in sorted(self.v.keys()): \n",
        "            self.v[k] = self.parse_input_params(self.v[k])\n",
        "        self.v = pd.DataFrame.from_dict(self.v, orient='columns')\n",
        "        # self.iter_params()\n",
        "        \n",
        "    def parse_input_params(self, var_params):\n",
        "        '''     \n",
        "        Converts model parameter item to a list of length 5 and fill blanks. \n",
        "\n",
        "        Parameters\n",
        "        ----------\n",
        "        var_params (list) : mu, sigma, lower bound, upper bound; \n",
        "            not always complete\n",
        "\n",
        "        Returns\n",
        "        -------\n",
        "        var_params (list) : mu, sigma, lower bound, upper bound, 0; \n",
        "            Last list item is a placeholder for a single sample draw.\n",
        "        '''\n",
        "\n",
        "        if type(var_params) in (int, float): \n",
        "            var_params = [var_params]\n",
        "        \n",
        "        var_params = var_params + [0, None, None, None, None][len(var_params):] \n",
        "        var_params[2] = var_params[2] if var_params[2] is not None else -np.inf\n",
        "        var_params[3] = var_params[3] if var_params[3] is not None else np.inf\n",
        "        var_params[4] = var_params[4] if var_params[4] is not None else 0\n",
        "\n",
        "        return var_params    \n",
        "    \n",
        "    def sample_draw(self, var_params):\n",
        "        '''\n",
        "        Draws normal variates subject to lower and upper bounds. [1]\n",
        "\n",
        "        Parameters\n",
        "        ----------\n",
        "        var_params (list) : mu, sigma, lower bound, upper bound\n",
        "\n",
        "        Returns\n",
        "        -------\n",
        "        draw (float) : random variate from normal or truncnorm distribution\n",
        "        \n",
        "        Notes\n",
        "        -----\n",
        "        [1] see for a description of the method\n",
        "            http://web.ist.utl.pt/~ist11038/compute/qc/,truncG#/lecture4k.pdf\n",
        "        '''\n",
        "        \n",
        "        mu, sigma, lower, upper = var_params[:4]\n",
        "        \n",
        "        if sigma in (None, 0) or np.isnan(sigma):\n",
        "            draw = mu\n",
        "        else:      \n",
        "            if np.isinf(lower) and np.isinf(upper): \n",
        "                # If no upper or lower bounds, draw from normal distribution.  \n",
        "                draw = norm.rvs(loc=mu, scale=sigma) \n",
        "            else:  \n",
        "                # Else draw from truncnorm distribution.\n",
        "                lower_std, upper_std = (lower-mu)/sigma, (upper-mu)/sigma\n",
        "                \n",
        "                lower_pdf = norm.pdf(lower_std, loc=0, scale=1)\n",
        "                upper_pdf = norm.pdf(upper_std, loc=0, scale=1)\n",
        "                \n",
        "                lower_cdf = norm.cdf(lower_std, loc=0, scale=1)\n",
        "                upper_cdf = norm.cdf(upper_std, loc=0, scale=1)\n",
        "\n",
        "                if np.isfinite(lower) and np.isfinite(upper): \n",
        "                    # If both lower and upper finite\n",
        "                    a = upper_std * upper_pdf - lower_std * lower_pdf\n",
        "                    b = upper_cdf - lower_cdf\n",
        "                    c = ((upper_pdf - lower_pdf) / (upper_cdf - lower_cdf))**2               \n",
        "                elif np.isfinite(lower):\n",
        "                    # If lower but not upper is finite\n",
        "                    a = lower_std * lower_pdf\n",
        "                    b = 1 - lower_cdf\n",
        "                    c = (lower_pdf / (1 - lower_cdf))**2\n",
        "                else:\n",
        "                    # If upper but not lower is finite\n",
        "                    a = upper_std * upper_pdf\n",
        "                    b = upper_cdf\n",
        "                    c = (upper_pdf / upper_cdf)**2\n",
        "                    \n",
        "                sigma2 = np.sqrt(sigma**2/(1 - a/b - c))\n",
        "                \n",
        "                pdf_diff = upper_pdf - lower_pdf\n",
        "                cdf_diff = upper_cdf - lower_cdf\n",
        "                mu2 = mu + (sigma2 * pdf_diff / cdf_diff)\n",
        "                \n",
        "                draw = truncnorm.rvs((lower - mu2)/sigma2,\n",
        "                                     (upper - mu2)/sigma2,\n",
        "                                     loc=mu2, scale=sigma2)\n",
        "                \n",
        "            # to give draw same number of decimal places as mu\n",
        "            # draw = round(draw, len(str(mu).split('.')[1])) \n",
        "\n",
        "        return draw\n",
        "    \n",
        "    def draw_params(self, s):\n",
        "        '''\n",
        "        Applies sample draw to full set of variables and append draw set to \n",
        "        dataframe\n",
        "\n",
        "        Parameters\n",
        "        ----------\n",
        "        s (int) : simulation index\n",
        "        '''\n",
        "       \n",
        "        self.v.loc[s] = self.v.loc[:4].apply(self.sample_draw, \n",
        "                                             axis=0, raw=False)\n",
        "                 \n",
        "    def iter_params(self, n=10): \n",
        "        '''\n",
        "        Runs draw_params, simulate n times, appends simulations to multiindex \n",
        "        dataframe.\n",
        "\n",
        "        Parameters\n",
        "        ----------\n",
        "        s (int) : simulation index\n",
        "        n (int) : number of iterations (default 10)    \n",
        "        ''' \n",
        "\n",
        "        index = range(5, n + 5)\n",
        "        columns = self.v.columns\n",
        "        df = pd.DataFrame(index=index, columns=columns)\n",
        "        df = df.fillna(0)  # with 0s rather than NaNs\n",
        "      \n",
        "        self.v = pd.concat([self.v[:5], df])\n",
        "        \n",
        "        func = lambda x: self.sample_draw(self.v[col])       \n",
        "        for col in columns:     \n",
        "            self.v[col][5:] = self.v[col][5:].apply(func)\n",
        "    \n",
        "        p = pd.concat([self.simulate(0)], keys=[0])\n",
        "        for s in index:\n",
        "            p2 = pd.concat([self.simulate(s)], keys=[s])\n",
        "            p = pd.concat([p, p2])    \n",
        "              \n",
        "        self.p = p\n",
        "     \n",
        "    def simulate(self, s=0):\n",
        "        '''\n",
        "        Simulates rental rates, occupancy, and cash flows.\n",
        "\n",
        "        Parameters\n",
        "        ----------\n",
        "        s (int) : simulation index\n",
        "            None if using last param set\n",
        "            0 if default params\n",
        "            4 if single new draw\n",
        "            >4 if draw result of n iterations\n",
        "\n",
        "        Returns\n",
        "        -------\n",
        "        DataFrame\n",
        "        '''\n",
        "        \n",
        "        if s == 4:\n",
        "            self.draw_params(s)\n",
        "                \n",
        "        # --- setup dataframe --- #\n",
        "        index = range(0, int(self.v[\"years\"][s]) + 1)\n",
        "        columns = ['OCC', 'RATE', 'PURCH_SALE', 'CAPEX_MAINT', 'CAPEX_REHAB', \n",
        "                   'LOAN', 'PMT',\n",
        "                   'REV_BASE', 'REV_PREMS', 'OE', 'NOI',\n",
        "                   'FCFE', 'DSCR', 'NOIM', 'COC', 'DEBT_Y', 'IRR', 'NPV']\n",
        "        df = pd.DataFrame(index=index, columns=columns)\n",
        "        df = df.fillna(0)  # with 0s rather than NaNs\n",
        "        \n",
        "        # --- fill with estimated values --- #\n",
        "        g_years = df.index.to_numpy() - 1\n",
        "        growth_costs_factor = (1 + self.v['growth_costs'][s])**g_years\n",
        "        growth_revs_factor = (1 + self.v['growth_revs'][s])**g_years\n",
        "        \n",
        "        df['CAPEX_MAINT'][0] = -self.v['deferred_maint'][s]\n",
        "        df['CAPEX_MAINT'][1:] = (self.v['rental_units'][s] \n",
        "                                 * -self.v['maint_reserve_per_unit'][s])\n",
        "        df['CAPEX_MAINT'][1:] = (df['CAPEX_MAINT'] * growth_costs_factor)[1:] \n",
        "            \n",
        "        stab_year = int(self.v['transition_years'][s] + 1)\n",
        "        df['OCC'] = (self.v['occ_now'][s] \n",
        "                     + (self.v['occ_stab'][s] - self.v['occ_now'][s]) \n",
        "                     * (2 * df.index - 1)/(2 * self.v['transition_years'][s]))\n",
        "        df['OCC'][0] = self.v['occ_now'][s]\n",
        "        df['OCC'][stab_year:] = self.v['occ_stab'][s]\n",
        "        \n",
        "        df['RATE'] = ((self.v['rent_rate_stab'][s] \n",
        "                       - self.v['rent_rate_now'][s]) \n",
        "                      * (2 * df.index - 1) \n",
        "                      / (2 * self.v['transition_years'][s]) \n",
        "                      + self.v['rent_rate_now'][s])\n",
        "        df['RATE'][0] = self.v['rent_rate_now'][s]\n",
        "        df['RATE'][stab_year:] = self.v['rent_rate_stab'][s]\n",
        "        \n",
        "        df['REV_BASE'] = (df['RATE'] * 12 \n",
        "                          * growth_revs_factor \n",
        "                          * (1 + self.v['other_income'][s]) \n",
        "                          * (1 - self.v['credit_loss'][s])\n",
        "                          * self.v['rental_units'][s] \n",
        "                          * df['OCC'])\n",
        "        \n",
        "        rehab_costs, rehab_prems = self.rehab_effects(s)\n",
        "        df['REV_PREMS'][1:] = rehab_prems\n",
        "        df['CAPEX_REHAB'][1:] = -rehab_costs\n",
        "        \n",
        "        if np.isnan(self.v['oe_per_unit'][s]):\n",
        "            df['OE'] = (-self.v['oe_ratio'][s] \n",
        "                        * df['REV_BASE'][1]\n",
        "                        * growth_costs_factor) \n",
        "        else:    \n",
        "            df['OE'] = (-self.v['oe_per_unit'][s] \n",
        "                        * self.v['rental_units'][s] \n",
        "                        * growth_costs_factor)\n",
        "        \n",
        "        df['OE'] = (df['OE'] \n",
        "                    + (df['REV_BASE'] + df['REV_PREMS']) \n",
        "                    * -self.v['mgmt_fee'][s])\n",
        "        \n",
        "        df['REV_BASE'][0], df['REV_PREMS'][0], df['OE'][0] = 0, 0, 0\n",
        "        df['NOI'] = df['REV_BASE'] + df['REV_PREMS'] + df['OE']\n",
        "        \n",
        "        appraisal_NOI, appraisal = self.appraisal()\n",
        "        if np.isnan(self.v['purch_price'][s]): \n",
        "            df['PURCH_SALE'][0] = -appraisal\n",
        "        else:\n",
        "            df['PURCH_SALE'][0] = -self.v['purch_price'][s]\n",
        "        df['PURCH_SALE'][self.v['years'][s]] = (df['NOI'][self.v['years'][s]]\n",
        "                                                / self.v['caprate_exit'][s])\n",
        "        \n",
        "        loan, payoff, pmt, io_pmt = self.loan(appraisal_NOI, appraisal, s)\n",
        "        df['LOAN'][0] = loan\n",
        "        df['PMT'][1:] = pmt\n",
        "        df['PMT'][1:int(self.v['loan_IO_term'][s] + 1)] = io_pmt\n",
        "        df['LOAN'][self.v['years'][s]] = payoff\n",
        "        \n",
        "        df['FCFE'] = (df['PURCH_SALE'] + df['CAPEX_MAINT'] + df['CAPEX_REHAB'] \n",
        "                      + df['LOAN'] + df['PMT'] + df['NOI'])\n",
        "        \n",
        "        # Debt Service Coverage Ratio\n",
        "        df['DSCR'] = df['NOI'][1:] / -df['PMT'][1:] \n",
        "        \n",
        "        # Cumulative levered IRR to end of year\n",
        "        df['IRR'] = df['FCFE'].expanding().apply(np.irr, raw=False) \n",
        "        \n",
        "        # Cash-on-cash return\n",
        "        df['COC'] = df['FCFE'][1:] / -df['FCFE'][0]  \n",
        "        \n",
        "        # Net Present Value\n",
        "        df['NPV'] = np.nan \n",
        "        df['NPV'][-1:] = np.npv(self.v['discount_rate'][s], df['FCFE'])\n",
        "        \n",
        "        # NOI margin\n",
        "        df['NOIM'] = df['NOI'][1:] / (df['REV_BASE'][1:] + df['REV_PREMS'][1:])\n",
        "\n",
        "        # Debt Yield\n",
        "        df['DEBT_Y'] = df['NOI'][1:] / loan \n",
        "        \n",
        "        self.simulation = df\n",
        "        \n",
        "        return self.simulation\n",
        "    \n",
        "    def IRR_attrib(self, s=0, summary=False, formatted=True):\n",
        "        '''     \n",
        "        Decomposes levered IRR [1] into contributions from \n",
        "            market_effects\n",
        "                NOI_baseline : Year 1 NOI held constant over term\n",
        "                capex_maint : deferred maintenance and maintenance-type capex\n",
        "                caprate_compression : capital gains from of change in caprate \n",
        "            mgmt_effects\n",
        "                NOI_improvement\n",
        "                capex_rehab\n",
        "                purch_sale_at_caprate_entry\n",
        "            leverage\n",
        "\n",
        "        Parameters\n",
        "        ----------\n",
        "        s (int) : simulation index\n",
        "        summary (bool) : if True, group by market_effects, mgmt_effects, \n",
        "            and leverage\n",
        "        formatted (bool or str) : \n",
        "            if True, return DataFrame.\n",
        "                with money and rate columns formatted for readability\n",
        "            if 'pretty', format and pretty print\n",
        "            if False, return DataFrame, unformatted\n",
        "\n",
        "        Returns\n",
        "        -------\n",
        "        contribs (DataFrame or string print) : levered IRR, decomposed\n",
        "        \n",
        "        Notes\n",
        "        -----\n",
        "        [1] see for a description of the method\n",
        "            https://www.mckinsey.com/business-functions/\n",
        "            strategy-and-corporate-finance/our-insights/\n",
        "            a-better-way-to-understand-internal-rate-of-return\n",
        "        '''\n",
        "\n",
        "        df = self.p.copy()\n",
        "        \n",
        "        def nfv(rate, vals):\n",
        "            # net future value\n",
        "            count = len(vals)-2\n",
        "            return np.npv(rate, vals) * (1 + rate)**count\n",
        "\n",
        "        leverage_ = df['LOAN'].loc[s] + df['PMT'].loc[s]\n",
        "\n",
        "        IRR_unlev = np.irr(df['FCFE'].loc[s] - leverage_)\n",
        "        leverage = df['IRR'].loc[s].iloc[-1] - IRR_unlev\n",
        "\n",
        "        NOI_baseline_ = df['NOI'].loc[s].copy()\n",
        "        NOI_baseline_[1:] = NOI_baseline_[1]\n",
        "        NOI_baseline = nfv(IRR_unlev, NOI_baseline_)\n",
        "\n",
        "        capex_maint = nfv(IRR_unlev, df['CAPEX_MAINT'].loc[s])\n",
        "\n",
        "        NOI_improvement = df['NOI'].loc[s] - NOI_baseline_\n",
        "        NOI_improvement = nfv(IRR_unlev, NOI_improvement)\n",
        "\n",
        "        capex_rehab = nfv(IRR_unlev, df['CAPEX_REHAB'].loc[s])\n",
        "\n",
        "        purch = df['PURCH_SALE'].loc[s].iloc[0]\n",
        "        sale_at_caprate_entry = (df['NOI'].loc[s].iloc[-1]\n",
        "                                 / self.v['caprate_entry'].loc[s])\n",
        "        purch_sale_at_caprate_entry = purch + sale_at_caprate_entry\n",
        "\n",
        "        caprate_compression = (df['NOI'].loc[s].iloc[-1]\n",
        "                               / self.v['caprate_exit'].loc[s] \n",
        "                               - sale_at_caprate_entry)\n",
        "\n",
        "        contribs = {'NOI_baseline': NOI_baseline,\n",
        "                    'capex_maint': capex_maint,\n",
        "                    'caprate_compression': caprate_compression,\n",
        "                    'NOI_improvement': NOI_improvement,\n",
        "                    'capex_rehab': capex_rehab,\n",
        "                    'purch_sale_at_caprate_entry': purch_sale_at_caprate_entry}\n",
        "        contribs = pd.Series(contribs)\n",
        "        contribs = contribs/sum(contribs) * IRR_unlev\n",
        "        contribs = contribs.append(pd.Series({'leverage': leverage}))\n",
        "\n",
        "        if summary:  \n",
        "            contribs = {'market_effects': contribs[:3].sum(),\n",
        "                        'mgmt_effects': contribs[3:6].sum(),\n",
        "                        'leverage': leverage}\n",
        "            contribs = pd.Series(contribs)\n",
        "            \n",
        "        if formatted:\n",
        "                return contribs.map('{:.1%}'.format)\n",
        "        else:\n",
        "            return contribs\n",
        "       \n",
        "    def appraisal(self, s=0):\n",
        "        '''\n",
        "        Estimates an initial appraisal value and appraiser's assumed NOI.\n",
        "        \n",
        "        Parameters\n",
        "        ----------\n",
        "        s (int) : simulation index\n",
        "\n",
        "        Returns\n",
        "        -------\n",
        "        appraisal_NOI (float)\n",
        "        appraisal (float)\n",
        "        ''' \n",
        "\n",
        "        revs_per_unit = (self.v['rent_rate_stab'][s] * 12 \n",
        "                         * (1 + self.v['other_income'][s]) \n",
        "                         * (1 - self.v['credit_loss'][s])\n",
        "                         * self.v['occ_stab'][s])\n",
        "        if np.isnan(self.v['oe_per_unit'][s]):\n",
        "            oe_per_unit = -self.v['oe_ratio'][s] * revs_per_unit\n",
        "        else:\n",
        "            oe_per_unit = -self.v['oe_per_unit'][s]\n",
        "        oe_per_unit += -self.v['mgmt_fee'][s] * revs_per_unit\n",
        "        \n",
        "        appraisal_NOI = ((revs_per_unit + oe_per_unit) \n",
        "                         * self.v['rental_units'][s])\n",
        "        appraisal = appraisal_NOI / self.v['caprate_entry'][s]\n",
        "        \n",
        "        return appraisal_NOI, appraisal \n",
        "    \n",
        "    def loan(self, appraisal_NOI, appraisal, s=0):\n",
        "        '''\n",
        "        Calculates loan amount (PV), loan payment (PMT), payoff (FV), \n",
        "        and io_pmt; subject to LTV and DSCR constraints.\n",
        "               \n",
        "        Parameters\n",
        "        ----------\n",
        "        s (int) : simulation index\n",
        "\n",
        "        Returns\n",
        "        -------\n",
        "        loan (float) : loan principle amount\n",
        "        payoff (float) : loan payoff or balloon payment at end of horizon\n",
        "        PMT (float) : annual loan payment\n",
        "        io_pmt (float) : interest-only payment during IO term\n",
        "        ''' \n",
        "               \n",
        "        rate = self.v['loan_rate'][s]\n",
        "        amort = self.v['loan_amort'][s]\n",
        "        LTV = self.v['loan_constraint_LTV'][s]\n",
        "        DSCR = self.v['loan_constraint_DSCR'][s]\n",
        "        years = self.v['years'][s]\n",
        "        loan_IO_term = self.v['loan_IO_term'][s]\n",
        "        costs = self.v['loan_costs'][s]\n",
        "        loan_amount = self.v['loan_amount'][s]\n",
        "\n",
        "        PVAfactor = (1 - (1 + rate)**-amort) / rate\n",
        "        FV_factor = (1 + rate)**(years - loan_IO_term)\n",
        "\n",
        "        if np.isnan(loan_amount):\n",
        "            PV = appraisal * LTV / (1 + costs) \n",
        "            PMT = -min(PV / PVAfactor, appraisal_NOI / DSCR)\n",
        "            PV = PMT * PVAfactor  # in case PV limited by DSCR\n",
        "        else:\n",
        "            PV = loan_amount\n",
        "            PMT = PV / PVAfactor\n",
        "        \n",
        "        payoff = PV * FV_factor - PMT * ((FV_factor - 1) / rate)\n",
        "        loan = -PV * (1 - costs)  # so sign shows CF direction\n",
        "        io_pmt = PV * rate \n",
        "        \n",
        "        return loan, payoff, PMT, io_pmt \n",
        "    \n",
        "    def rehab_effects(self, s=0):\n",
        "        '''\n",
        "        Spreads rent-enhancing rehab costs and benefits over horizon.\n",
        "               \n",
        "        Parameters\n",
        "        ----------\n",
        "        s (int) : simulation index\n",
        "\n",
        "        Returns\n",
        "        -------\n",
        "        rehab_costs (array)\n",
        "        rehab_prems (array)\n",
        "        '''\n",
        "\n",
        "        turnover = self.v['turnover'][s] \n",
        "        rental_units = self.v['rental_units'][s]\n",
        "        years = self.v['years'][s]\n",
        "        rehab_opps = np.ceil(turnover**np.arange(0, years) * rental_units)\n",
        "\n",
        "        cost_per_rehab = self.v['rehab_cost'][s]\n",
        "        growth_costs = self.v['growth_costs'][s]\n",
        "        growth_costs_factors = (1 + growth_costs)**np.arange(0, years) \n",
        "        costs = growth_costs_factors * cost_per_rehab\n",
        "        rehab_costs = costs * rehab_opps * turnover\n",
        "\n",
        "        rehab_prem = self.v['rehab_prem'][s]\n",
        "        growth_revs = self.v['growth_revs'][s]\n",
        "        occ = self.v['occ_stab'][s] \n",
        "        growth_revs_factors = (1 + growth_revs)**np.arange(0, years)\n",
        "        rehab_benefits_unit = growth_revs_factors * rehab_prem * 12 * occ\n",
        "        rehab_prems = (rental_units - rehab_opps) * rehab_benefits_unit \n",
        "        \n",
        "        return rehab_costs, rehab_prems\n",
        "   \n",
        "    def print_simulation(self, s=None, transpose=True, formatted=True):\n",
        "        '''\n",
        "        Pretty prints or returns DataFrame of a single simulation. \n",
        "\n",
        "        Parameters\n",
        "        ----------\n",
        "        s (int) : simulation index\n",
        "                None if using last param set\n",
        "                0 if default params\n",
        "                4 if single new draw\n",
        "                >4 if draw result of n iterations\n",
        "        transpose (bool) : if True, move columns to rows\n",
        "        formatted (bool or str) : \n",
        "            if True, return DataFrame.\n",
        "                with money and rate columns formatted for readability\n",
        "            if 'pretty', format and pretty print\n",
        "            if False, return DataFrame, unformatted\n",
        "\n",
        "        Returns\n",
        "        -------\n",
        "        DataFrame if formatted=='pretty'\n",
        "        '''\n",
        "        \n",
        "        if s is None:\n",
        "            try:\n",
        "                df = self.simulation.copy()\n",
        "            except:\n",
        "                df = self.simulate(0).copy()\n",
        "        else: \n",
        "            df = self.simulate(s).copy()\n",
        "        \n",
        "        if formatted is not False:\n",
        "            df = self.format_columns(df)\n",
        "\n",
        "        if formatted == 'pretty':\n",
        "            df[' '] = \" \"   # used as a spacer\n",
        "            df = df[['OCC', 'RATE', \n",
        "                     ' ', 'REV_BASE', 'REV_PREMS', 'OE', 'NOI', \n",
        "                     ' ', 'PURCH_SALE', 'CAPEX_MAINT', 'CAPEX_REHAB', \n",
        "                     ' ', 'LOAN', 'PMT',\n",
        "                     ' ', 'FCFE', 'DSCR', 'NOIM', 'COC', 'DEBT_Y', \n",
        "                     'IRR', 'NPV']]\n",
        "            \n",
        "            df = df.T  # ignoring transpose flag, transpose if pretty print\n",
        "            if self.description is None:\n",
        "                title = \"SIMULATION \" + str(s)\n",
        "            else:    \n",
        "                title = str(self.description).upper() + \" SIMULATION \" + str(s)\n",
        "            print(title)\n",
        "            print(\"=\" * len(title))\n",
        "            print(df)\n",
        "        \n",
        "        else: \n",
        "            if transpose:\n",
        "                df = df.T\n",
        "            return df\n",
        "\n",
        "    def top(self, col, n=3, year=None, bottom=False, formatted=True):\n",
        "        '''     \n",
        "        Pretty prints or returns DataFrame of top (or bottom) n simulations \n",
        "        sorted by column col.\n",
        "\n",
        "        Parameters\n",
        "        ----------\n",
        "        col (str or list of str) : param or simulation column\n",
        "        n (int) : number of simulations printed (default 3)\n",
        "        year (int) : year in horizon over which to calculate summary stats \n",
        "            of a simulation result. Ignored if summarizing a param.\n",
        "        bottom (bool) : if True, take bottom, rather than top, n simulations\n",
        "        formatted (bool or str) : \n",
        "            if True, return DataFrame.\n",
        "                with money and rate columns formatted for readability\n",
        "            if 'pretty', format and pretty print\n",
        "            if False, return DataFrame, unformatted\n",
        "\n",
        "        Returns\n",
        "        -------\n",
        "        DataFrame if formatted=='pretty'\n",
        "        '''\n",
        "    \n",
        "        df = self.p.copy()\n",
        "        \n",
        "        try:\n",
        "            var = self.v[col][5:]\n",
        "        except:\n",
        "            if year is None: \n",
        "                year = self.v['years'][0]\n",
        "            var = df.xs(year, level=1).iloc[5:][col]  \n",
        "        \n",
        "        if bottom: \n",
        "            title = \"BOTTOM \"\n",
        "            sims = var.nsmallest(n).index\n",
        "        else: \n",
        "            title = \"TOP \"\n",
        "            sims = var.nlargest(n).index\n",
        "        \n",
        "        if formatted is not False:\n",
        "            df = self.format_columns(df)\n",
        "        \n",
        "        if formatted == 'pretty':\n",
        "            print(title + str(n) + \" \" + col + \" SCENARIOS\")\n",
        "            for i in sims:\n",
        "                print(\"\\n\")\n",
        "                self.print_simulation(i, True, 'pretty')\n",
        "        else:\n",
        "            return df.loc[sims].stack().unstack(level=1)\n",
        "    \n",
        "    def format_columns(self, df):\n",
        "        '''\n",
        "        Styles money and rate columns for readability and removes NaNs.\n",
        "        '''\n",
        "\n",
        "        # format money columns\n",
        "        for column in ['PURCH_SALE', 'CAPEX_MAINT', 'CAPEX_REHAB', \n",
        "                       'LOAN', 'PMT', \n",
        "                       'REV_BASE', 'REV_PREMS', 'OE', 'NOI', \n",
        "                       'FCFE', 'NPV']:\n",
        "            df[column] = df[column].map('{:,.0f}'.format)\n",
        "        df['RATE'] = df['RATE'].map('{:,.2f}'.format)\n",
        "\n",
        "        # format rate columns\n",
        "        for column in ['OCC', 'IRR', 'COC', 'NOIM', 'DEBT_Y']:\n",
        "            df[column] = df[column].map('{:,.1%}'.format)\n",
        "        df[\"DSCR\"] = df['DSCR'].map('{:,.2f}'.format) \n",
        "\n",
        "        for column in ['DSCR', 'IRR', 'COC', 'NPV', 'NOIM', 'DEBT_Y']:\n",
        "            df[column].replace(['None', 'NaN', np.nan, 'nan', 'nan%'], \"\", \n",
        "                               inplace=True)\n",
        "        \n",
        "        return df\n",
        "    \n",
        "    def print_params(self, s=0, print_common_params=False):   \n",
        "        '''\n",
        "        Pretty prints set of input params and values.  \n",
        "\n",
        "        Parameters\n",
        "        ----------\n",
        "        s (int) : simulation index\n",
        "                None if using last param set\n",
        "                0 if default params\n",
        "                4 if single new draw\n",
        "                >4 if draw result of n iterations\n",
        "        print_common_params (bool) : if True, include common params.\n",
        "        '''\n",
        "        \n",
        "        df = self.v[:5]\n",
        "        \n",
        "        if s == 4: \n",
        "            self.draw_params(s)\n",
        "        elif s > 4:\n",
        "            df = pd.concat([df, self.v[s:s + 1]])\n",
        "        \n",
        "        assumption_set = \"(estimate, stdev, min, max, draw)\"\n",
        "        if print_common_params:\n",
        "            keys = sorted(self.v.keys())\n",
        "            title = \"ALL MODEL ASSUMPTIONS \" + assumption_set\n",
        "        else:    \n",
        "            keys = sorted(self.project_params.keys())\n",
        "            title = \"PROJECT-SPECIFIC MODEL ASSUMPTIONS \" + assumption_set\n",
        "            \n",
        "        print(title)\n",
        "        print(\"=\" * len(title)) \n",
        "        for k in keys: \n",
        "            print(k, \":\", df[k].tolist())\n",
        "    \n",
        "    def describe(self, col, year=None, scale=1):\n",
        "        '''\n",
        "        Prints a table of summary statistics on column(s) col.\n",
        "\n",
        "        Parameters\n",
        "        ----------\n",
        "        col (str or list of str) : param or simulation column\n",
        "        year (int) :  year in horizon over which to calculate summary stats \n",
        "            of a simulation result; ignored if summarizing a param\n",
        "        scale (float) : scales the summary statistics\n",
        "        '''\n",
        "\n",
        "        if type(col) == str:\n",
        "            col = [col]\n",
        "        if not hasattr(scale, '__iter__'): \n",
        "            scale = [scale] * len(col)  # if scale not an iterable\n",
        "        df = pd.DataFrame()\n",
        "        \n",
        "        for i, c in enumerate(col):\n",
        "            try:\n",
        "                df = df.append(self.v[c][5:] * scale[i]) \n",
        "            except:\n",
        "                if year is None:\n",
        "                    year = self.v['years'][0]\n",
        "                df = df.append(self.p.xs(year, level=1).iloc[5:][c] * scale[i]) \n",
        "              \n",
        "        described = df.T.describe([0.05, 0.25, 0.5, 0.75, 0.95])\n",
        "        print(described.applymap('{0:,.2f}'.format))\n",
        "             \n",
        "    def elasticities(self, col=\"NPV\"):\n",
        "        '''\n",
        "        Print estimated param elasticities of col (e.g. occ_stab elasticity \n",
        "        of NPV) and associated p-values. Elasticities are estimated only for\n",
        "        stochastic params.\n",
        "        \n",
        "        Parameters\n",
        "        ----------\n",
        "        col (str) : simulation column\n",
        "        '''  \n",
        "\n",
        "        year = self.v['years'][0]\n",
        "\n",
        "        df1 = pd.DataFrame(self.p.xs(year, level=1).iloc[5:][col])\n",
        "        \n",
        "        s = ~np.isnan(self.v[1:2]).T[1]\n",
        "        df2 = self.v[5:][[column for column in s[s==True].index]]\n",
        "        df3 = df1.join(df2)\n",
        "        \n",
        "        df3 = df3[(df3 > 0).all(1)] \n",
        "        # removes any row with a negative number in any column\n",
        "        \n",
        "        OLS_dep_var = np.log(df3[col])   # response\n",
        "        OLS_ind_var = np.log(df3.drop([col], axis=1))  # predictor\n",
        "\n",
        "        elasticity_estimate = sm.OLS(OLS_dep_var, \n",
        "                                     OLS_ind_var, missing='drop').fit()\n",
        "\n",
        "        title = \"SENSITIVITY ANALYSIS: ELASTICITY OF \" \n",
        "        title += str(col) + \" WITH RESPECT TO UNCERTAIN ASSUMPTIONS\"\n",
        "        print(title)\n",
        "        print(\"=\" * len(title))\n",
        "        print (pd.DataFrame({'elasticity': elasticity_estimate.params.round(2),\n",
        "                             'p-value': elasticity_estimate.pvalues.round(2)}))\n",
        "    \n",
        "    def plot_col(self, col, year=None, xlabel=None, \n",
        "                 scale=1, bw=0.05, kde=True):\n",
        "        '''\n",
        "        Plots a distribution of columns col as a histogram or kernel density \n",
        "        estimate.\n",
        "\n",
        "        Parameters\n",
        "        ----------\n",
        "        col (str) : simulation column\n",
        "        year (int) :  year in horizon over which to plot simulation results; \n",
        "            ignored if summarizing a param\n",
        "        scale (float) : scales the variable\n",
        "        xlabel (str) : label for the x-axis\n",
        "        bw (float) : bandwidth\n",
        "        kde (bool) : If True, display as kernel denisity estimate.\n",
        "            If False, display as histogram.\n",
        "                \n",
        "        Example Usage\n",
        "        ------------- \n",
        "        plot_col(\"NPV\",scale=1/1e6, xlabel=\"NPV ($M)\")\n",
        "        plot_col(\"IRR\",scale=100, xlabel=\"IRR (%)\")\n",
        "        plot_col(\"occ_stab\",scale=100, xlabel=\"occ_stab (%)\")\n",
        "        '''\n",
        "      \n",
        "        try:\n",
        "            var = self.v[col][5:]\n",
        "        except:\n",
        "            if year is None:\n",
        "                year = self.v['years'][0]\n",
        "            var = self.p.xs(year, level=1).iloc[5:][col]\n",
        "\n",
        "        var = var.dropna()\n",
        "        var = var * scale\n",
        "\n",
        "        avg, stdev = np.mean(var), np.std(var)\n",
        "        min_, max_ = np.min(var), np.max(var)\n",
        "        conf_int_low = max(min_, avg - stdev * 1.96)\n",
        "        conf_int_high = min(max_, avg + stdev * 1.96)       \n",
        "        \n",
        "        plt.figure(figsize=(10, 10/1.6)) \n",
        "        ax = sns.distplot(var, kde=kde, hist=not kde, label=col,\n",
        "                          norm_hist=True, kde_kws={'bw': bw, 'shade': True})\n",
        "        ax.set(xlabel=xlabel, \n",
        "               ylabel=\"relative frequency\")\n",
        "\n",
        "        if kde:\n",
        "            c = ax.get_lines()[-1].get_c()    \n",
        "            plt.axvline(avg, color=c, linestyle='dashed', label=r'$\\bar{x}$')\n",
        "            plt.axvline(conf_int_low, color=c, linestyle='dotted', \n",
        "                        label=r'$\\bar{x} \\pm 2s$')\n",
        "            plt.axvline(conf_int_high, color=c, linestyle='dotted')      \n",
        "\n",
        "        leg = plt.legend(fontsize='large')\n",
        "        plt.show()"
      ],
      "execution_count": 0,
      "outputs": []
    },
    {
      "cell_type": "markdown",
      "metadata": {
        "id": "ZWBGyyWzeQVl",
        "colab_type": "text"
      },
      "source": [
        "### Example usage, Quail Apartments"
      ]
    },
    {
      "cell_type": "markdown",
      "metadata": {
        "id": "EKv6HzN7bcpT",
        "colab_type": "text"
      },
      "source": [
        "Initialize Quail Apartments with underwriting assumptions and simulate 100 times."
      ]
    },
    {
      "cell_type": "code",
      "metadata": {
        "id": "lV9brMRycoBW",
        "colab_type": "code",
        "colab": {}
      },
      "source": [
        "# --- parameters (estimate, stdev, lower bound, upper bound;--- #\n",
        "# --- \"None\" for no stdev, lower or upper)--- #\n",
        "\n",
        "# --- project-specific params \n",
        "# --- Note these take precedence over common params where keys equal. ---#\n",
        "quail_params = {  'rental_units': 50, \n",
        "                  'unit_area': 750, \n",
        "                  \n",
        "                  # operations\n",
        "                  'transition_years': 0,\n",
        "                  'occ_now': 0.9,\n",
        "                  'occ_stab': [0.90, 0.1, 0, 0.98], \n",
        "                  'rent_rate_now': 1000,  # current rates              \n",
        "                  'rent_rate_stab': [1000, 50], \n",
        "                  'other_income': 0, \n",
        "                  \"credit_loss\": 0,\n",
        "                  'oe_per_unit': [None],  # [None] if use oe_ration instead\n",
        "                  'oe_ratio': [0.5, 0.05],\n",
        "                  'mgmt_fee': 0.00,             \n",
        "                  \n",
        "                  # capex\n",
        "                  'turnover': 0.5,\n",
        "                  'rehab_prem': [150, 50],\n",
        "                  'rehab_cost': [15000, 75],\n",
        "                  'maint_reserve_per_unit': 300,\n",
        "                  'deferred_maint': 200000,\n",
        "                  \n",
        "                  # leverage\n",
        "                  'loan_rate': 0.0350,\n",
        "                  'loan_constraint_LTV': 0.75,\n",
        "                  'loan_constraint_DSCR': 1.25,\n",
        "                  'loan_amort': 30,\n",
        "                  'loan_amount': [None],  # [None] if no loan commitment\n",
        "                  'loan_IO_term': 0, \n",
        "                  'loan_costs': 0,  # as a fraction of loan amount\n",
        "                  \n",
        "                  # growth, caprates, purchase\n",
        "                  'growth_revs': [0.030, 0.015],  \n",
        "                  'growth_costs': [0.025, 0.015], \n",
        "                  'caprate_entry': 0.055, \n",
        "                  'caprate_exit': [0.060, 0.01, 0.055],\n",
        "                  'purch_price': [None]  # [None] if purch_price == appraisal\n",
        "                  }\n",
        "\n",
        "# --- common params --- #\n",
        "common_params =  {\"discount_rate\": 0.10, #caprate + average growth in NOI\n",
        "                  \"years\": 5} \n",
        "                  \n",
        "# Initialize quail, an apartment complex of class apartment, \n",
        "# and run 100 simulations\n",
        "quail = apartment_complex(quail_params, common_params, \n",
        "                          description = \"Quail Apartments\")\n",
        "quail.iter_params(100)"
      ],
      "execution_count": 0,
      "outputs": []
    },
    {
      "cell_type": "markdown",
      "metadata": {
        "id": "rUp2nlzUcEOg",
        "colab_type": "text"
      },
      "source": [
        "Print proforma."
      ]
    },
    {
      "cell_type": "code",
      "metadata": {
        "id": "bOtXx1YefCua",
        "colab_type": "code",
        "outputId": "75c39435-13e4-493c-f139-ec00dd5490ae",
        "colab": {
          "base_uri": "https://localhost:8080/",
          "height": 423
        }
      },
      "source": [
        "quail.print_simulation(0, transpose=False, formatted='pretty')"
      ],
      "execution_count": 38,
      "outputs": [
        {
          "output_type": "stream",
          "text": [
            "QUAIL APARTMENTS SIMULATION 0\n",
            "=============================\n",
            "                      0         1         2         3         4           5\n",
            "OCC               90.0%     90.0%     90.0%     90.0%     90.0%       90.0%\n",
            "RATE           1,000.00  1,000.00  1,000.00  1,000.00  1,000.00    1,000.00\n",
            "                                                                           \n",
            "REV_BASE              0   540,000   556,200   572,886   590,073     607,775\n",
            "REV_PREMS             0         0    41,715    63,590    76,119      83,873\n",
            "OE                    0  -270,000  -276,750  -283,669  -290,760    -298,029\n",
            "NOI                   0   270,000   321,165   352,808   375,431     393,618\n",
            "                                                                           \n",
            "PURCH_SALE   -4,909,090         0         0         0         0   6,560,303\n",
            "CAPEX_MAINT    -200,000   -15,000   -15,375   -15,759   -16,153     -16,557\n",
            "CAPEX_REHAB           0  -375,000  -192,187  -102,436   -56,537     -33,114\n",
            "                                                                           \n",
            "LOAN          3,681,818         0         0         0         0  -3,299,357\n",
            "PMT                   0  -200,185  -200,185  -200,185  -200,185    -200,185\n",
            "                                                                           \n",
            "FCFE         -1,427,272  -320,185   -86,583    34,427   102,556   3,404,707\n",
            "DSCR                         1.35      1.60      1.76      1.88        1.97\n",
            "NOIM                        50.0%     53.7%     55.4%     56.4%       56.9%\n",
            "COC                        -22.4%     -6.1%      2.4%      7.2%      238.5%\n",
            "DEBT_Y                       7.3%      8.7%      9.6%     10.2%       10.7%\n",
            "IRR                                            -82.0%    -53.4%       15.0%\n",
            "NPV                                                                 420,062\n"
          ],
          "name": "stdout"
        }
      ]
    },
    {
      "cell_type": "markdown",
      "metadata": {
        "id": "KpSrDSqvcYnf",
        "colab_type": "text"
      },
      "source": [
        "Break down the components of levered IRR. See for background: https://www.mckinsey.com/business-functions/strategy-and-corporate-finance/our-insights/a-better-way-to-understand-internal-rate-of-return "
      ]
    },
    {
      "cell_type": "code",
      "metadata": {
        "id": "Uy8W5vDdyFuZ",
        "colab_type": "code",
        "outputId": "72cbb4b2-816f-4f57-fac2-b5ae3b057059",
        "colab": {
          "base_uri": "https://localhost:8080/",
          "height": 147
        }
      },
      "source": [
        "quail.IRR_attrib(summary=False, formatted=True)"
      ],
      "execution_count": 39,
      "outputs": [
        {
          "output_type": "execute_result",
          "data": {
            "text/plain": [
              "NOI_baseline                    5.2%\n",
              "capex_maint                    -1.3%\n",
              "caprate_compression            -2.1%\n",
              "NOI_improvement                 1.3%\n",
              "capex_rehab                    -3.2%\n",
              "purch_sale_at_caprate_entry     8.0%\n",
              "leverage                        7.1%\n",
              "dtype: object"
            ]
          },
          "metadata": {
            "tags": []
          },
          "execution_count": 39
        }
      ]
    },
    {
      "cell_type": "markdown",
      "metadata": {
        "id": "omdRCVBbcxkU",
        "colab_type": "text"
      },
      "source": [
        "Group by the effects of the market, management, and leverage. "
      ]
    },
    {
      "cell_type": "code",
      "metadata": {
        "id": "rOJLFFHobPFO",
        "colab_type": "code",
        "outputId": "7a108284-e2de-4ae5-8af9-2d457417bca7",
        "colab": {
          "base_uri": "https://localhost:8080/",
          "height": 82
        }
      },
      "source": [
        "quail.IRR_attrib(summary=True, formatted=True)"
      ],
      "execution_count": 40,
      "outputs": [
        {
          "output_type": "execute_result",
          "data": {
            "text/plain": [
              "market_effects    1.8%\n",
              "mgmt_effects      6.1%\n",
              "leverage          7.1%\n",
              "dtype: object"
            ]
          },
          "metadata": {
            "tags": []
          },
          "execution_count": 40
        }
      ]
    },
    {
      "cell_type": "markdown",
      "metadata": {
        "id": "9F0H0wjHc_Bl",
        "colab_type": "text"
      },
      "source": [
        "What are the top 3 IRR scenarios?"
      ]
    },
    {
      "cell_type": "code",
      "metadata": {
        "id": "EMr0cWYfcoBw",
        "colab_type": "code",
        "outputId": "4f7ee71d-3557-4355-cf0e-b7aeb98f53d1",
        "colab": {
          "base_uri": "https://localhost:8080/",
          "height": 1000
        }
      },
      "source": [
        "quail.top(\"IRR\", formatted='pretty')"
      ],
      "execution_count": 41,
      "outputs": [
        {
          "output_type": "stream",
          "text": [
            "TOP 3 IRR SCENARIOS\n",
            "\n",
            "\n",
            "QUAIL APARTMENTS SIMULATION 27\n",
            "==============================\n",
            "                      0         1         2         3         4           5\n",
            "OCC               90.0%     95.7%     95.7%     95.7%     95.7%       95.7%\n",
            "RATE           1,000.00  1,088.78  1,088.78  1,088.78  1,088.78    1,088.78\n",
            "                                                                           \n",
            "REV_BASE              0   624,957   644,019   663,661   683,903     704,762\n",
            "REV_PREMS             0         0    49,589    75,630    90,575      99,850\n",
            "OE                    0  -275,968  -276,310  -276,652  -276,995    -277,339\n",
            "NOI                   0   348,989   417,297   462,639   497,483     527,273\n",
            "                                                                           \n",
            "PURCH_SALE   -4,909,090         0         0         0         0   8,986,441\n",
            "CAPEX_MAINT    -200,000   -15,000   -15,019   -15,037   -15,056     -15,074\n",
            "CAPEX_REHAB           0  -376,419  -188,443   -98,112   -52,895     -30,263\n",
            "                                                                           \n",
            "LOAN          3,681,818         0         0         0         0  -3,299,357\n",
            "PMT                   0  -200,185  -200,185  -200,185  -200,185    -200,185\n",
            "                                                                           \n",
            "FCFE         -1,427,272  -242,615    13,651   149,305   229,347   5,968,834\n",
            "DSCR                         1.74      2.08      2.31      2.49        2.63\n",
            "NOIM                        55.8%     60.2%     62.6%     64.2%       65.5%\n",
            "COC                        -17.0%      1.0%     10.5%     16.1%      418.2%\n",
            "DEBT_Y                       9.5%     11.3%     12.6%     13.5%       14.3%\n",
            "IRR                                  -95.5%    -57.3%    -34.4%       32.5%\n",
            "NPV                                                               2,338,449\n",
            "\n",
            "\n",
            "QUAIL APARTMENTS SIMULATION 102\n",
            "===============================\n",
            "                      0         1         2         3         4           5\n",
            "OCC               90.0%     97.1%     97.1%     97.1%     97.1%       97.1%\n",
            "RATE           1,000.00  1,034.77  1,034.77  1,034.77  1,034.77    1,034.77\n",
            "                                                                           \n",
            "REV_BASE              0   602,746   617,035   631,662   646,637     661,966\n",
            "REV_PREMS             0         0    54,669    82,828    98,542     107,916\n",
            "OE                    0  -258,894  -258,214  -257,535  -256,859    -256,184\n",
            "NOI                   0   343,852   413,490   456,955   488,319     513,698\n",
            "                                                                           \n",
            "PURCH_SALE   -4,909,090         0         0         0         0   8,561,537\n",
            "CAPEX_MAINT    -200,000   -15,000   -14,961   -14,921   -14,882     -14,843\n",
            "CAPEX_REHAB           0  -374,330  -186,673   -96,815   -51,994     -29,633\n",
            "                                                                           \n",
            "LOAN          3,681,818         0         0         0         0  -3,299,357\n",
            "PMT                   0  -200,185  -200,185  -200,185  -200,185    -200,185\n",
            "                                                                           \n",
            "FCFE         -1,427,272  -245,663    11,671   145,033   221,258   5,531,216\n",
            "DSCR                         1.72      2.07      2.28      2.44        2.57\n",
            "NOIM                        57.0%     61.6%     64.0%     65.5%       66.7%\n",
            "COC                        -17.2%      0.8%     10.2%     15.5%      387.5%\n",
            "DEBT_Y                       9.3%     11.2%     12.4%     13.3%       14.0%\n",
            "IRR                                  -96.1%    -57.9%    -35.1%       30.4%\n",
            "NPV                                                               2,053,582\n",
            "\n",
            "\n",
            "QUAIL APARTMENTS SIMULATION 13\n",
            "==============================\n",
            "                      0         1         2         3         4           5\n",
            "OCC               90.0%     97.9%     97.9%     97.9%     97.9%       97.9%\n",
            "RATE           1,000.00    982.24    982.24    982.24    982.24      982.24\n",
            "                                                                           \n",
            "REV_BASE              0   576,884   596,066   615,885   636,364     657,523\n",
            "REV_PREMS             0         0    59,634    91,193   109,505     121,040\n",
            "OE                    0  -242,305  -245,897  -249,542  -253,241    -256,994\n",
            "NOI                   0   334,579   409,803   457,537   492,629     521,569\n",
            "                                                                           \n",
            "PURCH_SALE   -4,909,090         0         0         0         0   8,375,572\n",
            "CAPEX_MAINT    -200,000   -15,000   -15,222   -15,448   -15,677     -15,909\n",
            "CAPEX_REHAB           0  -374,665  -190,109  -100,322   -54,820     -31,790\n",
            "                                                                           \n",
            "LOAN          3,681,818         0         0         0         0  -3,299,357\n",
            "PMT                   0  -200,185  -200,185  -200,185  -200,185    -200,185\n",
            "                                                                           \n",
            "FCFE         -1,427,272  -255,272     4,286   141,581   221,946   5,349,899\n",
            "DSCR                         1.67      2.05      2.29      2.46        2.61\n",
            "NOIM                        58.0%     62.5%     64.7%     66.0%       67.0%\n",
            "COC                        -17.9%      0.3%      9.9%     15.6%      374.8%\n",
            "DEBT_Y                       9.1%     11.1%     12.4%     13.4%       14.2%\n",
            "IRR                                  -98.5%    -58.8%    -35.5%       29.4%\n",
            "NPV                                                               1,924,036\n"
          ],
          "name": "stdout"
        }
      ]
    },
    {
      "cell_type": "markdown",
      "metadata": {
        "id": "_0EykLZYdHtH",
        "colab_type": "text"
      },
      "source": [
        "and the worst 3?"
      ]
    },
    {
      "cell_type": "code",
      "metadata": {
        "id": "V4BSUE1JcoB1",
        "colab_type": "code",
        "outputId": "999b3120-dcc3-47c7-de6c-eb5fa54147c1",
        "colab": {
          "base_uri": "https://localhost:8080/",
          "height": 1000
        }
      },
      "source": [
        "quail.top(\"IRR\", bottom=True, formatted='pretty')"
      ],
      "execution_count": 42,
      "outputs": [
        {
          "output_type": "stream",
          "text": [
            "BOTTOM 3 IRR SCENARIOS\n",
            "\n",
            "\n",
            "QUAIL APARTMENTS SIMULATION 65\n",
            "==============================\n",
            "                      0         1         2         3         4           5\n",
            "OCC               90.0%     79.2%     79.2%     79.2%     79.2%       79.2%\n",
            "RATE           1,000.00    928.70    928.70    928.70    928.70      928.70\n",
            "                                                                           \n",
            "REV_BASE              0   441,515   443,348   445,189   447,037     448,893\n",
            "REV_PREMS             0         0    16,130    23,972    27,974      30,050\n",
            "OE                    0  -217,376  -229,097  -241,451  -254,471    -268,192\n",
            "NOI                   0   224,139   230,381   227,709   220,541     210,751\n",
            "                                                                           \n",
            "PURCH_SALE   -4,909,090         0         0         0         0   3,542,824\n",
            "CAPEX_MAINT    -200,000   -15,000   -15,809   -16,661   -17,560     -18,507\n",
            "CAPEX_REHAB           0  -373,712  -196,932  -107,926   -61,248     -36,886\n",
            "                                                                           \n",
            "LOAN          3,681,818         0         0         0         0  -3,299,357\n",
            "PMT                   0  -200,185  -200,185  -200,185  -200,185    -200,185\n",
            "                                                                           \n",
            "FCFE         -1,427,272  -364,758  -182,545   -97,064   -58,452     198,640\n",
            "DSCR                         1.12      1.15      1.14      1.10        1.05\n",
            "NOIM                        50.8%     50.1%     48.5%     46.4%       44.0%\n",
            "COC                        -25.6%    -12.8%     -6.8%     -4.1%       13.9%\n",
            "DEBT_Y                       6.1%      6.3%      6.2%      6.0%        5.7%\n",
            "IRR                                                                  -44.9%\n",
            "NPV                                                              -1,899,244\n",
            "\n",
            "\n",
            "QUAIL APARTMENTS SIMULATION 12\n",
            "==============================\n",
            "                      0         1         2         3         4           5\n",
            "OCC               90.0%     87.3%     87.3%     87.3%     87.3%       87.3%\n",
            "RATE           1,000.00    967.54    967.54    967.54    967.54      967.54\n",
            "                                                                           \n",
            "REV_BASE              0   506,904   506,755   506,607   506,458     506,309\n",
            "REV_PREMS             0         0    24,625    36,434    42,330      45,270\n",
            "OE                    0  -287,083  -300,148  -313,807  -328,088    -343,019\n",
            "NOI                   0   219,821   231,233   229,234   220,700     208,560\n",
            "                                                                           \n",
            "PURCH_SALE   -4,909,090         0         0         0         0   3,791,245\n",
            "CAPEX_MAINT    -200,000   -15,000   -15,683   -16,396   -17,143     -17,923\n",
            "CAPEX_REHAB           0  -374,340  -195,688  -106,389   -59,893     -35,782\n",
            "                                                                           \n",
            "LOAN          3,681,818         0         0         0         0  -3,299,357\n",
            "PMT                   0  -200,185  -200,185  -200,185  -200,185    -200,185\n",
            "                                                                           \n",
            "FCFE         -1,427,272  -369,704  -180,323   -93,737   -56,522     446,558\n",
            "DSCR                         1.10      1.16      1.15      1.10        1.04\n",
            "NOIM                        43.4%     43.5%     42.2%     40.2%       37.8%\n",
            "COC                        -25.9%    -12.6%     -6.6%     -4.0%       31.3%\n",
            "DEBT_Y                       6.0%      6.3%      6.2%      6.0%        5.7%\n",
            "IRR                                                                  -31.1%\n",
            "NPV                                                              -1,744,148\n",
            "\n",
            "\n",
            "QUAIL APARTMENTS SIMULATION 22\n",
            "==============================\n",
            "                      0         1         2         3         4           5\n",
            "OCC               90.0%     72.8%     72.8%     72.8%     72.8%       72.8%\n",
            "RATE           1,000.00    992.09    992.09    992.09    992.09      992.09\n",
            "                                                                           \n",
            "REV_BASE              0   433,467   438,895   444,391   449,956     455,591\n",
            "REV_PREMS             0         0    36,601    54,848    64,540      69,908\n",
            "OE                    0  -235,239  -245,415  -256,031  -267,106    -278,661\n",
            "NOI                   0   198,229   230,082   243,208   247,390     246,837\n",
            "                                                                           \n",
            "PURCH_SALE   -4,909,090         0         0         0         0   3,884,719\n",
            "CAPEX_MAINT    -200,000   -15,000   -15,649   -16,326   -17,032     -17,769\n",
            "CAPEX_REHAB           0  -374,414  -195,305  -105,952   -59,519     -35,482\n",
            "                                                                           \n",
            "LOAN          3,681,818         0         0         0         0  -3,299,357\n",
            "PMT                   0  -200,185  -200,185  -200,185  -200,185    -200,185\n",
            "                                                                           \n",
            "FCFE         -1,427,272  -391,370  -181,058   -79,255   -29,346     578,763\n",
            "DSCR                         0.99      1.15      1.21      1.24        1.23\n",
            "NOIM                        45.7%     48.4%     48.7%     48.1%       47.0%\n",
            "COC                        -27.4%    -12.7%     -5.6%     -2.1%       40.6%\n",
            "DEBT_Y                       5.4%      6.2%      6.6%      6.7%        6.7%\n",
            "IRR                                                                  -25.8%\n",
            "NPV                                                              -1,652,921\n"
          ],
          "name": "stdout"
        }
      ]
    },
    {
      "cell_type": "markdown",
      "metadata": {
        "id": "PYcHgFuvdVgO",
        "colab_type": "text"
      },
      "source": [
        "Wow, scenario 20 looks pretty bad. Review the variables used to calculate this scenario."
      ]
    },
    {
      "cell_type": "code",
      "metadata": {
        "id": "mLHZLgx2coCC",
        "colab_type": "code",
        "outputId": "ddeffe51-a391-4aa7-9796-a89895d9c5da",
        "colab": {
          "base_uri": "https://localhost:8080/",
          "height": 521
        }
      },
      "source": [
        "quail.print_params(65)"
      ],
      "execution_count": 51,
      "outputs": [
        {
          "output_type": "stream",
          "text": [
            "PROJECT-SPECIFIC MODEL ASSUMPTIONS (estimate, stdev, min, max, draw)\n",
            "====================================================================\n",
            "caprate_entry : [0.055, nan, -inf, inf, 0.0, 0.055]\n",
            "caprate_exit : [0.06, 0.01, 0.055, inf, 0.0, 0.05948667952115818]\n",
            "credit_loss : [0.0, nan, -inf, inf, 0.0, 0.0]\n",
            "deferred_maint : [200000.0, nan, -inf, inf, 0.0, 200000.0]\n",
            "growth_costs : [0.025, 0.015, -inf, inf, 0.0, 0.053922655545817835]\n",
            "growth_revs : [0.03, 0.015, -inf, inf, 0.0, 0.004151633671309694]\n",
            "loan_IO_term : [0.0, nan, -inf, inf, 0.0, 0.0]\n",
            "loan_amort : [30.0, nan, -inf, inf, 0.0, 30.0]\n",
            "loan_amount : [nan, nan, -inf, inf, 0.0, nan]\n",
            "loan_constraint_DSCR : [1.25, nan, -inf, inf, 0.0, 1.25]\n",
            "loan_constraint_LTV : [0.75, nan, -inf, inf, 0.0, 0.75]\n",
            "loan_costs : [0.0, nan, -inf, inf, 0.0, 0.0]\n",
            "loan_rate : [0.035, nan, -inf, inf, 0.0, 0.035]\n",
            "maint_reserve_per_unit : [300.0, nan, -inf, inf, 0.0, 300.0]\n",
            "mgmt_fee : [0.0, nan, -inf, inf, 0.0, 0.0]\n",
            "occ_now : [0.9, nan, -inf, inf, 0.0, 0.9]\n",
            "occ_stab : [0.9, 0.1, 0.0, 0.98, 0.0, 0.7923526506412906]\n",
            "oe_per_unit : [nan, nan, -inf, inf, 0.0, nan]\n",
            "oe_ratio : [0.5, 0.05, -inf, inf, 0.0, 0.4923408949677784]\n",
            "other_income : [0.0, nan, -inf, inf, 0.0, 0.0]\n",
            "purch_price : [nan, nan, -inf, inf, 0.0, nan]\n",
            "rehab_cost : [15000.0, 75.0, -inf, inf, 0.0, 14948.47717699411]\n",
            "rehab_prem : [150.0, 50.0, -inf, inf, 0.0, 67.57652360417026]\n",
            "rent_rate_now : [1000.0, nan, -inf, inf, 0.0, 1000.0]\n",
            "rent_rate_stab : [1000.0, 50.0, -inf, inf, 0.0, 928.7003690158559]\n",
            "rental_units : [50.0, nan, -inf, inf, 0.0, 50.0]\n",
            "transition_years : [0.0, nan, -inf, inf, 0.0, 0.0]\n",
            "turnover : [0.5, nan, -inf, inf, 0.0, 0.5]\n",
            "unit_area : [750.0, nan, -inf, inf, 0.0, 750.0]\n"
          ],
          "name": "stdout"
        }
      ]
    },
    {
      "cell_type": "markdown",
      "metadata": {
        "id": "PGEoSVBedy4v",
        "colab_type": "text"
      },
      "source": [
        "Plot the distribution of stabilized occupancy draws."
      ]
    },
    {
      "cell_type": "code",
      "metadata": {
        "id": "g9Jyw5WScoCJ",
        "colab_type": "code",
        "outputId": "d14c2531-3f56-4a37-92bb-87b79fa3feba",
        "colab": {
          "base_uri": "https://localhost:8080/",
          "height": 402
        }
      },
      "source": [
        "quail.plot_col(\"occ_stab\", scale=100, bw=0.02*100, kde=True,\n",
        "                xlabel=\"Stabilized Occupancy Rate (%)\")"
      ],
      "execution_count": 44,
      "outputs": [
        {
          "output_type": "display_data",
          "data": {
            "image/png": "[encoded data removed]",
            "text/plain": [
              "<Figure size 720x450 with 1 Axes>"
            ]
          },
          "metadata": {
            "tags": [],
            "needs_background": "light"
          }
        }
      ]
    },
    {
      "cell_type": "markdown",
      "metadata": {
        "id": "DQJvaopveCvG",
        "colab_type": "text"
      },
      "source": [
        "Plot the distributions of IRR and NVP to get sense of the risk in this investment."
      ]
    },
    {
      "cell_type": "code",
      "metadata": {
        "id": "5_rDN2i9OHQx",
        "colab_type": "code",
        "outputId": "7b590df6-f128-4f01-b19c-750879754103",
        "colab": {
          "base_uri": "https://localhost:8080/",
          "height": 402
        }
      },
      "source": [
        "quail.plot_col(\"IRR\", scale=100, bw=0.05*100, \n",
        "                xlabel=\"Internal Rate of Return (%)\")"
      ],
      "execution_count": 45,
      "outputs": [
        {
          "output_type": "display_data",
          "data": {
            "image/png": "[encoded data removed]",
            "text/plain": [
              "<Figure size 720x450 with 1 Axes>"
            ]
          },
          "metadata": {
            "tags": [],
            "needs_background": "light"
          }
        }
      ]
    },
    {
      "cell_type": "code",
      "metadata": {
        "id": "8NgSjaPfcoCO",
        "colab_type": "code",
        "outputId": "30c75b25-ac5a-4e92-d0e0-9998adff96bc",
        "colab": {
          "base_uri": "https://localhost:8080/",
          "height": 402
        }
      },
      "source": [
        "scale = 1/1000000\n",
        "quail.plot_col(\"NPV\", scale=scale, bw=0.2, kde=True,\n",
        "                xlabel=\"Net Present Value (millions $)\")"
      ],
      "execution_count": 46,
      "outputs": [
        {
          "output_type": "display_data",
          "data": {
            "image/png": "[encoded data removed]",
            "text/plain": [
              "<Figure size 720x450 with 1 Axes>"
            ]
          },
          "metadata": {
            "tags": [],
            "needs_background": "light"
          }
        }
      ]
    },
    {
      "cell_type": "markdown",
      "metadata": {
        "id": "S6NeW4Z6eblP",
        "colab_type": "text"
      },
      "source": [
        "Is NPV symmetical about the average? Check for skew."
      ]
    },
    {
      "cell_type": "code",
      "metadata": {
        "id": "hqfWwSkAcoCS",
        "colab_type": "code",
        "outputId": "3616781f-b8c9-4513-9884-0b1fb10361cb",
        "colab": {
          "base_uri": "https://localhost:8080/",
          "height": 33
        }
      },
      "source": [
        "year = 5\n",
        "col = \"NPV\"\n",
        "round(skew(quail.p.xs(year, level=1).loc[5:][col]),2) "
      ],
      "execution_count": 47,
      "outputs": [
        {
          "output_type": "execute_result",
          "data": {
            "text/plain": [
              "0.48"
            ]
          },
          "metadata": {
            "tags": []
          },
          "execution_count": 47
        }
      ]
    },
    {
      "cell_type": "markdown",
      "metadata": {
        "id": "7jZBK9uDelJa",
        "colab_type": "text"
      },
      "source": [
        "How sensitive is NPV to the stochastic variables? Estimate elasticities."
      ]
    },
    {
      "cell_type": "code",
      "metadata": {
        "id": "Iq1cBzeBcoB6",
        "colab_type": "code",
        "outputId": "86ea81a0-68ca-4d22-96d8-6eb43708efaa",
        "colab": {
          "base_uri": "https://localhost:8080/",
          "height": 196
        }
      },
      "source": [
        "quail.elasticities(\"NPV\")"
      ],
      "execution_count": 48,
      "outputs": [
        {
          "output_type": "stream",
          "text": [
            "SENSITIVITY ANALYSIS: ELASTICITY OF NPV WITH RESPECT TO UNCERTAIN ASSUMPTIONS\n",
            "=============================================================================\n",
            "                elasticity  p-value\n",
            "occ_stab             10.03     0.00\n",
            "rent_rate_stab        5.45     0.02\n",
            "oe_ratio             -5.83     0.00\n",
            "rehab_prem            1.20     0.00\n",
            "rehab_cost           -4.90     0.01\n",
            "growth_revs           2.39     0.00\n",
            "growth_costs         -0.12     0.29\n",
            "caprate_exit         -7.49     0.00\n"
          ],
          "name": "stdout"
        }
      ]
    },
    {
      "cell_type": "markdown",
      "metadata": {
        "id": "xl4zPz_Oe9jJ",
        "colab_type": "text"
      },
      "source": [
        "List some descriptive statistics for IRR, stabilized rent rate, and occupancy."
      ]
    },
    {
      "cell_type": "code",
      "metadata": {
        "id": "NKN2J1VvcoCX",
        "colab_type": "code",
        "outputId": "4c8c8321-57ae-45c8-9321-a3fc0e32168a",
        "colab": {
          "base_uri": "https://localhost:8080/",
          "height": 196
        }
      },
      "source": [
        "quail.describe([\"IRR\",\"rent_rate_stab\", \"occ_stab\"], scale=(100, 1, 100))"
      ],
      "execution_count": 49,
      "outputs": [
        {
          "output_type": "stream",
          "text": [
            "          IRR rent_rate_stab occ_stab\n",
            "count   96.00         100.00   100.00\n",
            "mean     7.02         993.86    86.55\n",
            "std     13.98          50.81     7.46\n",
            "min    -44.87         858.06    65.18\n",
            "5%     -20.06         919.11    72.50\n",
            "25%     -0.62         962.96    82.16\n",
            "50%      8.76         991.10    87.61\n",
            "75%     17.40       1,022.61    91.77\n",
            "95%     25.46       1,085.57    97.10\n",
            "max     32.46       1,120.59    97.90\n"
          ],
          "name": "stdout"
        }
      ]
    },
    {
      "cell_type": "markdown",
      "metadata": {
        "id": "RJDGrLBqPmwf",
        "colab_type": "text"
      },
      "source": [
        "## Issues"
      ]
    },
    {
      "cell_type": "markdown",
      "metadata": {
        "id": "-_Dg0augfVPs",
        "colab_type": "text"
      },
      "source": [
        "Program should be able to match precision with user-defined mu for each variable. It works except when mu includes trailng zeroes."
      ]
    },
    {
      "cell_type": "code",
      "metadata": {
        "id": "UtqMbsHNC3IK",
        "colab_type": "code",
        "outputId": "8347d499-a3f0-49ea-9027-51bde17470c6",
        "colab": {
          "base_uri": "https://localhost:8080/",
          "height": 33
        }
      },
      "source": [
        "mu = 0.90\n",
        "draw = 0.98\n",
        "round(draw, len(str(mu).split('.')[1]))"
      ],
      "execution_count": 50,
      "outputs": [
        {
          "output_type": "execute_result",
          "data": {
            "text/plain": [
              "1.0"
            ]
          },
          "metadata": {
            "tags": []
          },
          "execution_count": 50
        }
      ]
    }
  ]
}