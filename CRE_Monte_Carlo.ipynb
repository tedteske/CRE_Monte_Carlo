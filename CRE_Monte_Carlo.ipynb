{
  "nbformat": 4,
  "nbformat_minor": 0,
  "metadata": {
    "colab": {
      "name": "CRE_Monte_Carlo.ipynb",
      "provenance": [],
      "collapsed_sections": [],
      "include_colab_link": true
    },
    "kernelspec": {
      "name": "python3",
      "display_name": "Python 3"
    }
  },
  "cells": [
    {
      "cell_type": "markdown",
      "metadata": {
        "id": "view-in-github",
        "colab_type": "text"
      },
      "source": [
        "<a href=\"https://colab.research.google.com/github/tedteske/CRE_Monte_Carlo/blob/master/CRE_Monte_Carlo.ipynb\" target=\"_parent\"><img src=\"https://colab.research.google.com/assets/colab-badge.svg\" alt=\"Open In Colab\"/></a>"
      ]
    },
    {
      "cell_type": "markdown",
      "metadata": {
        "id": "wT8Wvlb6gUlE",
        "colab_type": "text"
      },
      "source": [
        "### Import libraries and class definition\n"
      ]
    },
    {
      "cell_type": "code",
      "metadata": {
        "id": "j2C6hKNIcoBb",
        "colab_type": "code",
        "cellView": "both",
        "colab": {}
      },
      "source": [
        "import warnings\n",
        "warnings.simplefilter(action='ignore', category=FutureWarning)\n",
        "warnings.simplefilter(action='ignore', category=DeprecationWarning)\n",
        "\n",
        "import pandas as pd\n",
        "import numpy as np\n",
        "import seaborn as sns\n",
        "import matplotlib.pyplot as plt\n",
        "from scipy.stats import norm, truncnorm, skew\n",
        "import statsmodels.api as sm # for calculating elasticities\n",
        "\n",
        "pd.options.mode.chained_assignment = None #solve why this is necessary\n",
        "#pd.set_option('max_columns', None)\n",
        "pd.reset_option('max_columns') # to reset to default setting\n",
        "\n",
        "class apartment_complex:\n",
        "\n",
        "    def __init__(self, project_params, common_params, description=None):\n",
        "\n",
        "        self.description = description\n",
        "        self.project_params = project_params \n",
        "        # because used in print_simulation()\n",
        "        \n",
        "        self.v = common_params.copy()\n",
        "        self.v.update(project_params) \n",
        "        # project_params override common_params where equal\n",
        "        \n",
        "        for k in sorted(self.v.keys()): \n",
        "            self.v[k] = self.parse_input_params(self.v[k])\n",
        "            \n",
        "        self.v=pd.DataFrame.from_dict(self.v,orient='columns')\n",
        "        self.iter_params()\n",
        "        \n",
        "    def parse_input_params(self, var_params):\n",
        "        '''     \n",
        "        Converts model parameter item to a list of length 5 and fill blanks. \n",
        "\n",
        "        Parameters\n",
        "        ----------\n",
        "        var_params (list) : mu, sigma, lower bound, upper bound; \n",
        "            not always complete\n",
        "\n",
        "        Returns\n",
        "        -------\n",
        "        var_params (list) : mu, sigma, lower bound, upper bound, 0; \n",
        "            Last list item is a placeholder for a single sample draw.\n",
        "        '''\n",
        "\n",
        "        if type(var_params) in (int, float): \n",
        "            var_params = [var_params]\n",
        "        \n",
        "        var_params = var_params + [0, None, None, None, None][len(var_params):] \n",
        "        var_params[2] = var_params[2] if var_params[2] != None else -np.inf\n",
        "        var_params[3] = var_params[3] if var_params[3] != None else np.inf\n",
        "        var_params[4] = var_params[4] if var_params[4] != None else 0\n",
        "\n",
        "        return var_params    \n",
        "    \n",
        "    def sample_draw(self, var_params):\n",
        "        '''\n",
        "        Draws normal variates subject to lower and upper bounds. [1]\n",
        "\n",
        "        Parameters\n",
        "        ----------\n",
        "        var_params (list) : mu, sigma, lower bound, upper bound\n",
        "\n",
        "        Returns\n",
        "        -------\n",
        "        draw (float) : random variate from normal or truncnorm distribution\n",
        "        \n",
        "        Notes\n",
        "        -----\n",
        "        [1] see for a description of the method\n",
        "            http://web.ist.utl.pt/~ist11038/compute/qc/,truncG#/lecture4k.pdf\n",
        "        '''\n",
        "        \n",
        "        mu, sigma, lower, upper = var_params[:4]\n",
        "        \n",
        "        if sigma in (None, 0) or np.isnan(sigma):\n",
        "            draw = mu\n",
        "        else:      \n",
        "            if np.isinf(lower) and np.isinf(upper): \n",
        "                # If no upper or lower bounds, draw from normal distribution.  \n",
        "                draw = norm.rvs(loc=mu,scale=sigma) \n",
        "            else:  \n",
        "                # Else draw from truncnorm distribution.\n",
        "                lower_std, upper_std = (lower-mu)/sigma, (upper-mu)/sigma\n",
        "                \n",
        "                lower_pdf = norm.pdf(lower_std, loc=0, scale=1)\n",
        "                upper_pdf = norm.pdf(upper_std, loc=0, scale=1)\n",
        "                \n",
        "                lower_cdf = norm.cdf(lower_std, loc=0, scale=1)\n",
        "                upper_cdf = norm.cdf(upper_std, loc=0, scale=1)\n",
        "\n",
        "                if np.isfinite(lower) and np.isfinite(upper): \n",
        "                    # If both lower and upper finite\n",
        "                    a = upper_std * upper_pdf - lower_std * lower_pdf\n",
        "                    b = upper_cdf - lower_cdf\n",
        "                    c = ((upper_pdf - lower_pdf) / (upper_cdf - lower_cdf))**2               \n",
        "                elif np.isfinite(lower):\n",
        "                    # If lower but not upper is finite\n",
        "                    a = lower_std * lower_pdf\n",
        "                    b = 1 - lower_cdf\n",
        "                    c = (lower_pdf / (1 - lower_cdf))**2\n",
        "                else:\n",
        "                    # If upper but not lower is finite\n",
        "                    a = upper_std * upper_pdf\n",
        "                    b = upper_cdf\n",
        "                    c = (upper_pdf / upper_cdf)**2\n",
        "                    \n",
        "                sigma2 = np.sqrt(sigma**2/(1 - a/b - c))\n",
        "                \n",
        "                pdf_diff = upper_pdf - lower_pdf\n",
        "                cdf_diff = upper_cdf - lower_cdf\n",
        "                mu2 = mu + (sigma2 * pdf_diff / cdf_diff)\n",
        "                \n",
        "                draw = truncnorm.rvs((lower - mu2)/sigma2,\n",
        "                                     (upper - mu2)/sigma2,\n",
        "                                     loc=mu2, scale=sigma2)\n",
        "                \n",
        "            # to give draw same number of decimal places as mu\n",
        "            #draw = round(draw, len(str(mu).split('.')[1])) \n",
        "\n",
        "        return draw\n",
        "    \n",
        "    def draw_params(self, s):\n",
        "        '''\n",
        "        Applies sample draw to full set of variables and append draw set to \n",
        "        dataframe\n",
        "\n",
        "        Parameters\n",
        "        ----------\n",
        "        s (int) : simulation index\n",
        "        '''\n",
        "       \n",
        "        self.v.loc[s] = self.v.loc[:4].apply(self.sample_draw, \n",
        "                                             axis=0, raw=False)\n",
        "                 \n",
        "    def iter_params(self, n=10): \n",
        "        '''\n",
        "        Runs draw_params, simulate n times, appends simulations to multiindex \n",
        "        dataframe.\n",
        "\n",
        "        Parameters\n",
        "        ----------\n",
        "        s (int) : simulation index\n",
        "        n (int) : number of iterations (default 10)    \n",
        "        ''' \n",
        "\n",
        "        index = range(5, n + 5)\n",
        "        columns = self.v.columns\n",
        "        df = pd.DataFrame(index=index, columns=columns)\n",
        "        df = df.fillna(0) # with 0s rather than NaNs\n",
        "      \n",
        "        self.v = pd.concat([self.v[:5], df])\n",
        "        \n",
        "        for col in columns: \n",
        "            func = lambda x: self.sample_draw(self.v[col])\n",
        "            self.v[col][5:] = self.v[col][5:].apply(func)\n",
        "    \n",
        "        p = pd.concat([self.simulate(0)], keys=[0])\n",
        "        for s in index:\n",
        "            p2 = pd.concat([self.simulate(s)], keys=[s])\n",
        "            p = pd.concat([p, p2])    \n",
        "              \n",
        "        self.p = p\n",
        "     \n",
        "    def simulate(self,s=0):\n",
        "        '''\n",
        "        Simulates rental rates, occupancy, and cash flows.\n",
        "\n",
        "        Parameters\n",
        "        ----------\n",
        "        s (int) : simulation index\n",
        "            None if using last param set\n",
        "            0 if default params\n",
        "            4 if single new draw\n",
        "            >4 if draw result of n iterations\n",
        "\n",
        "        Returns\n",
        "        -------\n",
        "        DataFrame\n",
        "        '''\n",
        "        \n",
        "        if s == 4: self.draw_params(s)\n",
        "                \n",
        "        #--- setup dataframe ---#\n",
        "        index = range(0, int(self.v[\"years\"][s]) + 1)\n",
        "        columns = ['OCC', 'RATE', 'PURCH_SALE', 'CAPEX_MAINT', 'CAPEX_REHAB', \n",
        "                   'LOAN', 'PMT',\n",
        "                   'REV_BASE', 'REV_PREMS', 'OE', 'NOI',\n",
        "                   'FCFE', 'DSCR', 'NOIM', 'COC', 'DEBT_Y', 'IRR', 'NPV']\n",
        "        df = pd.DataFrame(index=index, columns=columns)\n",
        "        df = df.fillna(0) # with 0s rather than NaNs\n",
        "        \n",
        "        #--- fill with estimated values ---#\n",
        "        g_years = df.index.to_numpy() - 1\n",
        "        growth_costs_factor = (1 + self.v[\"growth_costs\"][s])**g_years\n",
        "        growth_revs_factor = (1 + self.v[\"growth_revs\"][s])**g_years\n",
        "        \n",
        "        df['CAPEX_MAINT'][0] = -self.v[\"deferred_maint\"][s]\n",
        "        df['CAPEX_MAINT'][1:] = (self.v[\"rental_units\"][s] \n",
        "                                 * -self.v[\"maint_reserve_per_unit\"][s])\n",
        "        df['CAPEX_MAINT'][1:] = (df['CAPEX_MAINT'] * growth_costs_factor)[1:] \n",
        "            \n",
        "        stab_year = int(self.v[\"transition_years\"][s] + 1)\n",
        "        df['OCC'] = (self.v[\"occ_now\"][s] \n",
        "                     + (self.v[\"occ_stab\"][s] - self.v[\"occ_now\"][s]) \n",
        "                     * (2 * df.index - 1)/(2 * self.v[\"transition_years\"][s]))\n",
        "        df['OCC'][0] = self.v[\"occ_now\"][s]\n",
        "        df['OCC'][stab_year:] = self.v[\"occ_stab\"][s]\n",
        "        \n",
        "        df['RATE'] = ((self.v[\"rent_rate_stab\"][s] - self.v[\"rent_rate_now\"][s]) \n",
        "                      * (2 * df.index - 1) \n",
        "                      / (2 * self.v[\"transition_years\"][s]) \n",
        "                      + self.v[\"rent_rate_now\"][s])\n",
        "        df['RATE'][0] = self.v[\"rent_rate_now\"][s]\n",
        "        df['RATE'][stab_year:] = self.v[\"rent_rate_stab\"][s]\n",
        "        \n",
        "        df['REV_BASE'] = (df['RATE'] * 12 \n",
        "                          * growth_revs_factor \n",
        "                          * (1 + self.v[\"other_income\"][s]) \n",
        "                          * (1 - self.v[\"credit_loss\"][s])\n",
        "                          * self.v[\"rental_units\"][s] \n",
        "                          * df['OCC'])\n",
        "        \n",
        "        rehab_costs, rehab_prems = self.rehab_effects(s)\n",
        "        df['REV_PREMS'][1:] = rehab_prems\n",
        "        df['CAPEX_REHAB'][1:] = -rehab_costs\n",
        "        \n",
        "        if np.isnan(self.v[\"oe_per_unit\"][s]):\n",
        "            df['OE'] = (-self.v[\"oe_ratio\"][s] \n",
        "                        * df['REV_BASE'][1]\n",
        "                        * growth_costs_factor) \n",
        "        else:    \n",
        "            df['OE'] = (-self.v[\"oe_per_unit\"][s] \n",
        "                        * self.v[\"rental_units\"][s] \n",
        "                        * growth_costs_factor)\n",
        "        \n",
        "        df['OE'] = (df['OE'] \n",
        "                    + (df['REV_BASE'] + df['REV_PREMS']) \n",
        "                    * -self.v[\"mgmt_fee\"][s])\n",
        "        \n",
        "        df['REV_BASE'][0], df['REV_PREMS'][0], df['OE'][0] = 0, 0, 0\n",
        "        df['NOI'] = df['REV_BASE'] + df['REV_PREMS'] + df['OE']\n",
        "        \n",
        "        appraisal_NOI, appraisal = self.appraisal()\n",
        "        if np.isnan(self.v[\"purch_price\"][s]): \n",
        "            df['PURCH_SALE'][0] = -appraisal\n",
        "        else:\n",
        "            df['PURCH_SALE'][0] = -self.v[\"purch_price\"][s]\n",
        "        df['PURCH_SALE'][self.v[\"years\"][s]] = (df['NOI'][self.v[\"years\"][s]]\n",
        "                                                / self.v[\"caprate_exit\"][s])\n",
        "        \n",
        "        loan, payoff, pmt, io_pmt = self.loan(appraisal_NOI, appraisal, s)\n",
        "        df['LOAN'][0] = loan\n",
        "        df['PMT'][1:] = pmt\n",
        "        df['PMT'][1:int(self.v[\"loan_IO_term\"][s] + 1)] = io_pmt\n",
        "        df['LOAN'][self.v[\"years\"][s]] = payoff\n",
        "        \n",
        "        df['FCFE'] = (df['PURCH_SALE'] + df['CAPEX_MAINT'] + df['CAPEX_REHAB'] \n",
        "                      + df['LOAN'] + df['PMT'] + df['NOI'])\n",
        "        \n",
        "        # Debt Service Coverage Ratio\n",
        "        df[\"DSCR\"] = df[\"NOI\"][1:] / -df[\"PMT\"][1:] \n",
        "        \n",
        "        # Cumulative levered IRR to end of year\n",
        "        df[\"IRR\"] = df[\"FCFE\"].expanding().apply(np.irr, raw=False) \n",
        "        \n",
        "        # Cash-on-cash return\n",
        "        df[\"COC\"] = df[\"FCFE\"][1:]/-df[\"FCFE\"][0]  \n",
        "        \n",
        "        # Net Present Value\n",
        "        df[\"NPV\"] = np.nan \n",
        "        df[\"NPV\"][-1:] = np.npv(self.v[\"discount_rate\"][s], df['FCFE'])\n",
        "        \n",
        "        # NOI margin\n",
        "        df[\"NOIM\"] = df[\"NOI\"][1:] / (df['REV_BASE'][1:] + df['REV_PREMS'][1:])\n",
        "\n",
        "        # Debt Yield\n",
        "        df[\"DEBT_Y\"] = df[\"NOI\"][1:] / loan \n",
        "        \n",
        "        self.simulation = df\n",
        "        \n",
        "        return self.simulation\n",
        "    \n",
        "    def IRR_attrib(self, s=0, summary=False, formatted=True):\n",
        "        '''     \n",
        "        Decomposes levered IRR [1] into contributions from \n",
        "            market_effects\n",
        "                NOI_baseline : Year 1 NOI held constant over term\n",
        "                capex_maint : deferred maintenance and maintenance-type capex\n",
        "                caprate_compression : capital gains from of change in caprate \n",
        "            mgmt_effects\n",
        "                NOI_improvement\n",
        "                capex_rehab\n",
        "                purch_sale_at_caprate_entry\n",
        "            leverage\n",
        "\n",
        "        Parameters\n",
        "        ----------\n",
        "        s (int) : simulation index\n",
        "        summary (bool) : if True, group by market_effects, mgmt_effects, \n",
        "            and leverage\n",
        "        formatted (bool or str) : \n",
        "            if True, return DataFrame.\n",
        "                with money and rate columns formatted for readability\n",
        "            if 'pretty', format and pretty print\n",
        "            if False, return DataFrame, unformatted\n",
        "\n",
        "        Returns\n",
        "        -------\n",
        "        contribs (DataFrame or string print) : levered IRR, decomposed\n",
        "        \n",
        "        Notes\n",
        "        -----\n",
        "        [1] see for a description of the method\n",
        "            https://www.mckinsey.com/business-functions/\n",
        "            strategy-and-corporate-finance/our-insights/\n",
        "            a-better-way-to-understand-internal-rate-of-return\n",
        "        '''\n",
        "\n",
        "        df = self.p.copy()\n",
        "        \n",
        "        def nfv(rate, vals):\n",
        "            # net future value\n",
        "            count = len(vals)-2\n",
        "            return np.npv(rate, vals) * (1 + rate)**count\n",
        "\n",
        "        leverage_ = df['LOAN'].loc[s] + df['PMT'].loc[s]\n",
        "\n",
        "        IRR_unlev = np.irr(df['FCFE'].loc[s] - leverage_)\n",
        "        leverage = df['IRR'].loc[s].iloc[-1] - IRR_unlev\n",
        "\n",
        "        NOI_baseline_ = df['NOI'].loc[s].copy()\n",
        "        NOI_baseline_[1:] = NOI_baseline_[1]\n",
        "        NOI_baseline = nfv(IRR_unlev, NOI_baseline_)\n",
        "\n",
        "        capex_maint = nfv(IRR_unlev, df['CAPEX_MAINT'].loc[s])\n",
        "\n",
        "        NOI_improvement = df['NOI'].loc[s] - NOI_baseline_\n",
        "        NOI_improvement = nfv(IRR_unlev, NOI_improvement)\n",
        "\n",
        "        capex_rehab = nfv(IRR_unlev, df['CAPEX_REHAB'].loc[s])\n",
        "\n",
        "        purch = df['PURCH_SALE'].loc[s].iloc[0]\n",
        "        sale_at_caprate_entry = (df['NOI'].loc[s].iloc[-1]\n",
        "                                 / self.v['caprate_entry'].loc[s])\n",
        "        purch_sale_at_caprate_entry = purch + sale_at_caprate_entry\n",
        "\n",
        "        caprate_compression = (df['NOI'].loc[s].iloc[-1]\n",
        "                               / self.v['caprate_exit'].loc[s] \n",
        "                               - sale_at_caprate_entry)\n",
        "\n",
        "        contribs = {'NOI_baseline' : NOI_baseline,\n",
        "                    'capex_maint' : capex_maint,\n",
        "                    'caprate_compression' : caprate_compression,\n",
        "                    'NOI_improvement' : NOI_improvement,\n",
        "                    'capex_rehab' : capex_rehab,\n",
        "                    'purch_sale_at_caprate_entry' : purch_sale_at_caprate_entry}\n",
        "        contribs = pd.Series(contribs)\n",
        "        contribs = contribs/sum(contribs) * IRR_unlev\n",
        "        contribs = contribs.append(pd.Series({'leverage' : leverage}))\n",
        "\n",
        "        if summary:  \n",
        "            contribs = {'market_effects' : contribs[:3].sum(),\n",
        "                        'mgmt_effects' : contribs[3:6].sum(),\n",
        "                        'leverage' : leverage}\n",
        "            contribs = pd.Series(contribs)\n",
        "            \n",
        "        if formatted:\n",
        "                return contribs.map('{:.1%}'.format)\n",
        "        else:\n",
        "            return contribs\n",
        "       \n",
        "    def appraisal(self, s=0):\n",
        "        '''\n",
        "        Estimates an initial appraisal value and appraiser's assumed NOI.\n",
        "        \n",
        "        Parameters\n",
        "        ----------\n",
        "        s (int) : simulation index\n",
        "\n",
        "        Returns\n",
        "        -------\n",
        "        appraisal_NOI (float)\n",
        "        appraisal (float)\n",
        "        ''' \n",
        "\n",
        "        revs_per_unit = (self.v[\"rent_rate_stab\"][s] * 12 \n",
        "                            * (1 + self.v[\"other_income\"][s]) \n",
        "                            * (1 - self.v[\"credit_loss\"][s])\n",
        "                            * self.v[\"occ_stab\"][s])\n",
        "        if np.isnan(self.v[\"oe_per_unit\"][s]):\n",
        "            oe_per_unit = -self.v[\"oe_ratio\"][s] * revs_per_unit\n",
        "        else:\n",
        "            oe_per_unit = -self.v[\"oe_per_unit\"][s]\n",
        "        oe_per_unit +=  -self.v[\"mgmt_fee\"][s] * revs_per_unit\n",
        "        \n",
        "        appraisal_NOI = ((revs_per_unit + oe_per_unit) \n",
        "                            * self.v[\"rental_units\"][s])\n",
        "        appraisal = appraisal_NOI / self.v[\"caprate_entry\"][s]\n",
        "        \n",
        "        return appraisal_NOI, appraisal \n",
        "    \n",
        "    def loan(self, appraisal_NOI, appraisal, s=0):\n",
        "        '''\n",
        "        Calculates loan amount (PV), loan payment (PMT), payoff (FV), \n",
        "        and io_pmt; subject to LTV and DSCR constraints.\n",
        "               \n",
        "        Parameters\n",
        "        ----------\n",
        "        s (int) : simulation index\n",
        "\n",
        "        Returns\n",
        "        -------\n",
        "        loan (float) : loan principle amount\n",
        "        payoff (float) : loan payoff or balloon payment at end of horizon\n",
        "        PMT (float) : annual loan payment\n",
        "        io_pmt (float) : interest-only payment during IO term\n",
        "        ''' \n",
        "               \n",
        "        rate = self.v[\"loan_rate\"][s]\n",
        "        amort = self.v[\"loan_amort\"][s]\n",
        "        LTV = self.v[\"loan_constraint_LTV\"][s]\n",
        "        DSCR = self.v[\"loan_constraint_DSCR\"][s]\n",
        "        years = self.v[\"years\"][s]\n",
        "        loan_IO_term = self.v[\"loan_IO_term\"][s]\n",
        "        costs = self.v[\"loan_costs\"][s]\n",
        "        loan_amount = self.v[\"loan_amount\"][s]\n",
        "\n",
        "        PVAfactor = (1 - (1 + rate)**-amort) / rate\n",
        "        FV_factor = (1 + rate)**(years - loan_IO_term)\n",
        "\n",
        "        if np.isnan(loan_amount):\n",
        "            PV = appraisal * LTV / (1 + costs) \n",
        "            PMT = -min(PV / PVAfactor, appraisal_NOI / DSCR)\n",
        "            PV = PMT * PVAfactor # in case PV limited by DSCR\n",
        "        else:\n",
        "            PV = loan_amount\n",
        "            PMT = PV / PVAfactor\n",
        "        \n",
        "        payoff = PV * FV_factor - PMT * ((FV_factor - 1) / rate)\n",
        "        loan = -PV * (1 - costs) # so sign shows CF direction\n",
        "        io_pmt = PV * rate \n",
        "        \n",
        "        return loan, payoff, PMT, io_pmt \n",
        "    \n",
        "    def rehab_effects(self, s=0):\n",
        "        '''\n",
        "        Spreads rent-enhancing rehab costs and benefits over horizon.\n",
        "               \n",
        "        Parameters\n",
        "        ----------\n",
        "        s (int) : simulation index\n",
        "\n",
        "        Returns\n",
        "        -------\n",
        "        rehab_costs (array)\n",
        "        rehab_prems (array)\n",
        "        '''\n",
        "\n",
        "        turnover = self.v[\"turnover\"][s] \n",
        "        rental_units = self.v[\"rental_units\"][s]\n",
        "        years = self.v[\"years\"][s]\n",
        "        rehab_opps = np.ceil(turnover**np.arange(0, years) * rental_units)\n",
        "\n",
        "        cost_per_rehab = self.v[\"rehab_cost\"][s]\n",
        "        growth_costs = self.v[\"growth_costs\"][s]\n",
        "        growth_costs_factors = (1 + growth_costs)**np.arange(0, years) \n",
        "        costs = growth_costs_factors * cost_per_rehab\n",
        "        rehab_costs = costs * rehab_opps * turnover\n",
        "\n",
        "        rehab_prem = self.v[\"rehab_prem\"][s]\n",
        "        growth_revs = self.v[\"growth_revs\"][s]\n",
        "        occ = self.v[\"occ_stab\"][s] \n",
        "        growth_revs_factors = (1 + growth_revs)**np.arange(0, years)\n",
        "        rehab_benefits_unit = growth_revs_factors * rehab_prem * 12 * occ\n",
        "        rehab_prems = (rental_units - rehab_opps) * rehab_benefits_unit \n",
        "        \n",
        "        return rehab_costs, rehab_prems\n",
        "   \n",
        "    def print_simulation(self, s=None, transpose=True, formatted=True):\n",
        "        '''\n",
        "        Pretty prints or returns DataFrame of a single simulation. \n",
        "\n",
        "        Parameters\n",
        "        ----------\n",
        "        s (int) : simulation index\n",
        "                None if using last param set\n",
        "                0 if default params\n",
        "                4 if single new draw\n",
        "                >4 if draw result of n iterations\n",
        "        transpose (bool) : if True, move columns to rows\n",
        "        formatted (bool or str) : \n",
        "            if True, return DataFrame.\n",
        "                with money and rate columns formatted for readability\n",
        "            if 'pretty', format and pretty print\n",
        "            if False, return DataFrame, unformatted\n",
        "\n",
        "        Returns\n",
        "        -------\n",
        "        DataFrame if formatted=='pretty'\n",
        "        '''\n",
        "        \n",
        "        if s == None:\n",
        "            try: df = self.simulation.copy()\n",
        "            except: df = self.simulate(0).copy()\n",
        "        else: \n",
        "            df = self.simulate(s).copy()\n",
        "        \n",
        "        if formatted is not False:\n",
        "            df = self.format_columns(df)\n",
        "\n",
        "        if formatted == 'pretty':\n",
        "            df[\" \"] = ' '  #used as a spacer\n",
        "            df = df[['OCC', 'RATE', \n",
        "                     \" \", 'REV_BASE', 'REV_PREMS', 'OE', 'NOI', \n",
        "                     \" \", 'PURCH_SALE', 'CAPEX_MAINT', 'CAPEX_REHAB', \n",
        "                     \" \", 'LOAN', 'PMT',\n",
        "                     \" \", 'FCFE', 'DSCR', 'NOIM', 'COC', 'DEBT_Y', 'IRR', 'NPV']]\n",
        "            \n",
        "            df = df.T # ignoring transpose flag, transpose if pretty print\n",
        "            if self.description == None:\n",
        "                title = \"SIMULATION \"+ str(s)\n",
        "            else:    \n",
        "                title = str(self.description).upper() + \" SIMULATION \" + str(s)\n",
        "            print(title)\n",
        "            print(\"=\" * len(title))\n",
        "            print(df)\n",
        "        \n",
        "        else: \n",
        "            if transpose:\n",
        "                df = df.T\n",
        "            return df\n",
        "\n",
        "    def top(self, col, n=3, year=None, bottom=False, formatted=True):\n",
        "        '''     \n",
        "        Pretty prints or returns DataFrame of top (or bottom) n simulations \n",
        "        sorted by column col.\n",
        "\n",
        "        Parameters\n",
        "        ----------\n",
        "        col (str or list of str) : param or simulation column\n",
        "        n (int) : number of simulations printed (default 3)\n",
        "        year (int) : year in horizon over which to calculate summary stats \n",
        "            of a simulation result. Ignored if summarizing a param.\n",
        "        bottom (bool) : if True, take bottom, rather than top, n simulations\n",
        "        formatted (bool or str) : \n",
        "            if True, return DataFrame.\n",
        "                with money and rate columns formatted for readability\n",
        "            if 'pretty', format and pretty print\n",
        "            if False, return DataFrame, unformatted\n",
        "\n",
        "        Returns\n",
        "        -------\n",
        "        DataFrame if formatted=='pretty'\n",
        "        '''\n",
        "    \n",
        "        df = self.p.copy()\n",
        "        \n",
        "        try:\n",
        "            var = self.v[col][5:]\n",
        "        except:\n",
        "            if year == None: \n",
        "                year = self.v[\"years\"][0]\n",
        "            var = df.xs(year, level=1).iloc[5:][col]  \n",
        "        \n",
        "        if bottom: \n",
        "            title = \"BOTTOM \"\n",
        "            sims = var.nsmallest(n).index\n",
        "        else: \n",
        "            title = \"TOP \"\n",
        "            sims = var.nlargest(n).index\n",
        "        \n",
        "        if formatted is not False:\n",
        "            df = self.format_columns(df)\n",
        "        \n",
        "        if formatted == 'pretty':\n",
        "            print(title + str(n) + \" \" + col + \" SCENARIOS\")\n",
        "            for i in sims:\n",
        "                print(\"\\n\")\n",
        "                self.print_simulation(i, True, 'pretty')\n",
        "        else:\n",
        "            return df.loc[sims].stack().unstack(level=1)\n",
        "    \n",
        "    def format_columns(self, df):\n",
        "        '''\n",
        "        Styles money and rate columns for readability and removes NaNs.\n",
        "        '''\n",
        "\n",
        "        # format money columns\n",
        "        for column in ['PURCH_SALE', 'CAPEX_MAINT', 'CAPEX_REHAB', \n",
        "                       'LOAN', 'PMT', \n",
        "                       'REV_BASE', 'REV_PREMS', 'OE', 'NOI', \n",
        "                       'FCFE', 'NPV']:\n",
        "            df[column] = df[column].map('{:,.0f}'.format)\n",
        "        df['RATE'] = df['RATE'].map('{:,.2f}'.format)\n",
        "\n",
        "            \n",
        "        # format rate columns\n",
        "        for column in ['OCC', 'IRR', 'COC', 'NOIM', 'DEBT_Y']:\n",
        "            df[column] = df[column].map('{:,.1%}'.format)\n",
        "        df[\"DSCR\"] = df['DSCR'].map('{:,.2f}'.format) \n",
        "\n",
        "        for column in ['DSCR', 'IRR', 'COC', 'NPV', 'NOIM', 'DEBT_Y']:\n",
        "            df[column].replace(['None', 'NaN', np.nan,'nan','nan%'], \"\", \n",
        "                                inplace=True)\n",
        "            \n",
        "        return df\n",
        "    \n",
        "    def print_params(self, s=0, print_common_params = False):   \n",
        "        '''\n",
        "        Pretty prints set of input params and values.  \n",
        "\n",
        "        Parameters\n",
        "        ----------\n",
        "        s (int) : simulation index\n",
        "                None if using last param set\n",
        "                0 if default params\n",
        "                4 if single new draw\n",
        "                >4 if draw result of n iterations\n",
        "        print_common_params (bool) : if True, include common params.\n",
        "        '''\n",
        "        \n",
        "        df = self.v[:5]\n",
        "        \n",
        "        if s == 4: \n",
        "            self.draw_params(s)\n",
        "        elif s > 4:\n",
        "            df = pd.concat([df, self.v[s:s + 1]])\n",
        "        \n",
        "        assumption_set = \"(estimate, stdev, min, max, draw)\"\n",
        "        \n",
        "        if print_common_params:\n",
        "            keys = sorted(self.v.keys())\n",
        "            title = \"ALL MODEL ASSUMPTIONS \" + assumption_set\n",
        "        else:    \n",
        "            keys = sorted(self.project_params.keys())\n",
        "            title = \"PROJECT-SPECIFIC MODEL ASSUMPTIONS \" + assumption_set\n",
        "            \n",
        "        print(title)\n",
        "        print(\"=\" * len(title)) \n",
        "        for k in keys: \n",
        "            print(k,\":\", df[k].tolist())\n",
        "    \n",
        "    def describe(self, col, year=None, scale=1):\n",
        "        '''\n",
        "        Prints a table of summary statistics on column(s) col.\n",
        "\n",
        "        Parameters\n",
        "        ----------\n",
        "        col (str or list of str) : param or simulation column\n",
        "        year (int) :  year in horizon over which to calculate summary stats \n",
        "            of a simulation result; ignored if summarizing a param\n",
        "        scale (float) : scales the summary statistics\n",
        "        '''\n",
        "\n",
        "        if type(col) == str: col = [col]\n",
        "        if not hasattr(scale, \"__iter__\"): \n",
        "            scale = [scale] * len(col) #if scale not an iterable\n",
        "        df = pd.DataFrame()\n",
        "        \n",
        "        for i, c in enumerate(col):\n",
        "            try:\n",
        "                df = df.append(self.v[c][5:] * scale[i]) \n",
        "            except:\n",
        "                if year == None: year = self.v[\"years\"][0]\n",
        "                df = df.append(self.p.xs(year, level=1).iloc[5:][c] * scale[i]) \n",
        "              \n",
        "        described = df.T.describe([0.05,0.25,0.5,0.75,0.95])\n",
        "        print(described.applymap(\"{0:,.2f}\".format))\n",
        "             \n",
        "    def elasticities(self, col=\"NPV\"):\n",
        "        '''\n",
        "        Print estimated param elasticities of col (e.g. occ_stab elasticity \n",
        "        of NPV) and associated p-values. Elasticities are estimated only for\n",
        "        stochastic params.\n",
        "        \n",
        "        Parameters\n",
        "        ----------\n",
        "        col (str) : simulation column\n",
        "        '''  \n",
        "\n",
        "        year = self.v[\"years\"][0]\n",
        "\n",
        "        df1 = pd.DataFrame(self.p.xs(year, level=1).iloc[5:][col])\n",
        "        \n",
        "        s = ~np.isnan(self.v[1:2]).T[1]\n",
        "        df2 = self.v[5:][[column for column in s[s==True].index]]\n",
        "        df3 = df1.join(df2)\n",
        "        \n",
        "        df3 = df3[(df3 > 0).all(1)] \n",
        "        # removes any row with a negative number in any column\n",
        "        \n",
        "        OLS_dep_var = np.log(df3[col])  #r esponse\n",
        "        OLS_ind_var = np.log(df3.drop([col], axis=1)) # predictor\n",
        "\n",
        "        elasticity_estimate = sm.OLS(OLS_dep_var, \n",
        "                                     OLS_ind_var, missing='drop').fit()\n",
        "\n",
        "        title = \"SENSITIVITY ANALYSIS: ELASTICITY OF \" \n",
        "        title += str(col) + \" WITH RESPECT TO UNCERTAIN ASSUMPTIONS\"\n",
        "        print(title)\n",
        "        print(\"=\" * len(title))\n",
        "        print (pd.DataFrame({'elasticity': elasticity_estimate.params.round(2),\n",
        "                             'p-value': elasticity_estimate.pvalues.round(2)}))\n",
        "    \n",
        "    def plot_col(self, col, year=None, xlabel=None, \n",
        "                 scale=1, bw=0.05, kde=True):\n",
        "        '''\n",
        "        Plots a distribution of columns col as a histogram or kernel density \n",
        "        estimate.\n",
        "\n",
        "        Parameters\n",
        "        ----------\n",
        "        col (str) : simulation column\n",
        "        year (int) :  year in horizon over which to plot simulation results; \n",
        "            ignored if summarizing a param\n",
        "        scale (float) : scales the variable\n",
        "        xlabel (str) : label for the x-axis\n",
        "        bw (float) : bandwidth\n",
        "        kde (bool) : If True, display as kernel denisity estimate.\n",
        "            If False, display as histogram.\n",
        "                \n",
        "        Example Usage\n",
        "        ------------- \n",
        "        plot_col(\"NPV\",scale=1/1e6, xlabel=\"NPV ($M)\")\n",
        "        plot_col(\"IRR\",scale=100, xlabel=\"IRR (%)\")\n",
        "        plot_col(\"occ_stab\",scale=100, xlabel=\"occ_stab (%)\")\n",
        "        '''\n",
        "      \n",
        "        try:\n",
        "            var = self.v[col][5:]\n",
        "        except:\n",
        "            if year == None: year = self.v[\"years\"][0]\n",
        "            var = self.p.xs(year, level=1).iloc[5:][col]\n",
        "\n",
        "        var = var.dropna()\n",
        "        var = var * scale\n",
        "\n",
        "        avg, stdev = np.mean(var), np.std(var)\n",
        "        min_, max_ = np.min(var), np.max(var)\n",
        "        conf_int_low = max(min_, avg - stdev * 1.96)\n",
        "        conf_int_high = min(max_, avg + stdev * 1.96)       \n",
        "        \n",
        "        plt.figure(figsize=(10, 10/1.6)) \n",
        "        ax = sns.distplot(var, kde=kde, hist=not kde, label=col,\n",
        "                        norm_hist=True, kde_kws={\"bw\":bw, 'shade':True})\n",
        "        ax.set(xlabel=xlabel, \n",
        "                ylabel='relative frequency')\n",
        "\n",
        "        if kde:\n",
        "            c = ax.get_lines()[-1].get_c()    \n",
        "            plt.axvline(avg, color=c, linestyle='dashed', label=r'$\\bar{x}$')\n",
        "            plt.axvline(conf_int_low, color=c, linestyle='dotted', \n",
        "                        label=r'$\\bar{x} \\pm 2s$')\n",
        "            plt.axvline(conf_int_high, color=c, linestyle='dotted')      \n",
        "\n",
        "        leg = plt.legend(fontsize='large')\n",
        "        plt.show()"
      ],
      "execution_count": 0,
      "outputs": []
    },
    {
      "cell_type": "markdown",
      "metadata": {
        "id": "ZWBGyyWzeQVl",
        "colab_type": "text"
      },
      "source": [
        "### Example usage, Quail Apartments"
      ]
    },
    {
      "cell_type": "markdown",
      "metadata": {
        "id": "EKv6HzN7bcpT",
        "colab_type": "text"
      },
      "source": [
        "Initialize Quail Apartments with underwriting assumptions and simulate 100 times."
      ]
    },
    {
      "cell_type": "code",
      "metadata": {
        "id": "lV9brMRycoBW",
        "colab_type": "code",
        "colab": {}
      },
      "source": [
        "#--- parameters (estimate, stdev, lower bound, upper bound;---#\n",
        "#--- \"None\" for no stdev, lower or upper)---#\n",
        "\n",
        "#--- project-specific params: take precedence over common params where keys equal ---#\n",
        "quail_params = {  \"rental_units\" : 50, \n",
        "                  \"unit_area\" : 750, \n",
        "                  \n",
        "                  # operations\n",
        "                  \"transition_years\" : 0,\n",
        "                  \"occ_now\" : 0.9,\n",
        "                  \"occ_stab\" : [0.90, 0.1, 0, 0.98], \n",
        "                  \"rent_rate_now\" : 1000, #current rates              \n",
        "                  \"rent_rate_stab\" : [1000, 50], \n",
        "                  \"other_income\" : 0, \n",
        "                  \"credit_loss\" : 0,\n",
        "                  \"oe_per_unit\" : [None], #[None] if use oe_ration instead\n",
        "                  \"oe_ratio\" : [0.5, 0.05],\n",
        "                  \"mgmt_fee\" : 0.00,             \n",
        "                  \n",
        "                  # capex\n",
        "                  \"turnover\" : 0.5,\n",
        "                  \"rehab_prem\" : [150, 50],\n",
        "                  \"rehab_cost\" : [15000, 75],\n",
        "                  \"maint_reserve_per_unit\" : 300,\n",
        "                  \"deferred_maint\" : 200000,\n",
        "                  \n",
        "                  # leverage\n",
        "                  \"loan_rate\" : 0.0350,\n",
        "                  \"loan_constraint_LTV\" : 0.75,\n",
        "                  \"loan_constraint_DSCR\" : 1.25,\n",
        "                  \"loan_amort\" : 30,\n",
        "                  \"loan_amount\" : [None], #[None] if no loan commitment\n",
        "                  \"loan_IO_term\" : 0, \n",
        "                  \"loan_costs\" : 0, # as a fraction of loan amount\n",
        "                  \n",
        "                  # growth, caprates, purchase\n",
        "                  \"growth_revs\" : [0.030, 0.015],  \n",
        "                  \"growth_costs\" : [0.025, 0.015], \n",
        "                  \"caprate_entry\" : 0.055, \n",
        "                  \"caprate_exit\" : [0.060, 0.01, 0.055],\n",
        "                  \"purch_price\": [None] #[None] if purch_price == appraisal\n",
        "                  }\n",
        "\n",
        "#--- common params: project-specific params take precedence where keys equal ---#\n",
        "common_params =  {\"discount_rate\" : 0.10, #caprate + average growth in NOI\n",
        "                  \"years\" : 5} \n",
        "                  \n",
        "#Initialize quail, an apartment complex of class apartment, and run 100 simulations\n",
        "quail = apartment_complex(quail_params, common_params, \n",
        "                          description = \"Quail Apartments\")\n",
        "quail.iter_params(100)"
      ],
      "execution_count": 0,
      "outputs": []
    },
    {
      "cell_type": "markdown",
      "metadata": {
        "id": "rUp2nlzUcEOg",
        "colab_type": "text"
      },
      "source": [
        "Print proforma."
      ]
    },
    {
      "cell_type": "code",
      "metadata": {
        "id": "bOtXx1YefCua",
        "colab_type": "code",
        "outputId": "98ce43b2-5d20-4a16-960a-c2dbca8a8f33",
        "colab": {
          "base_uri": "https://localhost:8080/",
          "height": 423
        }
      },
      "source": [
        "quail.print_simulation(0, transpose=False, formatted='pretty')"
      ],
      "execution_count": 81,
      "outputs": [
        {
          "output_type": "stream",
          "text": [
            "QUAIL APARTMENTS SIMULATION 0\n",
            "=============================\n",
            "                      0         1         2         3         4           5\n",
            "OCC               90.0%     90.0%     90.0%     90.0%     90.0%       90.0%\n",
            "RATE           1,000.00  1,000.00  1,000.00  1,000.00  1,000.00    1,000.00\n",
            "                                                                           \n",
            "REV_BASE              0   540,000   556,200   572,886   590,073     607,775\n",
            "REV_PREMS             0         0    41,715    63,590    76,119      83,873\n",
            "OE                    0  -270,000  -276,750  -283,669  -290,760    -298,029\n",
            "NOI                   0   270,000   321,165   352,808   375,431     393,618\n",
            "                                                                           \n",
            "PURCH_SALE   -4,909,090         0         0         0         0   6,560,303\n",
            "CAPEX_MAINT    -200,000   -15,000   -15,375   -15,759   -16,153     -16,557\n",
            "CAPEX_REHAB           0  -375,000  -192,187  -102,436   -56,537     -33,114\n",
            "                                                                           \n",
            "LOAN          3,681,818         0         0         0         0  -3,299,357\n",
            "PMT                   0  -200,185  -200,185  -200,185  -200,185    -200,185\n",
            "                                                                           \n",
            "FCFE         -1,427,272  -320,185   -86,583    34,427   102,556   3,404,707\n",
            "DSCR                         1.35      1.60      1.76      1.88        1.97\n",
            "NOIM                        50.0%     53.7%     55.4%     56.4%       56.9%\n",
            "COC                        -22.4%     -6.1%      2.4%      7.2%      238.5%\n",
            "DEBT_Y                       7.3%      8.7%      9.6%     10.2%       10.7%\n",
            "IRR                                            -82.0%    -53.4%       15.0%\n",
            "NPV                                                                 420,062\n"
          ],
          "name": "stdout"
        }
      ]
    },
    {
      "cell_type": "markdown",
      "metadata": {
        "id": "KpSrDSqvcYnf",
        "colab_type": "text"
      },
      "source": [
        "Break down the components of levered IRR. See for background: https://www.mckinsey.com/business-functions/strategy-and-corporate-finance/our-insights/a-better-way-to-understand-internal-rate-of-return "
      ]
    },
    {
      "cell_type": "code",
      "metadata": {
        "id": "Uy8W5vDdyFuZ",
        "colab_type": "code",
        "outputId": "f17eac30-3c03-4d5d-a834-678b7697f26e",
        "colab": {
          "base_uri": "https://localhost:8080/",
          "height": 147
        }
      },
      "source": [
        "quail.IRR_attrib(summary=False, formatted=True)"
      ],
      "execution_count": 82,
      "outputs": [
        {
          "output_type": "execute_result",
          "data": {
            "text/plain": [
              "NOI_baseline                    5.2%\n",
              "capex_maint                    -1.3%\n",
              "caprate_compression            -2.1%\n",
              "NOI_improvement                 1.3%\n",
              "capex_rehab                    -3.2%\n",
              "purch_sale_at_caprate_entry     8.0%\n",
              "leverage                        7.1%\n",
              "dtype: object"
            ]
          },
          "metadata": {
            "tags": []
          },
          "execution_count": 82
        }
      ]
    },
    {
      "cell_type": "markdown",
      "metadata": {
        "id": "omdRCVBbcxkU",
        "colab_type": "text"
      },
      "source": [
        "Group by the effects of the market, management, and leverage. "
      ]
    },
    {
      "cell_type": "code",
      "metadata": {
        "id": "rOJLFFHobPFO",
        "colab_type": "code",
        "colab": {
          "base_uri": "https://localhost:8080/",
          "height": 82
        },
        "outputId": "9530e3c4-7dd1-4103-a8db-301332dcb1bf"
      },
      "source": [
        "quail.IRR_attrib(summary=True, formatted=True)"
      ],
      "execution_count": 83,
      "outputs": [
        {
          "output_type": "execute_result",
          "data": {
            "text/plain": [
              "market_effects    1.8%\n",
              "mgmt_effects      6.1%\n",
              "leverage          7.1%\n",
              "dtype: object"
            ]
          },
          "metadata": {
            "tags": []
          },
          "execution_count": 83
        }
      ]
    },
    {
      "cell_type": "markdown",
      "metadata": {
        "id": "9F0H0wjHc_Bl",
        "colab_type": "text"
      },
      "source": [
        "What are the top 3 IRR scenarios?"
      ]
    },
    {
      "cell_type": "code",
      "metadata": {
        "id": "EMr0cWYfcoBw",
        "colab_type": "code",
        "outputId": "12908061-976f-4134-8999-8ef380a3675d",
        "colab": {
          "base_uri": "https://localhost:8080/",
          "height": 1000
        }
      },
      "source": [
        "quail.top(\"IRR\", formatted='pretty')"
      ],
      "execution_count": 84,
      "outputs": [
        {
          "output_type": "stream",
          "text": [
            "TOP 3 IRR SCENARIOS\n",
            "\n",
            "\n",
            "QUAIL APARTMENTS SIMULATION 92\n",
            "==============================\n",
            "                      0         1         2         3         4           5\n",
            "OCC               90.0%     97.4%     97.4%     97.4%     97.4%       97.4%\n",
            "RATE           1,000.00  1,066.09  1,066.09  1,066.09  1,066.09    1,066.09\n",
            "                                                                           \n",
            "REV_BASE              0   623,062   654,268   687,037   721,447     757,581\n",
            "REV_PREMS             0         0    68,597   106,608   130,101     146,149\n",
            "OE                    0  -362,923  -368,524  -374,211  -379,986    -385,850\n",
            "NOI                   0   260,139   354,341   419,434   471,562     517,879\n",
            "                                                                           \n",
            "PURCH_SALE   -4,909,090         0         0         0         0   8,860,633\n",
            "CAPEX_MAINT    -200,000   -15,000   -15,231   -15,467   -15,705     -15,948\n",
            "CAPEX_REHAB           0  -375,424  -190,609  -100,646   -55,030     -31,931\n",
            "                                                                           \n",
            "LOAN          3,681,818         0         0         0         0  -3,299,357\n",
            "PMT                   0  -200,185  -200,185  -200,185  -200,185    -200,185\n",
            "                                                                           \n",
            "FCFE         -1,427,272  -330,470   -51,684   103,136   200,641   5,831,091\n",
            "DSCR                         1.30      1.77      2.10      2.36        2.59\n",
            "NOIM                        41.8%     49.0%     52.8%     55.4%       57.3%\n",
            "COC                        -23.2%     -3.6%      7.2%     14.1%      408.5%\n",
            "DEBT_Y                       7.1%      9.6%     11.4%     12.8%       14.1%\n",
            "IRR                                            -67.2%    -40.8%       29.6%\n",
            "NPV                                                               2,064,764\n",
            "\n",
            "\n",
            "QUAIL APARTMENTS SIMULATION 97\n",
            "==============================\n",
            "                      0         1         2         3         4           5\n",
            "OCC               90.0%     97.2%     97.2%     97.2%     97.2%       97.2%\n",
            "RATE           1,000.00    979.64    979.64    979.64    979.64      979.64\n",
            "                                                                           \n",
            "REV_BASE              0   571,256   591,616   612,702   634,539     657,154\n",
            "REV_PREMS             0         0    53,078    81,355    97,918     108,482\n",
            "OE                    0  -267,244  -269,861  -272,504  -275,172    -277,866\n",
            "NOI                   0   304,012   374,833   421,553   457,285     487,770\n",
            "                                                                           \n",
            "PURCH_SALE   -4,909,090         0         0         0         0   8,039,400\n",
            "CAPEX_MAINT    -200,000   -15,000   -15,147   -15,295   -15,445     -15,596\n",
            "CAPEX_REHAB           0  -376,901  -190,296   -99,923   -54,331     -31,351\n",
            "                                                                           \n",
            "LOAN          3,681,818         0         0         0         0  -3,299,357\n",
            "PMT                   0  -200,185  -200,185  -200,185  -200,185    -200,185\n",
            "                                                                           \n",
            "FCFE         -1,427,272  -288,074   -30,795   106,150   187,323   4,980,681\n",
            "DSCR                         1.52      1.87      2.11      2.28        2.44\n",
            "NOIM                        53.2%     58.1%     60.7%     62.4%       63.7%\n",
            "COC                        -20.2%     -2.2%      7.4%     13.1%      349.0%\n",
            "DEBT_Y                       8.3%     10.2%     11.4%     12.4%       13.2%\n",
            "IRR                                            -65.1%    -40.5%       26.3%\n",
            "NPV                                                               1,585,699\n",
            "\n",
            "\n",
            "QUAIL APARTMENTS SIMULATION 72\n",
            "==============================\n",
            "                      0         1         2         3         4           5\n",
            "OCC               90.0%     97.4%     97.4%     97.4%     97.4%       97.4%\n",
            "RATE           1,000.00  1,057.07  1,057.07  1,057.07  1,057.07    1,057.07\n",
            "                                                                           \n",
            "REV_BASE              0   617,746   634,139   650,966   668,240     685,973\n",
            "REV_PREMS             0         0    33,266    50,540    60,295      66,213\n",
            "OE                    0  -290,085  -290,375  -290,666  -290,957    -291,248\n",
            "NOI                   0   327,661   377,029   410,841   437,578     460,938\n",
            "                                                                           \n",
            "PURCH_SALE   -4,909,090         0         0         0         0   7,985,615\n",
            "CAPEX_MAINT    -200,000   -15,000   -15,015   -15,030   -15,045     -15,060\n",
            "CAPEX_REHAB           0  -376,119  -188,248   -97,987   -52,815     -30,210\n",
            "                                                                           \n",
            "LOAN          3,681,818         0         0         0         0  -3,299,357\n",
            "PMT                   0  -200,185  -200,185  -200,185  -200,185    -200,185\n",
            "                                                                           \n",
            "FCFE         -1,427,272  -263,644   -26,419    97,638   169,533   4,901,740\n",
            "DSCR                         1.64      1.88      2.05      2.19        2.30\n",
            "NOIM                        53.0%     56.5%     58.6%     60.1%       61.3%\n",
            "COC                        -18.5%     -1.9%      6.8%     11.9%      343.4%\n",
            "DEBT_Y                       8.9%     10.2%     11.2%     11.9%       12.5%\n",
            "IRR                                            -65.7%    -41.7%       26.1%\n",
            "NPV                                                               1,543,963\n"
          ],
          "name": "stdout"
        }
      ]
    },
    {
      "cell_type": "markdown",
      "metadata": {
        "id": "_0EykLZYdHtH",
        "colab_type": "text"
      },
      "source": [
        "and the worst 3?"
      ]
    },
    {
      "cell_type": "code",
      "metadata": {
        "id": "V4BSUE1JcoB1",
        "colab_type": "code",
        "outputId": "df0fc436-d9da-4688-d64c-5634e95bfa62",
        "colab": {
          "base_uri": "https://localhost:8080/",
          "height": 1000
        }
      },
      "source": [
        "quail.top(\"IRR\", bottom=True, formatted='pretty')"
      ],
      "execution_count": 85,
      "outputs": [
        {
          "output_type": "stream",
          "text": [
            "BOTTOM 3 IRR SCENARIOS\n",
            "\n",
            "\n",
            "QUAIL APARTMENTS SIMULATION 43\n",
            "==============================\n",
            "                      0         1         2         3         4           5\n",
            "OCC               90.0%     79.9%     79.9%     79.9%     79.9%       79.9%\n",
            "RATE           1,000.00    975.31    975.31    975.31    975.31      975.31\n",
            "                                                                           \n",
            "REV_BASE              0   467,562   473,311   479,131   485,022     490,986\n",
            "REV_PREMS             0         0    30,136    45,150    53,117      57,521\n",
            "OE                    0  -263,565  -269,854  -276,293  -282,886    -289,636\n",
            "NOI                   0   203,997   233,593   247,988   255,253     258,871\n",
            "                                                                           \n",
            "PURCH_SALE   -4,909,090         0         0         0         0   4,126,421\n",
            "CAPEX_MAINT    -200,000   -15,000   -15,358   -15,724   -16,100     -16,484\n",
            "CAPEX_REHAB           0  -372,960  -190,930  -101,653   -56,042     -32,788\n",
            "                                                                           \n",
            "LOAN          3,681,818         0         0         0         0  -3,299,357\n",
            "PMT                   0  -200,185  -200,185  -200,185  -200,185    -200,185\n",
            "                                                                           \n",
            "FCFE         -1,427,272  -384,149  -172,880   -69,575   -17,074     836,478\n",
            "DSCR                         1.02      1.17      1.24      1.28        1.29\n",
            "NOIM                        43.6%     46.4%     47.3%     47.4%       47.2%\n",
            "COC                        -26.9%    -12.1%     -4.9%     -1.2%       58.6%\n",
            "DEBT_Y                       5.5%      6.3%      6.7%      6.9%        7.0%\n",
            "IRR                                                                  -18.5%\n",
            "NPV                                                              -1,463,921\n",
            "\n",
            "\n",
            "QUAIL APARTMENTS SIMULATION 76\n",
            "==============================\n",
            "                      0         1         2         3         4           5\n",
            "OCC               90.0%     81.9%     81.9%     81.9%     81.9%       81.9%\n",
            "RATE           1,000.00  1,053.32  1,053.32  1,053.32  1,053.32    1,053.32\n",
            "                                                                           \n",
            "REV_BASE              0   517,683   524,919   532,257   539,697     547,241\n",
            "REV_PREMS             0         0    15,717    23,587    27,795      30,149\n",
            "OE                    0  -231,707  -239,993  -248,574  -257,463    -266,669\n",
            "NOI                   0   285,976   300,644   307,269   310,029     310,722\n",
            "                                                                           \n",
            "PURCH_SALE   -4,909,090         0         0         0         0   4,413,471\n",
            "CAPEX_MAINT    -200,000   -15,000   -15,536   -16,092   -16,667     -17,263\n",
            "CAPEX_REHAB           0  -376,585  -195,026  -105,040   -58,582     -34,673\n",
            "                                                                           \n",
            "LOAN          3,681,818         0         0         0         0  -3,299,357\n",
            "PMT                   0  -200,185  -200,185  -200,185  -200,185    -200,185\n",
            "                                                                           \n",
            "FCFE         -1,427,272  -305,795  -110,103   -14,048    34,594   1,172,714\n",
            "DSCR                         1.43      1.50      1.53      1.55        1.55\n",
            "NOIM                        55.2%     55.6%     55.3%     54.6%       53.8%\n",
            "COC                        -21.4%     -7.7%     -1.0%      2.4%       82.2%\n",
            "DEBT_Y                       7.8%      8.2%      8.3%      8.4%        8.4%\n",
            "IRR                                                      -69.8%       -8.8%\n",
            "NPV                                                              -1,055,024\n",
            "\n",
            "\n",
            "QUAIL APARTMENTS SIMULATION 52\n",
            "==============================\n",
            "                      0         1         2         3         4           5\n",
            "OCC               90.0%     94.2%     94.2%     94.2%     94.2%       94.2%\n",
            "RATE           1,000.00    941.73    941.73    941.73    941.73      941.73\n",
            "                                                                           \n",
            "REV_BASE              0   532,213   536,885   541,599   546,354     551,151\n",
            "REV_PREMS             0         0    36,726    54,832    64,283      69,372\n",
            "OE                    0  -270,295  -284,941  -300,380  -316,657    -333,815\n",
            "NOI                   0   261,918   288,671   296,051   293,981     286,708\n",
            "                                                                           \n",
            "PURCH_SALE   -4,909,090         0         0         0         0   4,512,354\n",
            "CAPEX_MAINT    -200,000   -15,000   -15,813   -16,670   -17,573     -18,525\n",
            "CAPEX_REHAB           0  -373,134  -196,676  -107,813   -61,199     -36,866\n",
            "                                                                           \n",
            "LOAN          3,681,818         0         0         0         0  -3,299,357\n",
            "PMT                   0  -200,185  -200,185  -200,185  -200,185    -200,185\n",
            "                                                                           \n",
            "FCFE         -1,427,272  -326,401  -124,003   -28,618    15,024   1,244,129\n",
            "DSCR                         1.31      1.44      1.48      1.47        1.43\n",
            "NOIM                        49.2%     50.3%     49.6%     48.1%       46.2%\n",
            "COC                        -22.9%     -8.7%     -2.0%      1.1%       87.2%\n",
            "DEBT_Y                       7.1%      7.8%      8.0%      8.0%        7.8%\n",
            "IRR                                                      -80.3%       -8.6%\n",
            "NPV                                                              -1,065,216\n"
          ],
          "name": "stdout"
        }
      ]
    },
    {
      "cell_type": "markdown",
      "metadata": {
        "id": "PYcHgFuvdVgO",
        "colab_type": "text"
      },
      "source": [
        "Wow, scenario 20 looks pretty bad. Review the variables used to calculate this scenario."
      ]
    },
    {
      "cell_type": "code",
      "metadata": {
        "id": "mLHZLgx2coCC",
        "colab_type": "code",
        "outputId": "a7429025-c2e5-4fa0-c3b5-43025beba793",
        "colab": {
          "base_uri": "https://localhost:8080/",
          "height": 521
        }
      },
      "source": [
        "quail.print_params(20)"
      ],
      "execution_count": 86,
      "outputs": [
        {
          "output_type": "stream",
          "text": [
            "PROJECT-SPECIFIC MODEL ASSUMPTIONS (estimate, stdev, min, max, draw)\n",
            "====================================================================\n",
            "caprate_entry : [0.055, nan, -inf, inf, 0.0, 0.055]\n",
            "caprate_exit : [0.06, 0.01, 0.055, inf, 0.0, 0.05593950797151089]\n",
            "credit_loss : [0.0, nan, -inf, inf, 0.0, 0.0]\n",
            "deferred_maint : [200000.0, nan, -inf, inf, 0.0, 200000.0]\n",
            "growth_costs : [0.025, 0.015, -inf, inf, 0.0, 0.03253867374057957]\n",
            "growth_revs : [0.03, 0.015, -inf, inf, 0.0, 0.017354162073178976]\n",
            "loan_IO_term : [0.0, nan, -inf, inf, 0.0, 0.0]\n",
            "loan_amort : [30.0, nan, -inf, inf, 0.0, 30.0]\n",
            "loan_amount : [nan, nan, -inf, inf, 0.0, nan]\n",
            "loan_constraint_DSCR : [1.25, nan, -inf, inf, 0.0, 1.25]\n",
            "loan_constraint_LTV : [0.75, nan, -inf, inf, 0.0, 0.75]\n",
            "loan_costs : [0.0, nan, -inf, inf, 0.0, 0.0]\n",
            "loan_rate : [0.035, nan, -inf, inf, 0.0, 0.035]\n",
            "maint_reserve_per_unit : [300.0, nan, -inf, inf, 0.0, 300.0]\n",
            "mgmt_fee : [0.0, nan, -inf, inf, 0.0, 0.0]\n",
            "occ_now : [0.9, nan, -inf, inf, 0.0, 0.9]\n",
            "occ_stab : [0.9, 0.1, 0.0, 0.98, 0.0, 0.7891840478998925]\n",
            "oe_per_unit : [nan, nan, -inf, inf, 0.0, nan]\n",
            "oe_ratio : [0.5, 0.05, -inf, inf, 0.0, 0.4533136407540666]\n",
            "other_income : [0.0, nan, -inf, inf, 0.0, 0.0]\n",
            "purch_price : [nan, nan, -inf, inf, 0.0, nan]\n",
            "rehab_cost : [15000.0, 75.0, -inf, inf, 0.0, 15010.464901700561]\n",
            "rehab_prem : [150.0, 50.0, -inf, inf, 0.0, 140.07201117328862]\n",
            "rent_rate_now : [1000.0, nan, -inf, inf, 0.0, 1000.0]\n",
            "rent_rate_stab : [1000.0, 50.0, -inf, inf, 0.0, 997.5836298472742]\n",
            "rental_units : [50.0, nan, -inf, inf, 0.0, 50.0]\n",
            "transition_years : [0.0, nan, -inf, inf, 0.0, 0.0]\n",
            "turnover : [0.5, nan, -inf, inf, 0.0, 0.5]\n",
            "unit_area : [750.0, nan, -inf, inf, 0.0, 750.0]\n"
          ],
          "name": "stdout"
        }
      ]
    },
    {
      "cell_type": "markdown",
      "metadata": {
        "id": "PGEoSVBedy4v",
        "colab_type": "text"
      },
      "source": [
        "Plot the distribution of stabilized occupancy draws."
      ]
    },
    {
      "cell_type": "code",
      "metadata": {
        "id": "g9Jyw5WScoCJ",
        "colab_type": "code",
        "outputId": "0b1ac653-4d2b-45b8-de38-469bb644c006",
        "colab": {
          "base_uri": "https://localhost:8080/",
          "height": 402
        }
      },
      "source": [
        "quail.plot_col(\"occ_stab\", scale=100, bw=0.02*100, kde=True,\n",
        "                xlabel=\"Stabilized Occupancy Rate (%)\")"
      ],
      "execution_count": 87,
      "outputs": [
        {
          "output_type": "display_data",
          "data": {
            "image/png": "[encoded data removed]",
            "text/plain": [
              "<Figure size 720x450 with 1 Axes>"
            ]
          },
          "metadata": {
            "tags": [],
            "needs_background": "light"
          }
        }
      ]
    },
    {
      "cell_type": "markdown",
      "metadata": {
        "id": "DQJvaopveCvG",
        "colab_type": "text"
      },
      "source": [
        "Plot the distributions of IRR and NVP to get sense of the risk in this investment."
      ]
    },
    {
      "cell_type": "code",
      "metadata": {
        "id": "5_rDN2i9OHQx",
        "colab_type": "code",
        "outputId": "7b0d80aa-d70b-4845-9b0b-22624f79919d",
        "colab": {
          "base_uri": "https://localhost:8080/",
          "height": 402
        }
      },
      "source": [
        "quail.plot_col(\"IRR\", scale=100, bw=0.05*100, \n",
        "                xlabel=\"Internal Rate of Return (%)\")"
      ],
      "execution_count": 88,
      "outputs": [
        {
          "output_type": "display_data",
          "data": {
            "image/png": "[encoded data removed]",
            "text/plain": [
              "<Figure size 720x450 with 1 Axes>"
            ]
          },
          "metadata": {
            "tags": [],
            "needs_background": "light"
          }
        }
      ]
    },
    {
      "cell_type": "code",
      "metadata": {
        "id": "8NgSjaPfcoCO",
        "colab_type": "code",
        "outputId": "c912a420-bf1b-4034-8eee-34306814fe61",
        "colab": {
          "base_uri": "https://localhost:8080/",
          "height": 402
        }
      },
      "source": [
        "scale = 1/1000000\n",
        "quail.plot_col(\"NPV\", scale=scale, bw=0.2, kde=True,\n",
        "                xlabel=\"Net Present Value (millions $)\")"
      ],
      "execution_count": 89,
      "outputs": [
        {
          "output_type": "display_data",
          "data": {
            "image/png": "[encoded data removed]",
            "text/plain": [
              "<Figure size 720x450 with 1 Axes>"
            ]
          },
          "metadata": {
            "tags": [],
            "needs_background": "light"
          }
        }
      ]
    },
    {
      "cell_type": "markdown",
      "metadata": {
        "id": "S6NeW4Z6eblP",
        "colab_type": "text"
      },
      "source": [
        "Is NPV symmetical about the average? Check for skew."
      ]
    },
    {
      "cell_type": "code",
      "metadata": {
        "id": "hqfWwSkAcoCS",
        "colab_type": "code",
        "outputId": "301994d4-bf2a-461e-8e75-3e147147eecd",
        "colab": {
          "base_uri": "https://localhost:8080/",
          "height": 33
        }
      },
      "source": [
        "year = 5\n",
        "col = \"NPV\"\n",
        "round(skew(quail.p.xs(year, level=1).loc[5:][col]),2) "
      ],
      "execution_count": 90,
      "outputs": [
        {
          "output_type": "execute_result",
          "data": {
            "text/plain": [
              "0.18"
            ]
          },
          "metadata": {
            "tags": []
          },
          "execution_count": 90
        }
      ]
    },
    {
      "cell_type": "markdown",
      "metadata": {
        "id": "7jZBK9uDelJa",
        "colab_type": "text"
      },
      "source": [
        "How sensitive is NPV to the stochastic variables? Estimate elasticities."
      ]
    },
    {
      "cell_type": "code",
      "metadata": {
        "id": "Iq1cBzeBcoB6",
        "colab_type": "code",
        "outputId": "b0ae5ea1-ce91-4aaa-f30d-049b33437eba",
        "colab": {
          "base_uri": "https://localhost:8080/",
          "height": 196
        }
      },
      "source": [
        "quail.elasticities(\"NPV\")"
      ],
      "execution_count": 91,
      "outputs": [
        {
          "output_type": "stream",
          "text": [
            "SENSITIVITY ANALYSIS: ELASTICITY OF NPV WITH RESPECT TO UNCERTAIN ASSUMPTIONS\n",
            "=============================================================================\n",
            "                elasticity  p-value\n",
            "occ_stab              9.60     0.00\n",
            "rent_rate_stab        7.25     0.00\n",
            "oe_ratio             -6.09     0.00\n",
            "rehab_prem            1.62     0.00\n",
            "rehab_cost           -6.36     0.00\n",
            "growth_revs           1.77     0.00\n",
            "growth_costs         -0.18     0.01\n",
            "caprate_exit         -6.47     0.00\n"
          ],
          "name": "stdout"
        }
      ]
    },
    {
      "cell_type": "markdown",
      "metadata": {
        "id": "xl4zPz_Oe9jJ",
        "colab_type": "text"
      },
      "source": [
        "List some descriptive statistics for IRR, stabilized rent rate, and occupancy."
      ]
    },
    {
      "cell_type": "code",
      "metadata": {
        "id": "NKN2J1VvcoCX",
        "colab_type": "code",
        "outputId": "234a9dd7-4b9c-4962-9047-850d69b3e81f",
        "colab": {
          "base_uri": "https://localhost:8080/",
          "height": 196
        }
      },
      "source": [
        "quail.describe([\"IRR\",\"rent_rate_stab\", \"occ_stab\"], scale=(100, 1, 100))"
      ],
      "execution_count": 92,
      "outputs": [
        {
          "output_type": "stream",
          "text": [
            "          IRR rent_rate_stab occ_stab\n",
            "count   96.00         100.00   100.00\n",
            "mean    10.63         991.11    87.09\n",
            "std      9.74          49.30     8.30\n",
            "min    -18.50         884.51    61.56\n",
            "5%      -5.71         912.32    71.70\n",
            "25%      3.26         959.38    82.34\n",
            "50%     11.16         992.64    88.99\n",
            "75%     18.12       1,020.43    93.39\n",
            "95%     25.32       1,080.15    97.33\n",
            "max     29.61       1,114.05    97.98\n"
          ],
          "name": "stdout"
        }
      ]
    },
    {
      "cell_type": "markdown",
      "metadata": {
        "id": "RJDGrLBqPmwf",
        "colab_type": "text"
      },
      "source": [
        "## Issues"
      ]
    },
    {
      "cell_type": "markdown",
      "metadata": {
        "id": "-_Dg0augfVPs",
        "colab_type": "text"
      },
      "source": [
        "Program should be able to match precision with user-defined mu for each variable. It works except when mu includes trailng zeroes."
      ]
    },
    {
      "cell_type": "code",
      "metadata": {
        "id": "UtqMbsHNC3IK",
        "colab_type": "code",
        "outputId": "967f7abf-2bb8-4a84-a221-9184d2c042d0",
        "colab": {
          "base_uri": "https://localhost:8080/",
          "height": 33
        }
      },
      "source": [
        "mu = 0.90\n",
        "draw = 0.98\n",
        "round(draw, len(str(mu).split('.')[1]))"
      ],
      "execution_count": 93,
      "outputs": [
        {
          "output_type": "execute_result",
          "data": {
            "text/plain": [
              "1.0"
            ]
          },
          "metadata": {
            "tags": []
          },
          "execution_count": 93
        }
      ]
    }
  ]
}