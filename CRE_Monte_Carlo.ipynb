{
  "nbformat": 4,
  "nbformat_minor": 0,
  "metadata": {
    "colab": {
      "name": "CRE_Monte_Carlo.ipynb",
      "provenance": [],
      "collapsed_sections": [],
      "include_colab_link": true
    },
    "kernelspec": {
      "name": "python3",
      "display_name": "Python 3"
    }
  },
  "cells": [
    {
      "cell_type": "markdown",
      "metadata": {
        "id": "view-in-github",
        "colab_type": "text"
      },
      "source": [
        "<a href=\"https://colab.research.google.com/github/tedteske/CRE_Monte_Carlo/blob/master/CRE_Monte_Carlo.ipynb\" target=\"_parent\"><img src=\"https://colab.research.google.com/assets/colab-badge.svg\" alt=\"Open In Colab\"/></a>"
      ]
    },
    {
      "cell_type": "markdown",
      "metadata": {
        "id": "wT8Wvlb6gUlE",
        "colab_type": "text"
      },
      "source": [
        "### Import libraries and class definition\n"
      ]
    },
    {
      "cell_type": "code",
      "metadata": {
        "id": "j2C6hKNIcoBb",
        "colab_type": "code",
        "cellView": "both",
        "colab": {}
      },
      "source": [
        "import warnings\n",
        "warnings.simplefilter(action='ignore', category=FutureWarning)\n",
        "warnings.simplefilter(action='ignore', category=DeprecationWarning)\n",
        "\n",
        "import pandas as pd\n",
        "import numpy as np\n",
        "import seaborn as sns\n",
        "import matplotlib.pyplot as plt\n",
        "from scipy.stats import norm, truncnorm, skew\n",
        "import statsmodels.api as sm  # for calculating elasticities\n",
        "\n",
        "pd.options.mode.chained_assignment = None  # solve why this is necessary\n",
        "# pd.set_option('max_columns', None)  # to prevent pandas truncating print(df)\n",
        "pd.reset_option('max_columns')  # to reset to default setting\n",
        "\n",
        "\n",
        "class apartment_complex:\n",
        "\n",
        "    def __init__(self, project_params, common_params, description=None):\n",
        "\n",
        "        self.description = description\n",
        "        self.project_params = project_params \n",
        "        # because used in print_simulation()\n",
        "        \n",
        "        self.v = common_params.copy()\n",
        "        self.v.update(project_params) \n",
        "        # project_params override common_params where equal\n",
        "        \n",
        "        for k in sorted(self.v.keys()): \n",
        "            self.v[k] = self.parse_input_params(self.v[k])\n",
        "        self.v = pd.DataFrame.from_dict(self.v, orient='columns')\n",
        "        # self.iter_params()\n",
        "        \n",
        "    def parse_input_params(self, var_params):\n",
        "        '''     \n",
        "        Converts model parameter item to a list of length 5 and fill blanks. \n",
        "\n",
        "        Parameters\n",
        "        ----------\n",
        "        var_params (list) : mu, sigma, lower bound, upper bound; \n",
        "            not always complete\n",
        "\n",
        "        Returns\n",
        "        -------\n",
        "        var_params (list) : mu, sigma, lower bound, upper bound, 0; \n",
        "            Last list item is a placeholder for a single sample draw.\n",
        "        '''\n",
        "\n",
        "        if type(var_params) in (int, float): \n",
        "            var_params = [var_params]\n",
        "        \n",
        "        var_params = var_params + [0, None, None, None, None][len(var_params):] \n",
        "        var_params[2] = var_params[2] if var_params[2] is not None else -np.inf\n",
        "        var_params[3] = var_params[3] if var_params[3] is not None else np.inf\n",
        "        var_params[4] = var_params[4] if var_params[4] is not None else 0\n",
        "\n",
        "        return var_params    \n",
        "    \n",
        "    def sample_draw(self, var_params):\n",
        "        '''\n",
        "        Draws normal variates subject to lower and upper bounds. [1]\n",
        "\n",
        "        Parameters\n",
        "        ----------\n",
        "        var_params (list) : mu, sigma, lower bound, upper bound\n",
        "\n",
        "        Returns\n",
        "        -------\n",
        "        draw (float) : random variate from normal or truncnorm distribution\n",
        "        \n",
        "        Notes\n",
        "        -----\n",
        "        [1] see for a description of the method\n",
        "            http://web.ist.utl.pt/~ist11038/compute/qc/,truncG#/lecture4k.pdf\n",
        "        '''\n",
        "        \n",
        "        mu, sigma, lower, upper = var_params[:4]\n",
        "        \n",
        "        if sigma in (None, 0) or np.isnan(sigma):\n",
        "            draw = mu\n",
        "        else:      \n",
        "            if np.isinf(lower) and np.isinf(upper): \n",
        "                # If no upper or lower bounds, draw from normal distribution.  \n",
        "                draw = norm.rvs(loc=mu, scale=sigma) \n",
        "            else:  \n",
        "                # Else draw from truncnorm distribution.\n",
        "                lower_std, upper_std = (lower-mu)/sigma, (upper-mu)/sigma\n",
        "                \n",
        "                lower_pdf = norm.pdf(lower_std, loc=0, scale=1)\n",
        "                upper_pdf = norm.pdf(upper_std, loc=0, scale=1)\n",
        "                \n",
        "                lower_cdf = norm.cdf(lower_std, loc=0, scale=1)\n",
        "                upper_cdf = norm.cdf(upper_std, loc=0, scale=1)\n",
        "\n",
        "                if np.isfinite(lower) and np.isfinite(upper): \n",
        "                    # If both lower and upper finite\n",
        "                    a = upper_std * upper_pdf - lower_std * lower_pdf\n",
        "                    b = upper_cdf - lower_cdf\n",
        "                    c = ((upper_pdf - lower_pdf) / (upper_cdf - lower_cdf))**2               \n",
        "                elif np.isfinite(lower):\n",
        "                    # If lower but not upper is finite\n",
        "                    a = lower_std * lower_pdf\n",
        "                    b = 1 - lower_cdf\n",
        "                    c = (lower_pdf / (1 - lower_cdf))**2\n",
        "                else:\n",
        "                    # If upper but not lower is finite\n",
        "                    a = upper_std * upper_pdf\n",
        "                    b = upper_cdf\n",
        "                    c = (upper_pdf / upper_cdf)**2\n",
        "                    \n",
        "                sigma2 = np.sqrt(sigma**2/(1 - a/b - c))\n",
        "                \n",
        "                pdf_diff = upper_pdf - lower_pdf\n",
        "                cdf_diff = upper_cdf - lower_cdf\n",
        "                mu2 = mu + (sigma2 * pdf_diff / cdf_diff)\n",
        "                \n",
        "                draw = truncnorm.rvs((lower - mu2)/sigma2,\n",
        "                                     (upper - mu2)/sigma2,\n",
        "                                     loc=mu2, scale=sigma2)\n",
        "                \n",
        "            # to give draw same number of decimal places as mu\n",
        "            # draw = round(draw, len(str(mu).split('.')[1])) \n",
        "\n",
        "        return draw\n",
        "    \n",
        "    def draw_params(self, s):\n",
        "        '''\n",
        "        Applies sample draw to full set of variables and append draw set to \n",
        "        dataframe\n",
        "\n",
        "        Parameters\n",
        "        ----------\n",
        "        s (int) : simulation index\n",
        "        '''\n",
        "       \n",
        "        self.v.loc[s] = self.v.loc[:4].apply(self.sample_draw, \n",
        "                                             axis=0, raw=False)\n",
        "                 \n",
        "    def iter_params(self, n=10): \n",
        "        '''\n",
        "        Runs draw_params, simulate n times, appends simulations to multiindex \n",
        "        dataframe.\n",
        "\n",
        "        Parameters\n",
        "        ----------\n",
        "        s (int) : simulation index\n",
        "        n (int) : number of iterations (default 10)    \n",
        "        ''' \n",
        "\n",
        "        index = range(5, n + 5)\n",
        "        columns = self.v.columns\n",
        "        df = pd.DataFrame(index=index, columns=columns)\n",
        "        df = df.fillna(0)  # with 0s rather than NaNs\n",
        "      \n",
        "        self.v = pd.concat([self.v[:5], df])\n",
        "        \n",
        "        func = lambda x: self.sample_draw(self.v[col])       \n",
        "        for col in columns:     \n",
        "            self.v[col][5:] = self.v[col][5:].apply(func)\n",
        "    \n",
        "        p = pd.concat([self.simulate(0)], keys=[0])\n",
        "        for s in index:\n",
        "            p2 = pd.concat([self.simulate(s)], keys=[s])\n",
        "            p = pd.concat([p, p2])    \n",
        "              \n",
        "        self.p = p\n",
        "     \n",
        "    def simulate(self, s=0):\n",
        "        '''\n",
        "        Simulates rental rates, occupancy, and cash flows.\n",
        "\n",
        "        Parameters\n",
        "        ----------\n",
        "        s (int) : simulation index\n",
        "            None if using last param set\n",
        "            0 if default params\n",
        "            4 if single new draw\n",
        "            >4 if draw result of n iterations\n",
        "\n",
        "        Returns\n",
        "        -------\n",
        "        DataFrame\n",
        "        '''\n",
        "        \n",
        "        if s == 4:\n",
        "            self.draw_params(s)\n",
        "                \n",
        "        # --- setup dataframe --- #\n",
        "        index = range(0, int(self.v[\"years\"][s]) + 1)\n",
        "        columns = ['OCC', 'RATE', 'PURCH_SALE', 'CAPEX_MAINT', 'CAPEX_REHAB', \n",
        "                   'LOAN', 'PMT',\n",
        "                   'REV_BASE', 'REV_PREMS', 'OE', 'NOI',\n",
        "                   'FCFE', 'DSCR', 'NOIM', 'COC', 'DEBT_Y', 'IRR', 'NPV']\n",
        "        df = pd.DataFrame(index=index, columns=columns)\n",
        "        df = df.fillna(0)  # with 0s rather than NaNs\n",
        "        \n",
        "        # --- fill with estimated values --- #\n",
        "        g_years = df.index.to_numpy() - 1\n",
        "        growth_costs_factor = (1 + self.v['growth_costs'][s])**g_years\n",
        "        growth_revs_factor = (1 + self.v['growth_revs'][s])**g_years\n",
        "        \n",
        "        df['CAPEX_MAINT'][0] = -self.v['deferred_maint'][s]\n",
        "        df['CAPEX_MAINT'][1:] = (self.v['rental_units'][s] \n",
        "                                 * -self.v['maint_reserve_per_unit'][s])\n",
        "        df['CAPEX_MAINT'][1:] = (df['CAPEX_MAINT'] * growth_costs_factor)[1:] \n",
        "            \n",
        "        stab_year = int(self.v['transition_years'][s] + 1)\n",
        "        df['OCC'] = (self.v['occ_now'][s] \n",
        "                     + (self.v['occ_stab'][s] - self.v['occ_now'][s]) \n",
        "                     * (2 * df.index - 1)/(2 * self.v['transition_years'][s]))\n",
        "        df['OCC'][0] = self.v['occ_now'][s]\n",
        "        df['OCC'][stab_year:] = self.v['occ_stab'][s]\n",
        "        \n",
        "        df['RATE'] = ((self.v['rent_rate_stab'][s] \n",
        "                       - self.v['rent_rate_now'][s]) \n",
        "                      * (2 * df.index - 1) \n",
        "                      / (2 * self.v['transition_years'][s]) \n",
        "                      + self.v['rent_rate_now'][s])\n",
        "        df['RATE'][0] = self.v['rent_rate_now'][s]\n",
        "        df['RATE'][stab_year:] = self.v['rent_rate_stab'][s]\n",
        "        \n",
        "        df['REV_BASE'] = (df['RATE'] * 12 \n",
        "                          * growth_revs_factor \n",
        "                          * (1 + self.v['other_income'][s]) \n",
        "                          * (1 - self.v['credit_loss'][s])\n",
        "                          * self.v['rental_units'][s] \n",
        "                          * df['OCC'])\n",
        "        \n",
        "        rehab_costs, rehab_prems = self.rehab_effects(s)\n",
        "        df['REV_PREMS'][1:] = rehab_prems\n",
        "        df['CAPEX_REHAB'][1:] = -rehab_costs\n",
        "        \n",
        "        if np.isnan(self.v['oe_per_unit'][s]):\n",
        "            df['OE'] = (-self.v['oe_ratio'][s] \n",
        "                        * df['REV_BASE'][1]\n",
        "                        * growth_costs_factor) \n",
        "        else:    \n",
        "            df['OE'] = (-self.v['oe_per_unit'][s] \n",
        "                        * self.v['rental_units'][s] \n",
        "                        * growth_costs_factor)\n",
        "        \n",
        "        df['OE'] = (df['OE'] \n",
        "                    + (df['REV_BASE'] + df['REV_PREMS']) \n",
        "                    * -self.v['mgmt_fee'][s])\n",
        "        \n",
        "        df['REV_BASE'][0], df['REV_PREMS'][0], df['OE'][0] = 0, 0, 0\n",
        "        df['NOI'] = df['REV_BASE'] + df['REV_PREMS'] + df['OE']\n",
        "        \n",
        "        appraisal_NOI, appraisal = self.appraisal()\n",
        "        if np.isnan(self.v['purch_price'][s]): \n",
        "            df['PURCH_SALE'][0] = -appraisal\n",
        "        else:\n",
        "            df['PURCH_SALE'][0] = -self.v['purch_price'][s]\n",
        "        df['PURCH_SALE'][self.v['years'][s]] = (df['NOI'][self.v['years'][s]]\n",
        "                                                / self.v['caprate_exit'][s])\n",
        "        \n",
        "        loan, payoff, pmt, io_pmt = self.loan(appraisal_NOI, appraisal, s)\n",
        "        df['LOAN'][0] = loan\n",
        "        df['PMT'][1:] = pmt\n",
        "        df['PMT'][1:int(self.v['loan_IO_term'][s] + 1)] = io_pmt\n",
        "        df['LOAN'][self.v['years'][s]] = payoff\n",
        "        \n",
        "        df['FCFE'] = (df['PURCH_SALE'] + df['CAPEX_MAINT'] + df['CAPEX_REHAB'] \n",
        "                      + df['LOAN'] + df['PMT'] + df['NOI'])\n",
        "        \n",
        "        # Debt Service Coverage Ratio\n",
        "        df['DSCR'] = df['NOI'][1:] / -df['PMT'][1:] \n",
        "        \n",
        "        # Cumulative levered IRR to end of year\n",
        "        df['IRR'] = df['FCFE'].expanding().apply(np.irr, raw=False) \n",
        "        \n",
        "        # Cash-on-cash return\n",
        "        df['COC'] = df['FCFE'][1:] / -df['FCFE'][0]  \n",
        "        \n",
        "        # Net Present Value\n",
        "        df['NPV'] = np.nan \n",
        "        df['NPV'][-1:] = np.npv(self.v['discount_rate'][s], df['FCFE'])\n",
        "        \n",
        "        # NOI margin\n",
        "        df['NOIM'] = df['NOI'][1:] / (df['REV_BASE'][1:] + df['REV_PREMS'][1:])\n",
        "\n",
        "        # Debt Yield\n",
        "        df['DEBT_Y'] = df['NOI'][1:] / loan \n",
        "        \n",
        "        self.simulation = df\n",
        "        \n",
        "        return self.simulation\n",
        "    \n",
        "    def IRR_attrib(self, s=0, summary=False, formatted=True):\n",
        "        '''     \n",
        "        Decomposes levered IRR [1] into contributions from \n",
        "            market_effects\n",
        "                NOI_baseline : Year 1 NOI held constant over term\n",
        "                capex_maint : deferred maintenance and maintenance-type capex\n",
        "                caprate_compression : capital gains from of change in caprate \n",
        "            mgmt_effects\n",
        "                NOI_improvement\n",
        "                capex_rehab\n",
        "                purch_sale_at_caprate_entry\n",
        "            leverage\n",
        "\n",
        "        Parameters\n",
        "        ----------\n",
        "        s (int) : simulation index\n",
        "        summary (bool) : if True, group by market_effects, mgmt_effects, \n",
        "            and leverage\n",
        "        formatted (bool or str) : \n",
        "            if True, return DataFrame.\n",
        "                with money and rate columns formatted for readability\n",
        "            if 'pretty', format and pretty print\n",
        "            if False, return DataFrame, unformatted\n",
        "\n",
        "        Returns\n",
        "        -------\n",
        "        contribs (DataFrame or string print) : levered IRR, decomposed\n",
        "        \n",
        "        Notes\n",
        "        -----\n",
        "        [1] see for a description of the method\n",
        "            https://www.mckinsey.com/business-functions/\n",
        "            strategy-and-corporate-finance/our-insights/\n",
        "            a-better-way-to-understand-internal-rate-of-return\n",
        "        '''\n",
        "\n",
        "        if s is None:\n",
        "            try:\n",
        "                df = self.simulation.copy()\n",
        "            except:\n",
        "                df = self.simulate(0).copy()\n",
        "        else: \n",
        "            df = self.simulate(s).copy()\n",
        "        \n",
        "        def nfv(rate, vals):\n",
        "            # net future value\n",
        "            count = len(vals)-2\n",
        "            return np.npv(rate, vals) * (1 + rate)**count\n",
        "\n",
        "        leverage_ = df['LOAN'] + df['PMT']\n",
        "\n",
        "        IRR_unlev = np.irr(df['FCFE'] - leverage_)\n",
        "        leverage = df['IRR'].iloc[-1] - IRR_unlev\n",
        "\n",
        "        NOI_baseline_ = df['NOI'].copy()\n",
        "        NOI_baseline_[1:] = NOI_baseline_[1]\n",
        "        NOI_baseline = nfv(IRR_unlev, NOI_baseline_)\n",
        "\n",
        "        capex_maint = nfv(IRR_unlev, df['CAPEX_MAINT'])\n",
        "\n",
        "        NOI_improvement = df['NOI'] - NOI_baseline_\n",
        "        NOI_improvement = nfv(IRR_unlev, NOI_improvement)\n",
        "\n",
        "        capex_rehab = nfv(IRR_unlev, df['CAPEX_REHAB'])\n",
        "\n",
        "        purch = df['PURCH_SALE'].iloc[0]\n",
        "        sale_at_caprate_entry = (df['NOI'].iloc[-1]\n",
        "                                 / self.v['caprate_entry'][s])\n",
        "        purch_sale_at_caprate_entry = purch + sale_at_caprate_entry\n",
        "\n",
        "        caprate_compression = (df['NOI'].iloc[-1]\n",
        "                               / self.v['caprate_exit'][s] \n",
        "                               - sale_at_caprate_entry)\n",
        "\n",
        "        contribs = {'NOI_baseline': NOI_baseline,\n",
        "                    'capex_maint': capex_maint,\n",
        "                    'caprate_compression': caprate_compression,\n",
        "                    'NOI_improvement': NOI_improvement,\n",
        "                    'capex_rehab': capex_rehab,\n",
        "                    'purch_sale_at_caprate_entry': purch_sale_at_caprate_entry}\n",
        "        contribs = pd.Series(contribs)\n",
        "        contribs = contribs/sum(contribs) * IRR_unlev\n",
        "        contribs = contribs.append(pd.Series({'leverage': leverage}))\n",
        "\n",
        "        if summary:  \n",
        "            contribs = {'market_effects': contribs[:3].sum(),\n",
        "                        'mgmt_effects': contribs[3:6].sum(),\n",
        "                        'leverage': leverage}\n",
        "            contribs = pd.Series(contribs)\n",
        "            \n",
        "        if formatted:\n",
        "                return contribs.map('{:.1%}'.format)\n",
        "        else:\n",
        "            return contribs\n",
        "       \n",
        "    def appraisal(self, s=0):\n",
        "        '''\n",
        "        Estimates an initial appraisal value and appraiser's assumed NOI.\n",
        "        \n",
        "        Parameters\n",
        "        ----------\n",
        "        s (int) : simulation index\n",
        "\n",
        "        Returns\n",
        "        -------\n",
        "        appraisal_NOI (float)\n",
        "        appraisal (float)\n",
        "        ''' \n",
        "\n",
        "        revs_per_unit = (self.v['rent_rate_stab'][s] * 12 \n",
        "                         * (1 + self.v['other_income'][s]) \n",
        "                         * (1 - self.v['credit_loss'][s])\n",
        "                         * self.v['occ_stab'][s])\n",
        "        if np.isnan(self.v['oe_per_unit'][s]):\n",
        "            oe_per_unit = -self.v['oe_ratio'][s] * revs_per_unit\n",
        "        else:\n",
        "            oe_per_unit = -self.v['oe_per_unit'][s]\n",
        "        oe_per_unit += -self.v['mgmt_fee'][s] * revs_per_unit\n",
        "        \n",
        "        appraisal_NOI = ((revs_per_unit + oe_per_unit) \n",
        "                         * self.v['rental_units'][s])\n",
        "        appraisal = appraisal_NOI / self.v['caprate_entry'][s]\n",
        "        \n",
        "        return appraisal_NOI, appraisal \n",
        "    \n",
        "    def loan(self, appraisal_NOI, appraisal, s=0):\n",
        "        '''\n",
        "        Calculates loan amount (PV), loan payment (PMT), payoff (FV), \n",
        "        and io_pmt; subject to LTV and DSCR constraints.\n",
        "               \n",
        "        Parameters\n",
        "        ----------\n",
        "        s (int) : simulation index\n",
        "\n",
        "        Returns\n",
        "        -------\n",
        "        loan (float) : loan principle amount\n",
        "        payoff (float) : loan payoff or balloon payment at end of horizon\n",
        "        PMT (float) : annual loan payment\n",
        "        io_pmt (float) : interest-only payment during IO term\n",
        "        ''' \n",
        "               \n",
        "        rate = self.v['loan_rate'][s]\n",
        "        amort = self.v['loan_amort'][s]\n",
        "        LTV = self.v['loan_constraint_LTV'][s]\n",
        "        DSCR = self.v['loan_constraint_DSCR'][s]\n",
        "        years = self.v['years'][s]\n",
        "        loan_IO_term = self.v['loan_IO_term'][s]\n",
        "        costs = self.v['loan_costs'][s]\n",
        "        loan_amount = self.v['loan_amount'][s]\n",
        "\n",
        "        PVAfactor = (1 - (1 + rate)**-amort) / rate\n",
        "        FV_factor = (1 + rate)**(years - loan_IO_term)\n",
        "\n",
        "        if np.isnan(loan_amount):\n",
        "            PV = appraisal * LTV / (1 + costs) \n",
        "            PMT = -min(PV / PVAfactor, appraisal_NOI / DSCR)\n",
        "            PV = PMT * PVAfactor  # in case PV limited by DSCR\n",
        "        else:\n",
        "            PV = loan_amount\n",
        "            PMT = PV / PVAfactor\n",
        "        \n",
        "        payoff = PV * FV_factor - PMT * ((FV_factor - 1) / rate)\n",
        "        loan = -PV * (1 - costs)  # so sign shows CF direction\n",
        "        io_pmt = PV * rate \n",
        "        \n",
        "        return loan, payoff, PMT, io_pmt \n",
        "    \n",
        "    def rehab_effects(self, s=0):\n",
        "        '''\n",
        "        Spreads rent-enhancing rehab costs and benefits over horizon.\n",
        "               \n",
        "        Parameters\n",
        "        ----------\n",
        "        s (int) : simulation index\n",
        "\n",
        "        Returns\n",
        "        -------\n",
        "        rehab_costs (array)\n",
        "        rehab_prems (array)\n",
        "        '''\n",
        "\n",
        "        turnover = self.v['turnover'][s] \n",
        "        rental_units = self.v['rental_units'][s]\n",
        "        years = self.v['years'][s]\n",
        "        rehab_opps = np.ceil(turnover**np.arange(0, years) * rental_units)\n",
        "\n",
        "        cost_per_rehab = self.v['rehab_cost'][s]\n",
        "        growth_costs = self.v['growth_costs'][s]\n",
        "        growth_costs_factors = (1 + growth_costs)**np.arange(0, years) \n",
        "        costs = growth_costs_factors * cost_per_rehab\n",
        "        rehab_costs = costs * rehab_opps * turnover\n",
        "\n",
        "        rehab_prem = self.v['rehab_prem'][s]\n",
        "        growth_revs = self.v['growth_revs'][s]\n",
        "        occ = self.v['occ_stab'][s] \n",
        "        growth_revs_factors = (1 + growth_revs)**np.arange(0, years)\n",
        "        rehab_benefits_unit = growth_revs_factors * rehab_prem * 12 * occ\n",
        "        rehab_prems = (rental_units - rehab_opps) * rehab_benefits_unit \n",
        "        \n",
        "        return rehab_costs, rehab_prems\n",
        "   \n",
        "    def print_simulation(self, s=None, transpose=True, formatted=True):\n",
        "        '''\n",
        "        Pretty prints or returns DataFrame of a single simulation. \n",
        "\n",
        "        Parameters\n",
        "        ----------\n",
        "        s (int) : simulation index\n",
        "                None if using last param set\n",
        "                0 if default params\n",
        "                4 if single new draw\n",
        "                >4 if draw result of n iterations\n",
        "        transpose (bool) : if True, move columns to rows\n",
        "        formatted (bool or str) : \n",
        "            if True, return DataFrame.\n",
        "                with money and rate columns formatted for readability\n",
        "            if 'pretty', format and pretty print\n",
        "            if False, return DataFrame, unformatted\n",
        "\n",
        "        Returns\n",
        "        -------\n",
        "        DataFrame if formatted=='pretty'\n",
        "        '''\n",
        "        \n",
        "        if s is None:\n",
        "            try:\n",
        "                df = self.simulation.copy()\n",
        "            except:\n",
        "                df = self.simulate(0).copy()\n",
        "        else: \n",
        "            df = self.simulate(s).copy()\n",
        "        \n",
        "        if formatted is not False:\n",
        "            df = self.format_columns(df)\n",
        "\n",
        "        if formatted == 'pretty':\n",
        "            df[' '] = \" \"   # used as a spacer\n",
        "            df = df[['OCC', 'RATE', \n",
        "                     ' ', 'REV_BASE', 'REV_PREMS', 'OE', 'NOI', \n",
        "                     ' ', 'PURCH_SALE', 'CAPEX_MAINT', 'CAPEX_REHAB', \n",
        "                     ' ', 'LOAN', 'PMT',\n",
        "                     ' ', 'FCFE', 'DSCR', 'NOIM', 'COC', 'DEBT_Y', \n",
        "                     'IRR', 'NPV']]\n",
        "            \n",
        "            df = df.T  # ignoring transpose flag, transpose if pretty print\n",
        "            if self.description is None:\n",
        "                title = \"SIMULATION \" + str(s)\n",
        "            else:    \n",
        "                title = str(self.description).upper() + \" SIMULATION \" + str(s)\n",
        "            print(title)\n",
        "            print(\"=\" * len(title))\n",
        "            print(df)\n",
        "        \n",
        "        else: \n",
        "            if transpose:\n",
        "                df = df.T\n",
        "            return df\n",
        "\n",
        "    def top(self, col, n=3, year=None, bottom=False, formatted=True):\n",
        "        '''     \n",
        "        Pretty prints or returns DataFrame of top (or bottom) n simulations \n",
        "        sorted by column col.\n",
        "\n",
        "        Parameters\n",
        "        ----------\n",
        "        col (str or list of str) : param or simulation column\n",
        "        n (int) : number of simulations printed (default 3)\n",
        "        year (int) : year in horizon over which to calculate summary stats \n",
        "            of a simulation result. Ignored if summarizing a param.\n",
        "        bottom (bool) : if True, take bottom, rather than top, n simulations\n",
        "        formatted (bool or str) : \n",
        "            if True, return DataFrame.\n",
        "                with money and rate columns formatted for readability\n",
        "            if 'pretty', format and pretty print\n",
        "            if False, return DataFrame, unformatted\n",
        "\n",
        "        Returns\n",
        "        -------\n",
        "        DataFrame if formatted=='pretty'\n",
        "        '''\n",
        "    \n",
        "        df = self.p.copy()\n",
        "        \n",
        "        try:\n",
        "            var = self.v[col][5:]\n",
        "        except:\n",
        "            if year is None: \n",
        "                year = self.v['years'][0]\n",
        "            var = df.xs(year, level=1).iloc[5:][col]  \n",
        "        \n",
        "        if bottom: \n",
        "            title = \"BOTTOM \"\n",
        "            sims = var.nsmallest(n).index\n",
        "        else: \n",
        "            title = \"TOP \"\n",
        "            sims = var.nlargest(n).index\n",
        "        \n",
        "        if formatted is not False:\n",
        "            df = self.format_columns(df)\n",
        "        \n",
        "        if formatted == 'pretty':\n",
        "            print(title + str(n) + \" \" + col + \" SCENARIOS\")\n",
        "            for i in sims:\n",
        "                print(\"\\n\")\n",
        "                self.print_simulation(i, True, 'pretty')\n",
        "        else:\n",
        "            return df.loc[sims].stack().unstack(level=1)\n",
        "    \n",
        "    def format_columns(self, df):\n",
        "        '''\n",
        "        Styles money and rate columns for readability and removes NaNs.\n",
        "        '''\n",
        "\n",
        "        # format money columns\n",
        "        for column in ['PURCH_SALE', 'CAPEX_MAINT', 'CAPEX_REHAB', \n",
        "                       'LOAN', 'PMT', \n",
        "                       'REV_BASE', 'REV_PREMS', 'OE', 'NOI', \n",
        "                       'FCFE', 'NPV']:\n",
        "            df[column] = df[column].map('{:,.0f}'.format)\n",
        "        df['RATE'] = df['RATE'].map('{:,.2f}'.format)\n",
        "\n",
        "        # format rate columns\n",
        "        for column in ['OCC', 'IRR', 'COC', 'NOIM', 'DEBT_Y']:\n",
        "            df[column] = df[column].map('{:,.1%}'.format)\n",
        "        df[\"DSCR\"] = df['DSCR'].map('{:,.2f}'.format) \n",
        "\n",
        "        for column in ['DSCR', 'IRR', 'COC', 'NPV', 'NOIM', 'DEBT_Y']:\n",
        "            df[column].replace(['None', 'NaN', np.nan, 'nan', 'nan%'], \"\", \n",
        "                               inplace=True)\n",
        "        \n",
        "        return df\n",
        "    \n",
        "    def print_params(self, s=0, print_common_params=False):   \n",
        "        '''\n",
        "        Pretty prints set of input params and values.  \n",
        "\n",
        "        Parameters\n",
        "        ----------\n",
        "        s (int) : simulation index\n",
        "                None if using last param set\n",
        "                0 if default params\n",
        "                4 if single new draw\n",
        "                >4 if draw result of n iterations\n",
        "        print_common_params (bool) : if True, include common params.\n",
        "        '''\n",
        "        \n",
        "        df = self.v[:5]\n",
        "        \n",
        "        if s == 4: \n",
        "            self.draw_params(s)\n",
        "        elif s > 4:\n",
        "            df = pd.concat([df, self.v[s:s + 1]])\n",
        "        \n",
        "        assumption_set = \"(estimate, stdev, min, max, draw)\"\n",
        "        if print_common_params:\n",
        "            keys = sorted(self.v.keys())\n",
        "            title = \"ALL MODEL ASSUMPTIONS \" + assumption_set\n",
        "        else:    \n",
        "            keys = sorted(self.project_params.keys())\n",
        "            title = \"PROJECT-SPECIFIC MODEL ASSUMPTIONS \" + assumption_set\n",
        "            \n",
        "        print(title)\n",
        "        print(\"=\" * len(title)) \n",
        "        for k in keys: \n",
        "            print(k, \":\", df[k].tolist())\n",
        "    \n",
        "    def describe(self, col, year=None, scale=1):\n",
        "        '''\n",
        "        Prints a table of summary statistics on column(s) col.\n",
        "\n",
        "        Parameters\n",
        "        ----------\n",
        "        col (str or list of str) : param or simulation column\n",
        "        year (int) :  year in horizon over which to calculate summary stats \n",
        "            of a simulation result; ignored if summarizing a param\n",
        "        scale (float) : scales the summary statistics\n",
        "        '''\n",
        "\n",
        "        if type(col) == str:\n",
        "            col = [col]\n",
        "        if not hasattr(scale, '__iter__'): \n",
        "            scale = [scale] * len(col)  # if scale not an iterable\n",
        "        df = pd.DataFrame()\n",
        "        \n",
        "        for i, c in enumerate(col):\n",
        "            try:\n",
        "                df = df.append(self.v[c][5:] * scale[i]) \n",
        "            except:\n",
        "                if year is None:\n",
        "                    year = self.v['years'][0]\n",
        "                df = df.append(self.p.xs(year, level=1).iloc[5:][c] * scale[i]) \n",
        "              \n",
        "        described = df.T.describe([0.05, 0.25, 0.5, 0.75, 0.95])\n",
        "        print(described.applymap('{0:,.2f}'.format))\n",
        "             \n",
        "    def elasticities(self, col=\"NPV\"):\n",
        "        '''\n",
        "        Print estimated param elasticities of col (e.g. occ_stab elasticity \n",
        "        of NPV) and associated p-values. Elasticities are estimated only for\n",
        "        stochastic params.\n",
        "        \n",
        "        Parameters\n",
        "        ----------\n",
        "        col (str) : simulation column\n",
        "        '''  \n",
        "\n",
        "        year = self.v['years'][0]\n",
        "\n",
        "        df1 = pd.DataFrame(self.p.xs(year, level=1).iloc[5:][col])\n",
        "        \n",
        "        s = ~np.isnan(self.v[1:2]).T[1]\n",
        "        df2 = self.v[5:][[column for column in s[s==True].index]]\n",
        "        df3 = df1.join(df2)\n",
        "        \n",
        "        df3 = df3[(df3 > 0).all(1)] \n",
        "        # removes any row with a negative number in any column\n",
        "        \n",
        "        OLS_dep_var = np.log(df3[col])   # response\n",
        "        OLS_ind_var = np.log(df3.drop([col], axis=1))  # predictor\n",
        "\n",
        "        elasticity_estimate = sm.OLS(OLS_dep_var, \n",
        "                                     OLS_ind_var, missing='drop').fit()\n",
        "\n",
        "        title = \"SENSITIVITY ANALYSIS: ELASTICITY OF \" \n",
        "        title += str(col) + \" WITH RESPECT TO UNCERTAIN ASSUMPTIONS\"\n",
        "        print(title)\n",
        "        print(\"=\" * len(title))\n",
        "        print (pd.DataFrame({'elasticity': elasticity_estimate.params.round(2),\n",
        "                             'p-value': elasticity_estimate.pvalues.round(2)}))\n",
        "    \n",
        "    def plot_col(self, col, year=None, xlabel=None, \n",
        "                 scale=1, bw=0.05, kde=True):\n",
        "        '''\n",
        "        Plots a distribution of columns col as a histogram or kernel density \n",
        "        estimate.\n",
        "\n",
        "        Parameters\n",
        "        ----------\n",
        "        col (str) : simulation column\n",
        "        year (int) :  year in horizon over which to plot simulation results; \n",
        "            ignored if summarizing a param\n",
        "        scale (float) : scales the variable\n",
        "        xlabel (str) : label for the x-axis\n",
        "        bw (float) : bandwidth\n",
        "        kde (bool) : If True, display as kernel denisity estimate.\n",
        "            If False, display as histogram.\n",
        "                \n",
        "        Example Usage\n",
        "        ------------- \n",
        "        plot_col(\"NPV\",scale=1/1e6, xlabel=\"NPV ($M)\")\n",
        "        plot_col(\"IRR\",scale=100, xlabel=\"IRR (%)\")\n",
        "        plot_col(\"occ_stab\",scale=100, xlabel=\"occ_stab (%)\")\n",
        "        '''\n",
        "      \n",
        "        try:\n",
        "            var = self.v[col][5:]\n",
        "        except:\n",
        "            if year is None:\n",
        "                year = self.v['years'][0]\n",
        "            var = self.p.xs(year, level=1).iloc[5:][col]\n",
        "\n",
        "        var = var.dropna()\n",
        "        var = var * scale\n",
        "\n",
        "        avg, stdev = np.mean(var), np.std(var)\n",
        "        min_, max_ = np.min(var), np.max(var)\n",
        "        conf_int_low = max(min_, avg - stdev * 1.96)\n",
        "        conf_int_high = min(max_, avg + stdev * 1.96)       \n",
        "        \n",
        "        plt.figure(figsize=(10, 10/1.6)) \n",
        "        ax = sns.distplot(var, kde=kde, hist=not kde, label=col,\n",
        "                          norm_hist=True, kde_kws={'bw': bw, 'shade': True})\n",
        "        ax.set(xlabel=xlabel, \n",
        "               ylabel=\"relative frequency\")\n",
        "\n",
        "        if kde:\n",
        "            c = ax.get_lines()[-1].get_c()    \n",
        "            plt.axvline(avg, color=c, linestyle='dashed', label=r'$\\bar{x}$')\n",
        "            plt.axvline(conf_int_low, color=c, linestyle='dotted', \n",
        "                        label=r'$\\bar{x} \\pm 2s$')\n",
        "            plt.axvline(conf_int_high, color=c, linestyle='dotted')      \n",
        "\n",
        "        leg = plt.legend(fontsize='large')\n",
        "        plt.show()"
      ],
      "execution_count": 0,
      "outputs": []
    },
    {
      "cell_type": "markdown",
      "metadata": {
        "id": "ZWBGyyWzeQVl",
        "colab_type": "text"
      },
      "source": [
        "### Example usage, Quail Apartments"
      ]
    },
    {
      "cell_type": "markdown",
      "metadata": {
        "id": "EKv6HzN7bcpT",
        "colab_type": "text"
      },
      "source": [
        "Initialize Quail Apartments with underwriting assumptions and simulate 100 times."
      ]
    },
    {
      "cell_type": "code",
      "metadata": {
        "id": "lV9brMRycoBW",
        "colab_type": "code",
        "colab": {}
      },
      "source": [
        "# --- parameters (estimate, stdev, lower bound, upper bound;--- #\n",
        "# --- \"None\" for no stdev, lower or upper)--- #\n",
        "\n",
        "# --- project-specific params \n",
        "# --- Note these take precedence over common params where keys equal. ---#\n",
        "quail_params = {  'rental_units': 50, \n",
        "                  'unit_area': 750, \n",
        "                  \n",
        "                  # operations\n",
        "                  'transition_years': 0,\n",
        "                  'occ_now': 0.9,\n",
        "                  'occ_stab': [0.90, 0.1, 0, 0.98], \n",
        "                  'rent_rate_now': 1000,  # current rates              \n",
        "                  'rent_rate_stab': [1000, 50], \n",
        "                  'other_income': 0, \n",
        "                  \"credit_loss\": 0,\n",
        "                  'oe_per_unit': [None],  # [None] if use oe_ration instead\n",
        "                  'oe_ratio': [0.5, 0.05],\n",
        "                  'mgmt_fee': 0.00,             \n",
        "                  \n",
        "                  # capex\n",
        "                  'turnover': 0.5,\n",
        "                  'rehab_prem': [150, 50],\n",
        "                  'rehab_cost': [15000, 75],\n",
        "                  'maint_reserve_per_unit': 300,\n",
        "                  'deferred_maint': 200000,\n",
        "                  \n",
        "                  # leverage\n",
        "                  'loan_rate': 0.0350,\n",
        "                  'loan_constraint_LTV': 0.75,\n",
        "                  'loan_constraint_DSCR': 1.25,\n",
        "                  'loan_amort': 30,\n",
        "                  'loan_amount': [None],  # [None] if no loan commitment\n",
        "                  'loan_IO_term': 0, \n",
        "                  'loan_costs': 0,  # as a fraction of loan amount\n",
        "                  \n",
        "                  # growth, caprates, purchase\n",
        "                  'growth_revs': [0.030, 0.015],  \n",
        "                  'growth_costs': [0.025, 0.015], \n",
        "                  'caprate_entry': 0.055, \n",
        "                  'caprate_exit': [0.060, 0.01, 0.055],\n",
        "                  'purch_price': [None]  # [None] if purch_price == appraisal\n",
        "                  }\n",
        "\n",
        "# --- common params --- #\n",
        "common_params =  {\"discount_rate\": 0.10, #caprate + average growth in NOI\n",
        "                  \"years\": 5} \n",
        "                  \n",
        "# Initialize quail, an apartment complex of class apartment, \n",
        "# and run 100 simulations\n",
        "quail = apartment_complex(quail_params, common_params, \n",
        "                          description = \"Quail Apartments\")\n",
        "quail.iter_params(100)"
      ],
      "execution_count": 0,
      "outputs": []
    },
    {
      "cell_type": "markdown",
      "metadata": {
        "id": "rUp2nlzUcEOg",
        "colab_type": "text"
      },
      "source": [
        "Print proforma."
      ]
    },
    {
      "cell_type": "code",
      "metadata": {
        "id": "bOtXx1YefCua",
        "colab_type": "code",
        "outputId": "a3b2d60e-fc8f-4136-f9d3-b24d3faffd87",
        "colab": {
          "base_uri": "https://localhost:8080/",
          "height": 423
        }
      },
      "source": [
        "quail.print_simulation(0, transpose=False, formatted='pretty')"
      ],
      "execution_count": 36,
      "outputs": [
        {
          "output_type": "stream",
          "text": [
            "QUAIL APARTMENTS SIMULATION 0\n",
            "=============================\n",
            "                      0         1         2         3         4           5\n",
            "OCC               90.0%     90.0%     90.0%     90.0%     90.0%       90.0%\n",
            "RATE           1,000.00  1,000.00  1,000.00  1,000.00  1,000.00    1,000.00\n",
            "                                                                           \n",
            "REV_BASE              0   540,000   556,200   572,886   590,073     607,775\n",
            "REV_PREMS             0         0    41,715    63,590    76,119      83,873\n",
            "OE                    0  -270,000  -276,750  -283,669  -290,760    -298,029\n",
            "NOI                   0   270,000   321,165   352,808   375,431     393,618\n",
            "                                                                           \n",
            "PURCH_SALE   -4,909,090         0         0         0         0   6,560,303\n",
            "CAPEX_MAINT    -200,000   -15,000   -15,375   -15,759   -16,153     -16,557\n",
            "CAPEX_REHAB           0  -375,000  -192,187  -102,436   -56,537     -33,114\n",
            "                                                                           \n",
            "LOAN          3,681,818         0         0         0         0  -3,299,357\n",
            "PMT                   0  -200,185  -200,185  -200,185  -200,185    -200,185\n",
            "                                                                           \n",
            "FCFE         -1,427,272  -320,185   -86,583    34,427   102,556   3,404,707\n",
            "DSCR                         1.35      1.60      1.76      1.88        1.97\n",
            "NOIM                        50.0%     53.7%     55.4%     56.4%       56.9%\n",
            "COC                        -22.4%     -6.1%      2.4%      7.2%      238.5%\n",
            "DEBT_Y                       7.3%      8.7%      9.6%     10.2%       10.7%\n",
            "IRR                                            -82.0%    -53.4%       15.0%\n",
            "NPV                                                                 420,062\n"
          ],
          "name": "stdout"
        }
      ]
    },
    {
      "cell_type": "markdown",
      "metadata": {
        "id": "KpSrDSqvcYnf",
        "colab_type": "text"
      },
      "source": [
        "Break down the components of levered IRR. See for background: https://www.mckinsey.com/business-functions/strategy-and-corporate-finance/our-insights/a-better-way-to-understand-internal-rate-of-return "
      ]
    },
    {
      "cell_type": "code",
      "metadata": {
        "id": "Uy8W5vDdyFuZ",
        "colab_type": "code",
        "outputId": "9222bb40-51ec-4d73-b618-e0db92fbb36b",
        "colab": {
          "base_uri": "https://localhost:8080/",
          "height": 147
        }
      },
      "source": [
        "quail.IRR_attrib(0, summary=False, formatted=True)"
      ],
      "execution_count": 37,
      "outputs": [
        {
          "output_type": "execute_result",
          "data": {
            "text/plain": [
              "NOI_baseline                    5.2%\n",
              "capex_maint                    -1.3%\n",
              "caprate_compression            -2.1%\n",
              "NOI_improvement                 1.3%\n",
              "capex_rehab                    -3.2%\n",
              "purch_sale_at_caprate_entry     8.0%\n",
              "leverage                        7.1%\n",
              "dtype: object"
            ]
          },
          "metadata": {
            "tags": []
          },
          "execution_count": 37
        }
      ]
    },
    {
      "cell_type": "markdown",
      "metadata": {
        "id": "omdRCVBbcxkU",
        "colab_type": "text"
      },
      "source": [
        "Group by the effects of the market, management, and leverage. "
      ]
    },
    {
      "cell_type": "code",
      "metadata": {
        "id": "rOJLFFHobPFO",
        "colab_type": "code",
        "outputId": "ac267c55-0f93-4252-9613-cb1cfb325101",
        "colab": {
          "base_uri": "https://localhost:8080/",
          "height": 82
        }
      },
      "source": [
        "quail.IRR_attrib(summary=True, formatted=True)"
      ],
      "execution_count": 38,
      "outputs": [
        {
          "output_type": "execute_result",
          "data": {
            "text/plain": [
              "market_effects    1.8%\n",
              "mgmt_effects      6.1%\n",
              "leverage          7.1%\n",
              "dtype: object"
            ]
          },
          "metadata": {
            "tags": []
          },
          "execution_count": 38
        }
      ]
    },
    {
      "cell_type": "markdown",
      "metadata": {
        "id": "9F0H0wjHc_Bl",
        "colab_type": "text"
      },
      "source": [
        "What are the top 3 IRR scenarios?"
      ]
    },
    {
      "cell_type": "code",
      "metadata": {
        "id": "EMr0cWYfcoBw",
        "colab_type": "code",
        "outputId": "3f15ad53-f593-40a3-bed2-2f98cca81d9a",
        "colab": {
          "base_uri": "https://localhost:8080/",
          "height": 1000
        }
      },
      "source": [
        "quail.top(\"IRR\", formatted='pretty')"
      ],
      "execution_count": 39,
      "outputs": [
        {
          "output_type": "stream",
          "text": [
            "TOP 3 IRR SCENARIOS\n",
            "\n",
            "\n",
            "QUAIL APARTMENTS SIMULATION 51\n",
            "==============================\n",
            "                      0         1         2         3         4           5\n",
            "OCC               90.0%     94.5%     94.5%     94.5%     94.5%       94.5%\n",
            "RATE           1,000.00  1,040.52  1,040.52  1,040.52  1,040.52    1,040.52\n",
            "                                                                           \n",
            "REV_BASE              0   589,876   608,817   628,367   648,544     669,369\n",
            "REV_PREMS             0         0    29,122    44,484    53,358      58,914\n",
            "OE                    0  -221,489  -225,486  -229,555  -233,697    -237,914\n",
            "NOI                   0   368,387   412,453   443,296   468,205     490,369\n",
            "                                                                           \n",
            "PURCH_SALE   -4,909,090         0         0         0         0   8,689,324\n",
            "CAPEX_MAINT    -200,000   -15,000   -15,271   -15,546   -15,827     -16,112\n",
            "CAPEX_REHAB           0  -375,135  -190,952  -101,087   -55,414     -32,236\n",
            "                                                                           \n",
            "LOAN          3,681,818         0         0         0         0  -3,299,357\n",
            "PMT                   0  -200,185  -200,185  -200,185  -200,185    -200,185\n",
            "                                                                           \n",
            "FCFE         -1,427,272  -221,934     6,045   126,478   196,779   5,631,802\n",
            "DSCR                         1.84      2.06      2.21      2.34        2.45\n",
            "NOIM                        62.5%     64.7%     65.9%     66.7%       67.3%\n",
            "COC                        -15.5%      0.4%      8.9%     13.8%      394.6%\n",
            "DEBT_Y                      10.0%     11.2%     12.0%     12.7%       13.3%\n",
            "IRR                                  -97.6%    -59.8%    -37.1%       30.8%\n",
            "NPV                                                               2,102,299\n",
            "\n",
            "\n",
            "QUAIL APARTMENTS SIMULATION 25\n",
            "==============================\n",
            "                      0         1         2         3         4           5\n",
            "OCC               90.0%     96.4%     96.4%     96.4%     96.4%       96.4%\n",
            "RATE           1,000.00  1,006.90  1,006.90  1,006.90  1,006.90    1,006.90\n",
            "                                                                           \n",
            "REV_BASE              0   582,388   606,898   632,439   659,055     686,792\n",
            "REV_PREMS             0         0    49,802    76,809    93,021     103,698\n",
            "OE                    0  -240,819  -251,870  -263,429  -275,518    -288,162\n",
            "NOI                   0   341,569   404,829   445,819   476,558     502,328\n",
            "                                                                           \n",
            "PURCH_SALE   -4,909,090         0         0         0         0   8,655,537\n",
            "CAPEX_MAINT    -200,000   -15,000   -15,688   -16,408   -17,161     -17,949\n",
            "CAPEX_REHAB           0  -373,717  -195,434  -106,289   -59,859     -35,775\n",
            "                                                                           \n",
            "LOAN          3,681,818         0         0         0         0  -3,299,357\n",
            "PMT                   0  -200,185  -200,185  -200,185  -200,185    -200,185\n",
            "                                                                           \n",
            "FCFE         -1,427,272  -247,333    -6,478   122,936   199,352   5,604,599\n",
            "DSCR                         1.71      2.02      2.23      2.38        2.51\n",
            "NOIM                        58.6%     61.6%     62.9%     63.4%       63.5%\n",
            "COC                        -17.3%     -0.5%      8.6%     14.0%      392.7%\n",
            "DEBT_Y                       9.3%     11.0%     12.1%     12.9%       13.6%\n",
            "IRR                                            -61.2%    -37.8%       30.2%\n",
            "NPV                                                               2,051,065\n",
            "\n",
            "\n",
            "QUAIL APARTMENTS SIMULATION 94\n",
            "==============================\n",
            "                      0         1         2         3         4           5\n",
            "OCC               90.0%     95.4%     95.4%     95.4%     95.4%       95.4%\n",
            "RATE           1,000.00    979.75    979.75    979.75    979.75      979.75\n",
            "                                                                           \n",
            "REV_BASE              0   560,598   591,248   623,574   657,667     693,624\n",
            "REV_PREMS             0         0    73,661   114,978   140,929     159,004\n",
            "OE                    0  -263,872  -271,312  -278,962  -286,828    -294,915\n",
            "NOI                   0   296,726   393,596   459,590   511,768     557,713\n",
            "                                                                           \n",
            "PURCH_SALE   -4,909,090         0         0         0         0   8,450,471\n",
            "CAPEX_MAINT    -200,000   -15,000   -15,423   -15,858   -16,305     -16,765\n",
            "CAPEX_REHAB           0  -378,056  -194,358  -103,916   -57,532     -33,803\n",
            "                                                                           \n",
            "LOAN          3,681,818         0         0         0         0  -3,299,357\n",
            "PMT                   0  -200,185  -200,185  -200,185  -200,185    -200,185\n",
            "                                                                           \n",
            "FCFE         -1,427,272  -296,516   -16,370   139,631   237,745   5,458,074\n",
            "DSCR                         1.48      1.97      2.30      2.56        2.79\n",
            "NOIM                        52.9%     59.2%     62.2%     64.1%       65.4%\n",
            "COC                        -20.8%     -1.1%      9.8%     16.7%      382.4%\n",
            "DEBT_Y                       8.1%     10.7%     12.5%     13.9%       15.1%\n",
            "IRR                                            -60.6%    -35.8%       29.2%\n",
            "NPV                                                               1,945,964\n"
          ],
          "name": "stdout"
        }
      ]
    },
    {
      "cell_type": "markdown",
      "metadata": {
        "id": "_0EykLZYdHtH",
        "colab_type": "text"
      },
      "source": [
        "and the worst 3?"
      ]
    },
    {
      "cell_type": "code",
      "metadata": {
        "id": "V4BSUE1JcoB1",
        "colab_type": "code",
        "outputId": "5d97cc6c-2209-4cbe-a69b-62c0506983ec",
        "colab": {
          "base_uri": "https://localhost:8080/",
          "height": 1000
        }
      },
      "source": [
        "quail.top(\"IRR\", bottom=True, formatted='pretty')"
      ],
      "execution_count": 40,
      "outputs": [
        {
          "output_type": "stream",
          "text": [
            "BOTTOM 3 IRR SCENARIOS\n",
            "\n",
            "\n",
            "QUAIL APARTMENTS SIMULATION 43\n",
            "==============================\n",
            "                      0         1         2         3         4           5\n",
            "OCC               90.0%     66.2%     66.2%     66.2%     66.2%       66.2%\n",
            "RATE           1,000.00  1,127.48  1,127.48  1,127.48  1,127.48    1,127.48\n",
            "                                                                           \n",
            "REV_BASE              0   447,536   456,537   465,719   475,086     484,641\n",
            "REV_PREMS             0         0    18,463    27,875    33,047      36,064\n",
            "OE                    0  -279,859  -279,548  -279,238  -278,928    -278,618\n",
            "NOI                   0   167,677   195,452   214,356   229,205     242,086\n",
            "                                                                           \n",
            "PURCH_SALE   -4,909,090         0         0         0         0   3,703,580\n",
            "CAPEX_MAINT    -200,000   -15,000   -14,983   -14,967   -14,950     -14,934\n",
            "CAPEX_REHAB           0  -377,047  -188,314   -97,815   -52,611     -30,030\n",
            "                                                                           \n",
            "LOAN          3,681,818         0         0         0         0  -3,299,357\n",
            "PMT                   0  -200,185  -200,185  -200,185  -200,185    -200,185\n",
            "                                                                           \n",
            "FCFE         -1,427,272  -424,555  -208,031   -98,610   -38,542     401,160\n",
            "DSCR                         0.84      0.98      1.07      1.14        1.21\n",
            "NOIM                        37.5%     41.1%     43.4%     45.1%       46.5%\n",
            "COC                        -29.7%    -14.6%     -6.9%     -2.7%       28.1%\n",
            "DEBT_Y                       4.6%      5.3%      5.8%      6.2%        6.6%\n",
            "IRR                                                                  -33.4%\n",
            "NPV                                                              -1,836,480\n",
            "\n",
            "\n",
            "QUAIL APARTMENTS SIMULATION 56\n",
            "==============================\n",
            "                      0         1         2         3         4           5\n",
            "OCC               90.0%     55.9%     55.9%     55.9%     55.9%       55.9%\n",
            "RATE           1,000.00    996.06    996.06    996.06    996.06      996.06\n",
            "                                                                           \n",
            "REV_BASE              0   333,868   342,031   350,394   358,962     367,738\n",
            "REV_PREMS             0         0    18,149    27,518    32,762      35,905\n",
            "OE                    0  -206,231  -202,867  -199,557  -196,301    -193,098\n",
            "NOI                   0   127,637   157,314   178,355   195,423     210,545\n",
            "                                                                           \n",
            "PURCH_SALE   -4,909,090         0         0         0         0   3,798,446\n",
            "CAPEX_MAINT    -200,000   -15,000   -14,755   -14,515   -14,278     -14,045\n",
            "CAPEX_REHAB           0  -375,662  -184,767   -94,511   -50,060     -28,139\n",
            "                                                                           \n",
            "LOAN          3,681,818         0         0         0         0  -3,299,357\n",
            "PMT                   0  -200,185  -200,185  -200,185  -200,185    -200,185\n",
            "                                                                           \n",
            "FCFE         -1,427,272  -463,211  -242,393  -130,856   -69,100     467,265\n",
            "DSCR                         0.64      0.79      0.89      0.98        1.05\n",
            "NOIM                        38.2%     43.7%     47.2%     49.9%       52.2%\n",
            "COC                        -32.5%    -17.0%     -9.2%     -4.8%       32.7%\n",
            "DEBT_Y                       3.5%      4.3%      4.8%      5.3%        5.7%\n",
            "IRR                                                                  -32.9%\n",
            "NPV                                                              -1,904,073\n",
            "\n",
            "\n",
            "QUAIL APARTMENTS SIMULATION 96\n",
            "==============================\n",
            "                      0         1         2         3         4           5\n",
            "OCC               90.0%     71.1%     71.1%     71.1%     71.1%       71.1%\n",
            "RATE           1,000.00  1,037.96  1,037.96  1,037.96  1,037.96    1,037.96\n",
            "                                                                           \n",
            "REV_BASE              0   443,003   452,520   462,240   472,169     482,312\n",
            "REV_PREMS             0         0    33,799    51,098    60,659      66,285\n",
            "OE                    0  -263,396  -274,646  -286,376  -298,607    -311,361\n",
            "NOI                   0   179,607   211,673   226,962   234,221     237,236\n",
            "                                                                           \n",
            "PURCH_SALE   -4,909,090         0         0         0         0   3,992,361\n",
            "CAPEX_MAINT    -200,000   -15,000   -15,641   -16,309   -17,005     -17,731\n",
            "CAPEX_REHAB           0  -376,214  -196,141  -106,350   -59,711     -35,578\n",
            "                                                                           \n",
            "LOAN          3,681,818         0         0         0         0  -3,299,357\n",
            "PMT                   0  -200,185  -200,185  -200,185  -200,185    -200,185\n",
            "                                                                           \n",
            "FCFE         -1,427,272  -411,792  -200,294   -95,882   -42,680     676,746\n",
            "DSCR                         0.90      1.06      1.13      1.17        1.19\n",
            "NOIM                        40.5%     43.5%     44.2%     44.0%       43.2%\n",
            "COC                        -28.9%    -14.0%     -6.7%     -3.0%       47.4%\n",
            "DEBT_Y                       4.9%      5.7%      6.2%      6.4%        6.4%\n",
            "IRR                                                                  -24.0%\n",
            "NPV                                                              -1,648,143\n"
          ],
          "name": "stdout"
        }
      ]
    },
    {
      "cell_type": "markdown",
      "metadata": {
        "id": "PYcHgFuvdVgO",
        "colab_type": "text"
      },
      "source": [
        "Wow, scenario 20 looks pretty bad. Review the variables used to calculate this scenario."
      ]
    },
    {
      "cell_type": "code",
      "metadata": {
        "id": "mLHZLgx2coCC",
        "colab_type": "code",
        "outputId": "1bb046ca-2e1c-4a55-b7dc-949a95d10d3a",
        "colab": {
          "base_uri": "https://localhost:8080/",
          "height": 521
        }
      },
      "source": [
        "quail.print_params(43)"
      ],
      "execution_count": 49,
      "outputs": [
        {
          "output_type": "stream",
          "text": [
            "PROJECT-SPECIFIC MODEL ASSUMPTIONS (estimate, stdev, min, max, draw)\n",
            "====================================================================\n",
            "caprate_entry : [0.055, nan, -inf, inf, 0.0, 0.055]\n",
            "caprate_exit : [0.06, 0.01, 0.055, inf, 0.0, 0.0653653987571617]\n",
            "credit_loss : [0.0, nan, -inf, inf, 0.0, 0.0]\n",
            "deferred_maint : [200000.0, nan, -inf, inf, 0.0, 200000.0]\n",
            "growth_costs : [0.025, 0.015, -inf, inf, 0.0, -0.0011096626758194568]\n",
            "growth_revs : [0.03, 0.015, -inf, inf, 0.0, 0.02011231783107776]\n",
            "loan_IO_term : [0.0, nan, -inf, inf, 0.0, 0.0]\n",
            "loan_amort : [30.0, nan, -inf, inf, 0.0, 30.0]\n",
            "loan_amount : [nan, nan, -inf, inf, 0.0, nan]\n",
            "loan_constraint_DSCR : [1.25, nan, -inf, inf, 0.0, 1.25]\n",
            "loan_constraint_LTV : [0.75, nan, -inf, inf, 0.0, 0.75]\n",
            "loan_costs : [0.0, nan, -inf, inf, 0.0, 0.0]\n",
            "loan_rate : [0.035, nan, -inf, inf, 0.0, 0.035]\n",
            "maint_reserve_per_unit : [300.0, nan, -inf, inf, 0.0, 300.0]\n",
            "mgmt_fee : [0.0, nan, -inf, inf, 0.0, 0.0]\n",
            "occ_now : [0.9, nan, -inf, inf, 0.0, 0.9]\n",
            "occ_stab : [0.9, 0.1, 0.0, 0.98, 0.0, 0.6615557397446185]\n",
            "oe_per_unit : [nan, nan, -inf, inf, 0.0, nan]\n",
            "oe_ratio : [0.5, 0.05, -inf, inf, 0.0, 0.6253321687095035]\n",
            "other_income : [0.0, nan, -inf, inf, 0.0, 0.0]\n",
            "purch_price : [nan, nan, -inf, inf, 0.0, nan]\n",
            "rehab_cost : [15000.0, 75.0, -inf, inf, 0.0, 15081.870769469551]\n",
            "rehab_prem : [150.0, 50.0, -inf, inf, 0.0, 91.1957179057376]\n",
            "rent_rate_now : [1000.0, nan, -inf, inf, 0.0, 1000.0]\n",
            "rent_rate_stab : [1000.0, 50.0, -inf, inf, 0.0, 1127.4833617663996]\n",
            "rental_units : [50.0, nan, -inf, inf, 0.0, 50.0]\n",
            "transition_years : [0.0, nan, -inf, inf, 0.0, 0.0]\n",
            "turnover : [0.5, nan, -inf, inf, 0.0, 0.5]\n",
            "unit_area : [750.0, nan, -inf, inf, 0.0, 750.0]\n"
          ],
          "name": "stdout"
        }
      ]
    },
    {
      "cell_type": "markdown",
      "metadata": {
        "id": "PGEoSVBedy4v",
        "colab_type": "text"
      },
      "source": [
        "Plot the distribution of stabilized occupancy draws."
      ]
    },
    {
      "cell_type": "code",
      "metadata": {
        "id": "g9Jyw5WScoCJ",
        "colab_type": "code",
        "outputId": "926ca730-bd7b-4e08-e935-9a31e498bb6d",
        "colab": {
          "base_uri": "https://localhost:8080/",
          "height": 402
        }
      },
      "source": [
        "quail.plot_col(\"occ_stab\", scale=100, bw=0.02*100, kde=True,\n",
        "                xlabel=\"Stabilized Occupancy Rate (%)\")"
      ],
      "execution_count": 42,
      "outputs": [
        {
          "output_type": "display_data",
          "data": {
            "image/png": "[encoded data removed]",
            "text/plain": [
              "<Figure size 720x450 with 1 Axes>"
            ]
          },
          "metadata": {
            "tags": [],
            "needs_background": "light"
          }
        }
      ]
    },
    {
      "cell_type": "markdown",
      "metadata": {
        "id": "DQJvaopveCvG",
        "colab_type": "text"
      },
      "source": [
        "Plot the distributions of IRR and NVP to get sense of the risk in this investment."
      ]
    },
    {
      "cell_type": "code",
      "metadata": {
        "id": "5_rDN2i9OHQx",
        "colab_type": "code",
        "outputId": "319535ab-680b-4a0f-e4a5-fa281d64a649",
        "colab": {
          "base_uri": "https://localhost:8080/",
          "height": 402
        }
      },
      "source": [
        "quail.plot_col(\"IRR\", scale=100, bw=0.05*100, \n",
        "                xlabel=\"Internal Rate of Return (%)\")"
      ],
      "execution_count": 43,
      "outputs": [
        {
          "output_type": "display_data",
          "data": {
            "image/png": "[encoded data removed]",
            "text/plain": [
              "<Figure size 720x450 with 1 Axes>"
            ]
          },
          "metadata": {
            "tags": [],
            "needs_background": "light"
          }
        }
      ]
    },
    {
      "cell_type": "code",
      "metadata": {
        "id": "8NgSjaPfcoCO",
        "colab_type": "code",
        "outputId": "71aa9b94-5c3a-4107-de0d-6192f706c77f",
        "colab": {
          "base_uri": "https://localhost:8080/",
          "height": 405
        }
      },
      "source": [
        "scale = 1/1000000\n",
        "quail.plot_col(\"NPV\", scale=scale, bw=0.2, kde=True,\n",
        "                xlabel=\"Net Present Value (millions $)\")"
      ],
      "execution_count": 44,
      "outputs": [
        {
          "output_type": "display_data",
          "data": {
            "image/png": "[encoded data removed]",
            "text/plain": [
              "<Figure size 720x450 with 1 Axes>"
            ]
          },
          "metadata": {
            "tags": [],
            "needs_background": "light"
          }
        }
      ]
    },
    {
      "cell_type": "markdown",
      "metadata": {
        "id": "S6NeW4Z6eblP",
        "colab_type": "text"
      },
      "source": [
        "Is NPV symmetical about the average? Check for skew."
      ]
    },
    {
      "cell_type": "code",
      "metadata": {
        "id": "hqfWwSkAcoCS",
        "colab_type": "code",
        "outputId": "ea68066a-401d-4b64-a30a-b217c2794fce",
        "colab": {
          "base_uri": "https://localhost:8080/",
          "height": 33
        }
      },
      "source": [
        "year = 5\n",
        "col = \"NPV\"\n",
        "round(skew(quail.p.xs(year, level=1).loc[5:][col]),2) "
      ],
      "execution_count": 45,
      "outputs": [
        {
          "output_type": "execute_result",
          "data": {
            "text/plain": [
              "0.05"
            ]
          },
          "metadata": {
            "tags": []
          },
          "execution_count": 45
        }
      ]
    },
    {
      "cell_type": "markdown",
      "metadata": {
        "id": "7jZBK9uDelJa",
        "colab_type": "text"
      },
      "source": [
        "How sensitive is NPV to the stochastic variables? Estimate elasticities."
      ]
    },
    {
      "cell_type": "code",
      "metadata": {
        "id": "Iq1cBzeBcoB6",
        "colab_type": "code",
        "outputId": "70f0c76e-8520-467e-c592-81583942d813",
        "colab": {
          "base_uri": "https://localhost:8080/",
          "height": 196
        }
      },
      "source": [
        "quail.elasticities(\"NPV\")"
      ],
      "execution_count": 46,
      "outputs": [
        {
          "output_type": "stream",
          "text": [
            "SENSITIVITY ANALYSIS: ELASTICITY OF NPV WITH RESPECT TO UNCERTAIN ASSUMPTIONS\n",
            "=============================================================================\n",
            "                elasticity  p-value\n",
            "occ_stab              8.23     0.00\n",
            "rent_rate_stab        4.35     0.19\n",
            "oe_ratio             -4.27     0.00\n",
            "rehab_prem            0.85     0.03\n",
            "rehab_cost           -3.47     0.18\n",
            "growth_revs           0.75     0.00\n",
            "growth_costs         -0.34     0.09\n",
            "caprate_exit         -4.03     0.05\n"
          ],
          "name": "stdout"
        }
      ]
    },
    {
      "cell_type": "markdown",
      "metadata": {
        "id": "xl4zPz_Oe9jJ",
        "colab_type": "text"
      },
      "source": [
        "List some descriptive statistics for IRR, stabilized rent rate, and occupancy."
      ]
    },
    {
      "cell_type": "code",
      "metadata": {
        "id": "NKN2J1VvcoCX",
        "colab_type": "code",
        "outputId": "e59cc7be-c586-47b6-8e4f-3d76bce8cfbb",
        "colab": {
          "base_uri": "https://localhost:8080/",
          "height": 196
        }
      },
      "source": [
        "quail.describe([\"IRR\",\"rent_rate_stab\", \"occ_stab\"], scale=(100, 1, 100))"
      ],
      "execution_count": 47,
      "outputs": [
        {
          "output_type": "stream",
          "text": [
            "          IRR rent_rate_stab occ_stab\n",
            "count   96.00         100.00   100.00\n",
            "mean     8.10       1,009.58    85.53\n",
            "std     14.25          44.87     8.80\n",
            "min    -33.41         911.04    52.29\n",
            "5%     -20.88         938.61    69.01\n",
            "25%      1.84         980.33    81.54\n",
            "50%     12.33       1,005.08    86.04\n",
            "75%     17.52       1,032.57    92.04\n",
            "95%     26.86       1,089.79    96.75\n",
            "max     30.82       1,140.37    97.58\n"
          ],
          "name": "stdout"
        }
      ]
    },
    {
      "cell_type": "markdown",
      "metadata": {
        "id": "RJDGrLBqPmwf",
        "colab_type": "text"
      },
      "source": [
        "## Issues"
      ]
    },
    {
      "cell_type": "markdown",
      "metadata": {
        "id": "-_Dg0augfVPs",
        "colab_type": "text"
      },
      "source": [
        "Program should be able to match precision with user-defined mu for each variable. It works except when mu includes trailng zeroes."
      ]
    },
    {
      "cell_type": "code",
      "metadata": {
        "id": "UtqMbsHNC3IK",
        "colab_type": "code",
        "outputId": "a9b88f65-d259-4ce2-adaa-237d79754b76",
        "colab": {
          "base_uri": "https://localhost:8080/",
          "height": 33
        }
      },
      "source": [
        "mu = 0.90\n",
        "draw = 0.98\n",
        "round(draw, len(str(mu).split('.')[1]))"
      ],
      "execution_count": 48,
      "outputs": [
        {
          "output_type": "execute_result",
          "data": {
            "text/plain": [
              "1.0"
            ]
          },
          "metadata": {
            "tags": []
          },
          "execution_count": 48
        }
      ]
    },
    {
      "cell_type": "code",
      "metadata": {
        "id": "y-9Bm5TsbgR1",
        "colab_type": "code",
        "colab": {
          "base_uri": "https://localhost:8080/",
          "height": 33
        },
        "outputId": "6a9098d3-7693-4bf6-e510-5d95782acd35"
      },
      "source": [
        "len(str(0.91))"
      ],
      "execution_count": 53,
      "outputs": [
        {
          "output_type": "execute_result",
          "data": {
            "text/plain": [
              "4"
            ]
          },
          "metadata": {
            "tags": []
          },
          "execution_count": 53
        }
      ]
    },
    {
      "cell_type": "code",
      "metadata": {
        "id": "Qk46tdfTbiEc",
        "colab_type": "code",
        "colab": {}
      },
      "source": [
        ""
      ],
      "execution_count": 0,
      "outputs": []
    }
  ]
}